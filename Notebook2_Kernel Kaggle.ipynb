{
  "cells": [
    {
      "cell_type": "markdown",
      "metadata": {
        "id": "view-in-github",
        "colab_type": "text"
      },
      "source": [
        "<a href=\"https://colab.research.google.com/github/SimonHeilles/OCP8/blob/dev/Notebook2%20-%20Kernel%20Kaggle.ipynb\" target=\"_parent\"><img src=\"https://colab.research.google.com/assets/colab-badge.svg\" alt=\"Open In Colab\"/></a>"
      ]
    },
    {
      "cell_type": "markdown",
      "id": "0988c1d4",
      "metadata": {
        "papermill": {
          "duration": 0.034824,
          "end_time": "2022-12-06T21:38:43.282295",
          "exception": false,
          "start_time": "2022-12-06T21:38:43.247471",
          "status": "completed"
        },
        "tags": [],
        "id": "0988c1d4"
      },
      "source": [
        "# Competition: [Store Sales - Time Series Forecasting](https://www.kaggle.com/competitions/store-sales-time-series-forecasting)"
      ]
    },
    {
      "cell_type": "markdown",
      "id": "88a184a7",
      "metadata": {
        "papermill": {
          "duration": 0.031815,
          "end_time": "2022-12-06T21:38:43.346357",
          "exception": false,
          "start_time": "2022-12-06T21:38:43.314542",
          "status": "completed"
        },
        "tags": [],
        "id": "88a184a7"
      },
      "source": [
        "## [Short Description](https://www.kaggle.com/competitions/store-sales-time-series-forecasting/overview/description) (and Disclaimer)\n",
        "\n",
        "This is a “getting started” competition, where we use time-series forecasting to forecast store sales on data from Corporación Favorita, a large Ecuadorian-based grocery retailer. I used the [Time Series course on Kaggle](https://www.kaggle.com/learn/time-series) to help me get started, and a lot of the code in this notebook is from that course, which in turn, are inspired by winning solutions from past Kaggle time series forecasting competitions.\n",
        "\n",
        "## [Evaluation](https://www.kaggle.com/competitions/store-sales-time-series-forecasting/overview/evaluation)\n",
        "The evaluation metric for this competition is Root Mean Squared Logarithmic Error.\n",
        "\n",
        "The RMSLE is calculated as:\n",
        "$[\\sqrt{ \\frac{1}{n} \\sum_{i=1}^n \\left(\\log (1 + \\hat{y}_i) - \\log (1 + y_i)\\right)^2}]$\n",
        "where:\n",
        "\n",
        "𝑛 is the total number of instances,  \n",
        "𝑦̂ 𝑖 is the predicted value of the target for instance (i),  \n",
        "𝑦𝑖 is the actual value of the target for instance (i), and,  \n",
        "log is the natural logarithm.\n",
        "\n",
        "## [Data](https://www.kaggle.com/competitions/store-sales-time-series-forecasting/data)\n",
        "\n",
        "### Training data: train.csv\n",
        "\n",
        "* The training data, comprising time series of features **store_nbr**, **family**, and **onpromotion** as well as the target **sales**.\n",
        "* **store_nbr** identifies the store at which the products are sold.\n",
        "* **family** identifies the type of product sold.\n",
        "* **sales** gives the total sales for a product family at a particular store at a given date. Fractional values are possible since products can be sold in fractional units (1.5 kg of cheese, for instance, as opposed to 1 bag of chips).\n",
        "* **onpromotion** gives the total number of items in a product family that were being promoted at a store at a given date.\n",
        "\n",
        "\n",
        "### Test data: test.csv\n",
        "\n",
        "* The test data, having the same features as the training data. You will predict the target **sales** for the dates in this file. \n",
        "* The dates in the test data are for the 15 days after the last date in the training data.\n",
        "\n",
        "\n",
        "### Submission file: sample_submission.csv\n",
        "A sample submission file in the correct format.\n",
        "\n",
        "### Additional information\n",
        "#### 1. Store metadata: stores.csv\n",
        "  * Store metadata, including **city**, **state**, **type**, and **cluster**.\n",
        "  * **cluster** is a grouping of similar stores.\n",
        "\n",
        "#### 2. Daily oil price: oil.csv \n",
        "Includes values during both the train and test data timeframes. (Ecuador is an oil-dependent country and it's economical health is highly vulnerable to shocks in oil prices.)\n",
        "\n",
        "#### 3. Holidays and Events, with metadata: holidays_events.csv\n",
        "  * NOTE: Pay special attention to the **transferred** column. A holiday that is transferred officially falls on that calendar day, but was moved to another date by the government. A transferred day is more like a normal day than a holiday. To find the day that it was actually celebrated, look for the corresponding row where type is Transfer. For example, the holiday Independencia de Guayaquil was transferred from 2012-10-09 to 2012-10-12, which means it was celebrated on 2012-10-12. Days that are type Bridge are extra days that are added to a holiday (e.g., to extend the break across a long weekend). These are frequently made up by the type Work Day which is a day not normally scheduled for work (e.g., Saturday) that is meant to payback the Bridge.\n",
        "  * Additional holidays are days added a regular calendar holiday, for example, as typically happens around Christmas (making Christmas Eve a holiday).\n",
        "\n",
        "\n",
        "### Additional Notes\n",
        "* Wages in the public sector are paid every two weeks on the 15 th and on the last day of the month. Supermarket sales could be affected by this.\n",
        "* A magnitude 7.8 earthquake struck Ecuador on April 16, 2016. People rallied in relief efforts donating water and other first need products which greatly affected supermarket sales for several weeks after the earthquake."
      ]
    },
    {
      "cell_type": "code",
      "execution_count": null,
      "id": "da83b6a3",
      "metadata": {
        "_cell_guid": "b1076dfc-b9ad-4769-8c92-a6c4dae69d19",
        "_uuid": "8f2839f25d086af736a60e9eeb907d3b93b6e0e5",
        "execution": {
          "iopub.execute_input": "2022-12-06T21:38:43.411951Z",
          "iopub.status.busy": "2022-12-06T21:38:43.411601Z",
          "iopub.status.idle": "2022-12-06T21:38:43.422289Z",
          "shell.execute_reply": "2022-12-06T21:38:43.421334Z"
        },
        "papermill": {
          "duration": 0.046238,
          "end_time": "2022-12-06T21:38:43.424319",
          "exception": false,
          "start_time": "2022-12-06T21:38:43.378081",
          "status": "completed"
        },
        "tags": [],
        "colab": {
          "base_uri": "https://localhost:8080/",
          "height": 55
        },
        "id": "da83b6a3",
        "outputId": "272b7184-d94f-4154-f041-ee98535c4b79"
      },
      "outputs": [
        {
          "output_type": "execute_result",
          "data": {
            "text/plain": [
              "\"\\nimport os\\nfor dirname, _, filenames in os.walk('/kaggle/input'):\\n    for filename in filenames:\\n        print(os.path.join(dirname, filename))\\n\""
            ],
            "application/vnd.google.colaboratory.intrinsic+json": {
              "type": "string"
            }
          },
          "metadata": {},
          "execution_count": 1
        }
      ],
      "source": [
        "# This Python 3 environment comes with many helpful analytics libraries installed\n",
        "# It is defined by the kaggle/python Docker image: https://github.com/kaggle/docker-python\n",
        "# For example, here's several helpful packages to load\n",
        "\n",
        "import numpy as np # linear algebra\n",
        "import pandas as pd # data processing, CSV file I/O (e.g. pd.read_csv)\n",
        "\n",
        "# Input data files are available in the read-only \"../input/\" directory\n",
        "# For example, running this (by clicking run or pressing Shift+Enter) will list all files under the input directory\n",
        "'''\n",
        "import os\n",
        "for dirname, _, filenames in os.walk('/kaggle/input'):\n",
        "    for filename in filenames:\n",
        "        print(os.path.join(dirname, filename))\n",
        "'''\n",
        "# You can write up to 20GB to the current directory (/kaggle/working/) that gets preserved as output when you create a version using \"Save & Run All\" \n",
        "# You can also write temporary files to /kaggle/temp/, but they won't be saved outside of the current session"
      ]
    },
    {
      "cell_type": "markdown",
      "id": "2ada9de2",
      "metadata": {
        "papermill": {
          "duration": 0.031407,
          "end_time": "2022-12-06T21:38:43.488135",
          "exception": false,
          "start_time": "2022-12-06T21:38:43.456728",
          "status": "completed"
        },
        "tags": [],
        "id": "2ada9de2"
      },
      "source": [
        "# Preliminaries"
      ]
    },
    {
      "cell_type": "markdown",
      "id": "e3b2dfc4",
      "metadata": {
        "papermill": {
          "duration": 0.031963,
          "end_time": "2022-12-06T21:38:43.551848",
          "exception": false,
          "start_time": "2022-12-06T21:38:43.519885",
          "status": "completed"
        },
        "tags": [],
        "id": "e3b2dfc4"
      },
      "source": [
        "## Dependencies"
      ]
    },
    {
      "cell_type": "code",
      "execution_count": null,
      "id": "1564b872",
      "metadata": {
        "execution": {
          "iopub.execute_input": "2022-12-06T21:38:43.617888Z",
          "iopub.status.busy": "2022-12-06T21:38:43.617168Z",
          "iopub.status.idle": "2022-12-06T21:38:52.240762Z",
          "shell.execute_reply": "2022-12-06T21:38:52.239826Z"
        },
        "papermill": {
          "duration": 8.659157,
          "end_time": "2022-12-06T21:38:52.242998",
          "exception": false,
          "start_time": "2022-12-06T21:38:43.583841",
          "status": "completed"
        },
        "tags": [],
        "id": "1564b872"
      },
      "outputs": [],
      "source": [
        "# Setup feedback system\n",
        "#from learntools.core import binder\n",
        "#binder.bind(globals())\n",
        "#from learntools.time_series.ex4 import *\n",
        "import datetime\n",
        "\n",
        "# Setup notebook\n",
        "from pathlib import Path\n",
        "'''\n",
        "#from learntools.time_series.style import *  # plot style settings\n",
        "#from learntools.time_series.utils import (seasonal_plot,\n",
        "                                          plot_periodogram,\n",
        "                                          make_lags,\n",
        "                                          make_leads,\n",
        "                                          plot_lags,\n",
        "                                          make_multistep_target,\n",
        "                                          plot_multistep)\n",
        "'''\n",
        "\n",
        "import pandas as pd\n",
        "import matplotlib.pyplot as plt\n",
        "import numpy as np\n",
        "import seaborn as sns\n",
        "from sklearn.metrics import mean_squared_log_error\n",
        "from statsmodels.graphics.tsaplots import plot_pacf\n",
        "from statsmodels.tsa.deterministic import CalendarFourier, DeterministicProcess\n",
        "\n",
        "from sklearn.model_selection import train_test_split\n",
        "from sklearn.metrics import mean_squared_log_error\n",
        "from sklearn.preprocessing import LabelEncoder\n",
        "\n",
        "# Model 1 (trend)\n",
        "#from pyearth import Earth\n",
        "from sklearn.linear_model import LinearRegression, ElasticNet, Lasso, Ridge\n",
        "\n",
        "# Model 2\n",
        "from sklearn.ensemble import ExtraTreesRegressor, RandomForestRegressor\n",
        "from sklearn.neighbors import KNeighborsRegressor\n",
        "from sklearn.neural_network import MLPRegressor\n",
        "from xgboost import XGBRegressor"
      ]
    },
    {
      "cell_type": "markdown",
      "id": "a1c5cbbd",
      "metadata": {
        "papermill": {
          "duration": 0.031753,
          "end_time": "2022-12-06T21:38:52.307140",
          "exception": false,
          "start_time": "2022-12-06T21:38:52.275387",
          "status": "completed"
        },
        "tags": [],
        "id": "a1c5cbbd"
      },
      "source": [
        "## Competition Data"
      ]
    },
    {
      "cell_type": "code",
      "execution_count": null,
      "id": "59cffdb1",
      "metadata": {
        "execution": {
          "iopub.execute_input": "2022-12-06T21:38:52.372244Z",
          "iopub.status.busy": "2022-12-06T21:38:52.371903Z",
          "iopub.status.idle": "2022-12-06T21:38:54.782862Z",
          "shell.execute_reply": "2022-12-06T21:38:54.781889Z"
        },
        "papermill": {
          "duration": 2.446595,
          "end_time": "2022-12-06T21:38:54.785278",
          "exception": false,
          "start_time": "2022-12-06T21:38:52.338683",
          "status": "completed"
        },
        "tags": [],
        "colab": {
          "base_uri": "https://localhost:8080/",
          "height": 164
        },
        "id": "59cffdb1",
        "outputId": "94acb912-91ba-4eba-d4fd-52a52050b577"
      },
      "outputs": [
        {
          "output_type": "execute_result",
          "data": {
            "text/plain": [
              "'\\ncomp_dir = Path(\\'../input/store-sales-time-series-forecasting\\')\\n\\n# Training data: train.csv\\n\\n# For the first part of the analysis (time-dependence), we are going to\\n# use a restricted training data, using information about the store number,\\n# family, date and the sales; we will use the rest of the training data\\n# as we expand the analysis.\\nstore_sales = pd.read_csv(\\n    comp_dir / \\'train.csv\\',\\n    usecols=[\\'store_nbr\\', \\'family\\', \\'date\\', \\'sales\\'],\\n    dtype={\\n        \\'store_nbr\\': \\'category\\',\\n        \\'family\\': \\'category\\',\\n        \\'sales\\': \\'float32\\',\\n    },\\n    parse_dates=[\\'date\\'],\\n    infer_datetime_format=True,\\n)\\nstore_sales[\\'date\\'] = store_sales.date.dt.to_period(\\'D\\')\\nstore_sales = store_sales.set_index([\\'store_nbr\\', \\'family\\', \\'date\\']).sort_index()\\n\\n# Holidays and Events, with metadata\\nholidays_events = pd.read_csv(\\n    comp_dir / \"holidays_events.csv\",\\n    dtype={\\n        \\'type\\': \\'category\\',\\n        \\'locale\\': \\'category\\',\\n        \\'locale_name\\': \\'category\\',\\n        \\'description\\': \\'category\\',\\n        \\'transferred\\': \\'bool\\',\\n    },\\n    parse_dates=[\\'date\\'],\\n    infer_datetime_format=True,\\n)\\nholidays_events = holidays_events.set_index(\\'date\\').to_period(\\'D\\')\\n\\n# Test data: test.csv\\ndf_test = pd.read_csv(\\n    comp_dir / \\'test.csv\\',\\n    dtype={\\n        \\'store_nbr\\': \\'category\\',\\n        \\'family\\': \\'category\\',\\n        \\'onpromotion\\': \\'uint32\\',\\n    },\\n    parse_dates=[\\'date\\'],\\n    infer_datetime_format=True,\\n)\\ndf_test[\\'date\\'] = df_test.date.dt.to_period(\\'D\\')\\ndf_test = df_test.set_index([\\'store_nbr\\', \\'family\\', \\'date\\']).sort_index()\\n'"
            ],
            "application/vnd.google.colaboratory.intrinsic+json": {
              "type": "string"
            }
          },
          "metadata": {},
          "execution_count": 3
        }
      ],
      "source": [
        "'''\n",
        "comp_dir = Path('../input/store-sales-time-series-forecasting')\n",
        "\n",
        "# Training data: train.csv\n",
        "\n",
        "# For the first part of the analysis (time-dependence), we are going to\n",
        "# use a restricted training data, using information about the store number,\n",
        "# family, date and the sales; we will use the rest of the training data\n",
        "# as we expand the analysis.\n",
        "store_sales = pd.read_csv(\n",
        "    comp_dir / 'train.csv',\n",
        "    usecols=['store_nbr', 'family', 'date', 'sales'],\n",
        "    dtype={\n",
        "        'store_nbr': 'category',\n",
        "        'family': 'category',\n",
        "        'sales': 'float32',\n",
        "    },\n",
        "    parse_dates=['date'],\n",
        "    infer_datetime_format=True,\n",
        ")\n",
        "store_sales['date'] = store_sales.date.dt.to_period('D')\n",
        "store_sales = store_sales.set_index(['store_nbr', 'family', 'date']).sort_index()\n",
        "\n",
        "# Holidays and Events, with metadata\n",
        "holidays_events = pd.read_csv(\n",
        "    comp_dir / \"holidays_events.csv\",\n",
        "    dtype={\n",
        "        'type': 'category',\n",
        "        'locale': 'category',\n",
        "        'locale_name': 'category',\n",
        "        'description': 'category',\n",
        "        'transferred': 'bool',\n",
        "    },\n",
        "    parse_dates=['date'],\n",
        "    infer_datetime_format=True,\n",
        ")\n",
        "holidays_events = holidays_events.set_index('date').to_period('D')\n",
        "\n",
        "# Test data: test.csv\n",
        "df_test = pd.read_csv(\n",
        "    comp_dir / 'test.csv',\n",
        "    dtype={\n",
        "        'store_nbr': 'category',\n",
        "        'family': 'category',\n",
        "        'onpromotion': 'uint32',\n",
        "    },\n",
        "    parse_dates=['date'],\n",
        "    infer_datetime_format=True,\n",
        ")\n",
        "df_test['date'] = df_test.date.dt.to_period('D')\n",
        "df_test = df_test.set_index(['store_nbr', 'family', 'date']).sort_index()\n",
        "'''"
      ]
    },
    {
      "cell_type": "code",
      "source": [
        "from google.colab import drive\n",
        "\n",
        "drive.mount(\"/content/drive/\")\n",
        "\n",
        "store_sales = pd.read_csv(\n",
        "    \"/content/drive/MyDrive/Formations/Openclassrooms/Projet8/train.csv\",\n",
        "    usecols=['store_nbr', 'family', 'date', 'sales'],\n",
        "    dtype={\n",
        "        'store_nbr': 'category',\n",
        "        'family': 'category',\n",
        "        'sales': 'float32',\n",
        "    },\n",
        "    parse_dates=['date'],\n",
        "    infer_datetime_format=True,\n",
        ")\n",
        "\n",
        "store_sales['date'] = store_sales.date.dt.to_period('D')\n",
        "store_sales = store_sales.set_index(['store_nbr', 'family', 'date']).sort_index()\n",
        "\n",
        "df_test = pd.read_csv(\n",
        "    \"/content/drive/MyDrive/Formations/Openclassrooms/Projet8/test.csv\",\n",
        "    dtype={\n",
        "        'store_nbr': 'category',\n",
        "        'family': 'category',\n",
        "        'onpromotion': 'uint32',\n",
        "    },\n",
        "    parse_dates=['date'],\n",
        "    infer_datetime_format=True\n",
        ")\n",
        "\n",
        "df_test['date'] = df_test.date.dt.to_period('D')\n",
        "df_test = df_test.set_index(['store_nbr', 'family', 'date']).sort_index()\n",
        "\n",
        "df_transac = pd.read_csv(\n",
        "    \"/content/drive/MyDrive/Formations/Openclassrooms/Projet8/transactions.csv\"\n",
        ")\n",
        "df_stores = pd.read_csv(\n",
        "    \"/content/drive/MyDrive/Formations/Openclassrooms/Projet8/stores.csv\"\n",
        ")\n",
        "holidays_events = pd.read_csv(\n",
        "    \"/content/drive/MyDrive/Formations/Openclassrooms/Projet8/holidays_events.csv\",\n",
        "    dtype={\n",
        "        'type': 'category',\n",
        "        'locale': 'category',\n",
        "        'locale_name': 'category',\n",
        "        'description': 'category',\n",
        "        'transferred': 'bool',\n",
        "    },\n",
        "    parse_dates=['date'],\n",
        "    infer_datetime_format=True\n",
        ")\n",
        "df_oil = pd.read_csv(\"/content/drive/MyDrive/Formations/Openclassrooms/Projet8/oil.csv\")\n",
        "\n",
        "df_sample_sub = pd.read_csv(\n",
        "    \"/content/drive/MyDrive/Formations/Openclassrooms/Projet8/sample_submission.csv\"\n",
        ")"
      ],
      "metadata": {
        "colab": {
          "base_uri": "https://localhost:8080/"
        },
        "id": "U9b-gqBUmhWR",
        "outputId": "49b92e8b-7bf2-4f7d-b88b-0c2056ae41b3"
      },
      "id": "U9b-gqBUmhWR",
      "execution_count": null,
      "outputs": [
        {
          "output_type": "stream",
          "name": "stdout",
          "text": [
            "Mounted at /content/drive/\n"
          ]
        }
      ]
    },
    {
      "cell_type": "code",
      "execution_count": null,
      "id": "e4e479cc",
      "metadata": {
        "execution": {
          "iopub.execute_input": "2022-12-06T21:38:54.852393Z",
          "iopub.status.busy": "2022-12-06T21:38:54.851912Z",
          "iopub.status.idle": "2022-12-06T21:38:54.866529Z",
          "shell.execute_reply": "2022-12-06T21:38:54.865481Z"
        },
        "papermill": {
          "duration": 0.050111,
          "end_time": "2022-12-06T21:38:54.868172",
          "exception": false,
          "start_time": "2022-12-06T21:38:54.818061",
          "status": "completed"
        },
        "tags": [],
        "colab": {
          "base_uri": "https://localhost:8080/"
        },
        "id": "e4e479cc",
        "outputId": "c751c298-a491-494e-9cb3-29ea3f06e09a"
      },
      "outputs": [
        {
          "output_type": "stream",
          "name": "stdout",
          "text": [
            "Training Data \n",
            "-------------\n",
            "                                      sales\n",
            "store_nbr family     date                 \n",
            "1         AUTOMOTIVE 2013-01-01   0.000000\n",
            "                     2013-01-02   2.000000\n",
            "                     2013-01-03   3.000000\n",
            "                     2013-01-04   3.000000\n",
            "                     2013-01-05   5.000000\n",
            "...                                    ...\n",
            "9         SEAFOOD    2017-08-11  23.830999\n",
            "                     2017-08-12  16.859001\n",
            "                     2017-08-13  20.000000\n",
            "                     2017-08-14  17.000000\n",
            "                     2017-08-15  16.000000\n",
            "\n",
            "[3000888 rows x 1 columns]\n",
            "\n",
            "\n",
            "Test Data \n",
            "---------\n",
            "                                       id  onpromotion\n",
            "store_nbr family     date                            \n",
            "1         AUTOMOTIVE 2017-08-16  3000888            0\n",
            "                     2017-08-17  3002670            0\n",
            "                     2017-08-18  3004452            0\n",
            "                     2017-08-19  3006234            0\n",
            "                     2017-08-20  3008016            0\n",
            "...                                  ...          ...\n",
            "9         SEAFOOD    2017-08-27  3022271            0\n",
            "                     2017-08-28  3024053            0\n",
            "                     2017-08-29  3025835            0\n",
            "                     2017-08-30  3027617            0\n",
            "                     2017-08-31  3029399            0\n",
            "\n",
            "[28512 rows x 2 columns]\n"
          ]
        }
      ],
      "source": [
        "print(\"Training Data\", \"\\n\" + \"-\" * 13 + \"\\n\", store_sales)\n",
        "print(\"\\n\")\n",
        "print(\"Test Data\", \"\\n\" + \"-\" * 9 + \"\\n\", df_test)"
      ]
    },
    {
      "cell_type": "markdown",
      "id": "2c87242f",
      "metadata": {
        "papermill": {
          "duration": 0.032088,
          "end_time": "2022-12-06T21:38:54.932564",
          "exception": false,
          "start_time": "2022-12-06T21:38:54.900476",
          "status": "completed"
        },
        "tags": [],
        "id": "2c87242f"
      },
      "source": [
        "# Exploratory Data Analysis (EDA)"
      ]
    },
    {
      "cell_type": "code",
      "execution_count": null,
      "id": "4f55970a",
      "metadata": {
        "execution": {
          "iopub.execute_input": "2022-12-06T21:38:54.998118Z",
          "iopub.status.busy": "2022-12-06T21:38:54.997799Z",
          "iopub.status.idle": "2022-12-06T21:38:55.010564Z",
          "shell.execute_reply": "2022-12-06T21:38:55.009717Z"
        },
        "papermill": {
          "duration": 0.047742,
          "end_time": "2022-12-06T21:38:55.012252",
          "exception": false,
          "start_time": "2022-12-06T21:38:54.964510",
          "status": "completed"
        },
        "tags": [],
        "colab": {
          "base_uri": "https://localhost:8080/",
          "height": 237
        },
        "id": "4f55970a",
        "outputId": "d3d2b545-00aa-4b30-f176-b6470567eff8"
      },
      "outputs": [
        {
          "output_type": "execute_result",
          "data": {
            "text/plain": [
              "                                 sales\n",
              "store_nbr family     date             \n",
              "1         AUTOMOTIVE 2013-01-01    0.0\n",
              "                     2013-01-02    2.0\n",
              "                     2013-01-03    3.0\n",
              "                     2013-01-04    3.0\n",
              "                     2013-01-05    5.0"
            ],
            "text/html": [
              "\n",
              "  <div id=\"df-5583fb94-64b8-434d-967b-9413efaec7ae\">\n",
              "    <div class=\"colab-df-container\">\n",
              "      <div>\n",
              "<style scoped>\n",
              "    .dataframe tbody tr th:only-of-type {\n",
              "        vertical-align: middle;\n",
              "    }\n",
              "\n",
              "    .dataframe tbody tr th {\n",
              "        vertical-align: top;\n",
              "    }\n",
              "\n",
              "    .dataframe thead th {\n",
              "        text-align: right;\n",
              "    }\n",
              "</style>\n",
              "<table border=\"1\" class=\"dataframe\">\n",
              "  <thead>\n",
              "    <tr style=\"text-align: right;\">\n",
              "      <th></th>\n",
              "      <th></th>\n",
              "      <th></th>\n",
              "      <th>sales</th>\n",
              "    </tr>\n",
              "    <tr>\n",
              "      <th>store_nbr</th>\n",
              "      <th>family</th>\n",
              "      <th>date</th>\n",
              "      <th></th>\n",
              "    </tr>\n",
              "  </thead>\n",
              "  <tbody>\n",
              "    <tr>\n",
              "      <th rowspan=\"5\" valign=\"top\">1</th>\n",
              "      <th rowspan=\"5\" valign=\"top\">AUTOMOTIVE</th>\n",
              "      <th>2013-01-01</th>\n",
              "      <td>0.0</td>\n",
              "    </tr>\n",
              "    <tr>\n",
              "      <th>2013-01-02</th>\n",
              "      <td>2.0</td>\n",
              "    </tr>\n",
              "    <tr>\n",
              "      <th>2013-01-03</th>\n",
              "      <td>3.0</td>\n",
              "    </tr>\n",
              "    <tr>\n",
              "      <th>2013-01-04</th>\n",
              "      <td>3.0</td>\n",
              "    </tr>\n",
              "    <tr>\n",
              "      <th>2013-01-05</th>\n",
              "      <td>5.0</td>\n",
              "    </tr>\n",
              "  </tbody>\n",
              "</table>\n",
              "</div>\n",
              "      <button class=\"colab-df-convert\" onclick=\"convertToInteractive('df-5583fb94-64b8-434d-967b-9413efaec7ae')\"\n",
              "              title=\"Convert this dataframe to an interactive table.\"\n",
              "              style=\"display:none;\">\n",
              "        \n",
              "  <svg xmlns=\"http://www.w3.org/2000/svg\" height=\"24px\"viewBox=\"0 0 24 24\"\n",
              "       width=\"24px\">\n",
              "    <path d=\"M0 0h24v24H0V0z\" fill=\"none\"/>\n",
              "    <path d=\"M18.56 5.44l.94 2.06.94-2.06 2.06-.94-2.06-.94-.94-2.06-.94 2.06-2.06.94zm-11 1L8.5 8.5l.94-2.06 2.06-.94-2.06-.94L8.5 2.5l-.94 2.06-2.06.94zm10 10l.94 2.06.94-2.06 2.06-.94-2.06-.94-.94-2.06-.94 2.06-2.06.94z\"/><path d=\"M17.41 7.96l-1.37-1.37c-.4-.4-.92-.59-1.43-.59-.52 0-1.04.2-1.43.59L10.3 9.45l-7.72 7.72c-.78.78-.78 2.05 0 2.83L4 21.41c.39.39.9.59 1.41.59.51 0 1.02-.2 1.41-.59l7.78-7.78 2.81-2.81c.8-.78.8-2.07 0-2.86zM5.41 20L4 18.59l7.72-7.72 1.47 1.35L5.41 20z\"/>\n",
              "  </svg>\n",
              "      </button>\n",
              "      \n",
              "  <style>\n",
              "    .colab-df-container {\n",
              "      display:flex;\n",
              "      flex-wrap:wrap;\n",
              "      gap: 12px;\n",
              "    }\n",
              "\n",
              "    .colab-df-convert {\n",
              "      background-color: #E8F0FE;\n",
              "      border: none;\n",
              "      border-radius: 50%;\n",
              "      cursor: pointer;\n",
              "      display: none;\n",
              "      fill: #1967D2;\n",
              "      height: 32px;\n",
              "      padding: 0 0 0 0;\n",
              "      width: 32px;\n",
              "    }\n",
              "\n",
              "    .colab-df-convert:hover {\n",
              "      background-color: #E2EBFA;\n",
              "      box-shadow: 0px 1px 2px rgba(60, 64, 67, 0.3), 0px 1px 3px 1px rgba(60, 64, 67, 0.15);\n",
              "      fill: #174EA6;\n",
              "    }\n",
              "\n",
              "    [theme=dark] .colab-df-convert {\n",
              "      background-color: #3B4455;\n",
              "      fill: #D2E3FC;\n",
              "    }\n",
              "\n",
              "    [theme=dark] .colab-df-convert:hover {\n",
              "      background-color: #434B5C;\n",
              "      box-shadow: 0px 1px 3px 1px rgba(0, 0, 0, 0.15);\n",
              "      filter: drop-shadow(0px 1px 2px rgba(0, 0, 0, 0.3));\n",
              "      fill: #FFFFFF;\n",
              "    }\n",
              "  </style>\n",
              "\n",
              "      <script>\n",
              "        const buttonEl =\n",
              "          document.querySelector('#df-5583fb94-64b8-434d-967b-9413efaec7ae button.colab-df-convert');\n",
              "        buttonEl.style.display =\n",
              "          google.colab.kernel.accessAllowed ? 'block' : 'none';\n",
              "\n",
              "        async function convertToInteractive(key) {\n",
              "          const element = document.querySelector('#df-5583fb94-64b8-434d-967b-9413efaec7ae');\n",
              "          const dataTable =\n",
              "            await google.colab.kernel.invokeFunction('convertToInteractive',\n",
              "                                                     [key], {});\n",
              "          if (!dataTable) return;\n",
              "\n",
              "          const docLinkHtml = 'Like what you see? Visit the ' +\n",
              "            '<a target=\"_blank\" href=https://colab.research.google.com/notebooks/data_table.ipynb>data table notebook</a>'\n",
              "            + ' to learn more about interactive tables.';\n",
              "          element.innerHTML = '';\n",
              "          dataTable['output_type'] = 'display_data';\n",
              "          await google.colab.output.renderOutput(dataTable, element);\n",
              "          const docLink = document.createElement('div');\n",
              "          docLink.innerHTML = docLinkHtml;\n",
              "          element.appendChild(docLink);\n",
              "        }\n",
              "      </script>\n",
              "    </div>\n",
              "  </div>\n",
              "  "
            ]
          },
          "metadata": {},
          "execution_count": 6
        }
      ],
      "source": [
        "store_sales.head()"
      ]
    },
    {
      "cell_type": "markdown",
      "id": "23d68594",
      "metadata": {
        "papermill": {
          "duration": 0.032087,
          "end_time": "2022-12-06T21:38:55.077003",
          "exception": false,
          "start_time": "2022-12-06T21:38:55.044916",
          "status": "completed"
        },
        "tags": [],
        "id": "23d68594"
      },
      "source": [
        "### Indices"
      ]
    },
    {
      "cell_type": "markdown",
      "id": "40cb486a",
      "metadata": {
        "papermill": {
          "duration": 0.032028,
          "end_time": "2022-12-06T21:38:55.141688",
          "exception": false,
          "start_time": "2022-12-06T21:38:55.109660",
          "status": "completed"
        },
        "tags": [],
        "id": "40cb486a"
      },
      "source": [
        "#### Date"
      ]
    },
    {
      "cell_type": "code",
      "execution_count": null,
      "id": "d9d719d0",
      "metadata": {
        "execution": {
          "iopub.execute_input": "2022-12-06T21:38:55.207408Z",
          "iopub.status.busy": "2022-12-06T21:38:55.207114Z",
          "iopub.status.idle": "2022-12-06T21:38:55.234773Z",
          "shell.execute_reply": "2022-12-06T21:38:55.233981Z"
        },
        "papermill": {
          "duration": 0.062815,
          "end_time": "2022-12-06T21:38:55.236565",
          "exception": false,
          "start_time": "2022-12-06T21:38:55.173750",
          "status": "completed"
        },
        "tags": [],
        "colab": {
          "base_uri": "https://localhost:8080/"
        },
        "id": "d9d719d0",
        "outputId": "bf39f23a-d4bf-4eed-c395-f344b3d6a747"
      },
      "outputs": [
        {
          "output_type": "stream",
          "name": "stdout",
          "text": [
            "Total duration of data:\n",
            "    Training data: 2013-01-01 -- 2017-08-15\n",
            "    Test data: 2017-08-16 -- 2017-08-31\n"
          ]
        }
      ],
      "source": [
        "print(\"Total duration of data:\")\n",
        "print(f\"    Training data: {store_sales.index.get_level_values(2).min()} -- {store_sales.index.get_level_values(2).max()}\")\n",
        "print(f\"    Test data: {df_test.index.get_level_values(2).min()} -- {df_test.index.get_level_values(2).max()}\")\n"
      ]
    },
    {
      "cell_type": "markdown",
      "id": "638a99bf",
      "metadata": {
        "papermill": {
          "duration": 0.031444,
          "end_time": "2022-12-06T21:38:55.300247",
          "exception": false,
          "start_time": "2022-12-06T21:38:55.268803",
          "status": "completed"
        },
        "tags": [],
        "id": "638a99bf"
      },
      "source": [
        "This amounts to slightly more than 4.5 years (55 months) of training data, followed by the next 15 days to test our model on."
      ]
    },
    {
      "cell_type": "markdown",
      "id": "5881967c",
      "metadata": {
        "papermill": {
          "duration": 0.031745,
          "end_time": "2022-12-06T21:38:55.363770",
          "exception": false,
          "start_time": "2022-12-06T21:38:55.332025",
          "status": "completed"
        },
        "tags": [],
        "id": "5881967c"
      },
      "source": [
        "#### Family\n",
        "\n",
        "The products in the training data belong to different families."
      ]
    },
    {
      "cell_type": "code",
      "execution_count": null,
      "id": "0b5cbb3b",
      "metadata": {
        "execution": {
          "iopub.execute_input": "2022-12-06T21:38:55.429928Z",
          "iopub.status.busy": "2022-12-06T21:38:55.429160Z",
          "iopub.status.idle": "2022-12-06T21:38:55.464875Z",
          "shell.execute_reply": "2022-12-06T21:38:55.463648Z"
        },
        "papermill": {
          "duration": 0.070565,
          "end_time": "2022-12-06T21:38:55.466674",
          "exception": false,
          "start_time": "2022-12-06T21:38:55.396109",
          "status": "completed"
        },
        "tags": [],
        "colab": {
          "base_uri": "https://localhost:8080/"
        },
        "id": "0b5cbb3b",
        "outputId": "b54dfb8f-852c-4d78-bb5b-428007acbbbd"
      },
      "outputs": [
        {
          "output_type": "stream",
          "name": "stdout",
          "text": [
            "Total number of families: 33\n",
            "First 5 families (in alphabetical order): ['Automotive', 'Baby care', 'Beauty', 'Beverages', 'Books']\n",
            "Last 5 families (in alphabetical order): ['Poultry', 'Prepared foods', 'Produce', 'School and office supplies', 'Seafood']\n"
          ]
        }
      ],
      "source": [
        "print(f\"Total number of families: {len(store_sales.index.unique(level=1))}\")\n",
        "\n",
        "print(f\"First 5 families (in alphabetical order): {[x.capitalize() for x in store_sales.index.unique(level=1)[:5]]}\")\n",
        "\n",
        "print(f\"Last 5 families (in alphabetical order): {[x.capitalize() for x in store_sales.index.unique(level=1)[-5:]]}\")"
      ]
    },
    {
      "cell_type": "markdown",
      "id": "fd032477",
      "metadata": {
        "papermill": {
          "duration": 0.032587,
          "end_time": "2022-12-06T21:38:55.533283",
          "exception": false,
          "start_time": "2022-12-06T21:38:55.500696",
          "status": "completed"
        },
        "tags": [],
        "id": "fd032477"
      },
      "source": [
        "#### Stores"
      ]
    },
    {
      "cell_type": "code",
      "execution_count": null,
      "id": "8cd2dd4b",
      "metadata": {
        "execution": {
          "iopub.execute_input": "2022-12-06T21:38:55.600378Z",
          "iopub.status.busy": "2022-12-06T21:38:55.600068Z",
          "iopub.status.idle": "2022-12-06T21:38:55.615381Z",
          "shell.execute_reply": "2022-12-06T21:38:55.614472Z"
        },
        "papermill": {
          "duration": 0.050997,
          "end_time": "2022-12-06T21:38:55.617178",
          "exception": false,
          "start_time": "2022-12-06T21:38:55.566181",
          "status": "completed"
        },
        "tags": [],
        "colab": {
          "base_uri": "https://localhost:8080/"
        },
        "id": "8cd2dd4b",
        "outputId": "77baa981-8d6c-4732-85a7-13c04add2a76"
      },
      "outputs": [
        {
          "output_type": "stream",
          "name": "stdout",
          "text": [
            "Total number of stores: 54\n"
          ]
        }
      ],
      "source": [
        "print(f\"Total number of stores: {len(store_sales.index.unique(level=0))}\")"
      ]
    },
    {
      "cell_type": "markdown",
      "id": "292e1a6f",
      "metadata": {
        "papermill": {
          "duration": 0.03245,
          "end_time": "2022-12-06T21:38:55.682847",
          "exception": false,
          "start_time": "2022-12-06T21:38:55.650397",
          "status": "completed"
        },
        "tags": [],
        "id": "292e1a6f"
      },
      "source": [
        "#### TL;DR: Data Summary\n",
        "\n",
        "There are 1782 time series in this data, distributed between 54 stores and 33 families of products."
      ]
    },
    {
      "cell_type": "markdown",
      "id": "0b04522c",
      "metadata": {
        "papermill": {
          "duration": 0.031722,
          "end_time": "2022-12-06T21:38:55.746997",
          "exception": false,
          "start_time": "2022-12-06T21:38:55.715275",
          "status": "completed"
        },
        "tags": [],
        "id": "0b04522c"
      },
      "source": [
        "# Modelling time dependence"
      ]
    },
    {
      "cell_type": "markdown",
      "id": "54708c78",
      "metadata": {
        "papermill": {
          "duration": 0.032189,
          "end_time": "2022-12-06T21:38:55.811574",
          "exception": false,
          "start_time": "2022-12-06T21:38:55.779385",
          "status": "completed"
        },
        "tags": [],
        "id": "54708c78"
      },
      "source": [
        "As we learnt in the [Time Series course on Kaggle](https://www.kaggle.com/learn/time-series), there are 2 essential components of a time-series:\n",
        "* **Time dependence** that leads to two key featues: [Trends](https://www.kaggle.com/code/ryanholbrook/trend) and [Seasonality](https://www.kaggle.com/code/ryanholbrook/seasonality)\n",
        "* **Serial depencdence** that leads to [cycles](https://www.kaggle.com/code/ryanholbrook/time-series-as-features), and can be explored through lag features.\n",
        "\n",
        "Each of these features are worth exploring one-by-one in detail. We are goinig to follow the lead of the tutorial in realising that a single machine learning algorithm might not be best-suited to capture all these independent components. While regression algorithms are better for detrending/deseasonalising, [serial dependence is best explored through **decision trees**](https://www.kaggle.com/code/ryanholbrook/time-series-as-features). Hence, getting the best of both worlds, we are going to explore [Hybrid models](https://www.kaggle.com/code/ryanholbrook/hybrid-models) that employ a combination of the above algorithms."
      ]
    },
    {
      "cell_type": "markdown",
      "id": "6347e2bd",
      "metadata": {
        "papermill": {
          "duration": 0.032379,
          "end_time": "2022-12-06T21:38:55.876672",
          "exception": false,
          "start_time": "2022-12-06T21:38:55.844293",
          "status": "completed"
        },
        "tags": [],
        "id": "6347e2bd"
      },
      "source": [
        "## Trends"
      ]
    },
    {
      "cell_type": "markdown",
      "id": "690d4fc4",
      "metadata": {
        "papermill": {
          "duration": 0.032477,
          "end_time": "2022-12-06T21:38:55.942140",
          "exception": false,
          "start_time": "2022-12-06T21:38:55.909663",
          "status": "completed"
        },
        "tags": [],
        "id": "690d4fc4"
      },
      "source": [
        "As defined in [Time Series course on Kaggle](https://www.kaggle.com/code/ryanholbrook/trend) course, the **trend** component of a time series represents a persistent, long-term change in the mean of the series. The trend is the slowest-moving part of a series, the part representing the largest time scale of importance."
      ]
    },
    {
      "cell_type": "markdown",
      "id": "b28c7d1f",
      "metadata": {
        "papermill": {
          "duration": 0.03289,
          "end_time": "2022-12-06T21:38:56.008148",
          "exception": false,
          "start_time": "2022-12-06T21:38:55.975258",
          "status": "completed"
        },
        "tags": [],
        "id": "b28c7d1f"
      },
      "source": [
        "The training set has information that drills down to different levels of detail, eg, store number, product family, etc. At the highest-level, we start looking at trends in the time-dependence of average sales."
      ]
    },
    {
      "cell_type": "code",
      "execution_count": null,
      "id": "7d562494",
      "metadata": {
        "execution": {
          "iopub.execute_input": "2022-12-06T21:38:56.076937Z",
          "iopub.status.busy": "2022-12-06T21:38:56.076001Z",
          "iopub.status.idle": "2022-12-06T21:38:56.151872Z",
          "shell.execute_reply": "2022-12-06T21:38:56.150372Z"
        },
        "papermill": {
          "duration": 0.112712,
          "end_time": "2022-12-06T21:38:56.153975",
          "exception": false,
          "start_time": "2022-12-06T21:38:56.041263",
          "status": "completed"
        },
        "tags": [],
        "colab": {
          "base_uri": "https://localhost:8080/"
        },
        "id": "7d562494",
        "outputId": "82409061-5168-4b6a-f41c-b23f34234b6e"
      },
      "outputs": [
        {
          "output_type": "execute_result",
          "data": {
            "text/plain": [
              "date\n",
              "2013-01-01      1.409438\n",
              "2013-01-02    278.390808\n",
              "2013-01-03    202.840195\n",
              "2013-01-04    198.911148\n",
              "2013-01-05    267.873230\n",
              "Freq: D, Name: sales, dtype: float32"
            ]
          },
          "metadata": {},
          "execution_count": 10
        }
      ],
      "source": [
        "average_sales = store_sales.groupby('date').mean()['sales']\n",
        "average_sales.head()"
      ]
    },
    {
      "cell_type": "markdown",
      "id": "87e1c85c",
      "metadata": {
        "papermill": {
          "duration": 0.032177,
          "end_time": "2022-12-06T21:38:56.219101",
          "exception": false,
          "start_time": "2022-12-06T21:38:56.186924",
          "status": "completed"
        },
        "tags": [],
        "id": "87e1c85c"
      },
      "source": [
        "Calculating a year-long moving average smoothens out short-term fluctuations in the series retaining only long-term changes. With this, we see a year-on-year growth in the average sales."
      ]
    },
    {
      "cell_type": "code",
      "execution_count": null,
      "id": "614cb9b7",
      "metadata": {
        "execution": {
          "iopub.execute_input": "2022-12-06T21:38:56.285149Z",
          "iopub.status.busy": "2022-12-06T21:38:56.284833Z",
          "iopub.status.idle": "2022-12-06T21:38:56.289321Z",
          "shell.execute_reply": "2022-12-06T21:38:56.288769Z"
        },
        "papermill": {
          "duration": 0.039541,
          "end_time": "2022-12-06T21:38:56.290804",
          "exception": false,
          "start_time": "2022-12-06T21:38:56.251263",
          "status": "completed"
        },
        "tags": [],
        "id": "614cb9b7"
      },
      "outputs": [],
      "source": [
        "# moving average plot of average_sales estimating the trend\n",
        "\n",
        "trend = average_sales.rolling(\n",
        "    window=365,\n",
        "    center=True,\n",
        "    min_periods=183,\n",
        ").mean()"
      ]
    },
    {
      "cell_type": "markdown",
      "id": "d5e5a813",
      "metadata": {
        "papermill": {
          "duration": 0.031942,
          "end_time": "2022-12-06T21:38:56.354803",
          "exception": false,
          "start_time": "2022-12-06T21:38:56.322861",
          "status": "completed"
        },
        "tags": [],
        "id": "d5e5a813"
      },
      "source": [
        "## Cover graphic"
      ]
    },
    {
      "cell_type": "markdown",
      "id": "27c1e88f",
      "metadata": {
        "papermill": {
          "duration": 0.033796,
          "end_time": "2022-12-06T21:38:57.486592",
          "exception": false,
          "start_time": "2022-12-06T21:38:57.452796",
          "status": "completed"
        },
        "tags": [],
        "id": "27c1e88f"
      },
      "source": [
        "### First prediction: based on trend\n",
        "\n",
        "At this point, we attempt to make our first prediction, just using the trend of first, the average sales, and then each family at a time. As we have already seen in the previous plot, the average sales show a year-on-year growth which can be approximated using a linear regression. The polynomial we fit to the sales is our choice, and we will use orders 1 and 3 to see their effects on the prediction. We use the `DeterministicProcess` function to create a feature set for a trend model."
      ]
    },
    {
      "cell_type": "markdown",
      "id": "1bd8a9dd",
      "metadata": {
        "papermill": {
          "duration": 0.033983,
          "end_time": "2022-12-06T21:38:57.554936",
          "exception": false,
          "start_time": "2022-12-06T21:38:57.520953",
          "status": "completed"
        },
        "tags": [],
        "id": "1bd8a9dd"
      },
      "source": [
        "#### Polynomial order: 1"
      ]
    },
    {
      "cell_type": "code",
      "execution_count": null,
      "id": "1ae3ea0b",
      "metadata": {
        "execution": {
          "iopub.execute_input": "2022-12-06T21:38:57.626048Z",
          "iopub.status.busy": "2022-12-06T21:38:57.625515Z",
          "iopub.status.idle": "2022-12-06T21:38:57.631990Z",
          "shell.execute_reply": "2022-12-06T21:38:57.631260Z"
        },
        "papermill": {
          "duration": 0.043997,
          "end_time": "2022-12-06T21:38:57.633654",
          "exception": false,
          "start_time": "2022-12-06T21:38:57.589657",
          "status": "completed"
        },
        "tags": [],
        "colab": {
          "base_uri": "https://localhost:8080/"
        },
        "id": "1ae3ea0b",
        "outputId": "8d6a4966-562d-489a-9706-38cf6fed19f7"
      },
      "outputs": [
        {
          "output_type": "execute_result",
          "data": {
            "text/plain": [
              "date\n",
              "2013-01-01      1.409438\n",
              "2013-01-02    278.390808\n",
              "2013-01-03    202.840195\n",
              "2013-01-04    198.911148\n",
              "2013-01-05    267.873230\n",
              "Freq: D, Name: sales, dtype: float32"
            ]
          },
          "metadata": {},
          "execution_count": 13
        }
      ],
      "source": [
        "# the target\n",
        "\n",
        "y = average_sales.copy()\n",
        "y.head()"
      ]
    },
    {
      "cell_type": "code",
      "execution_count": null,
      "id": "764179ad",
      "metadata": {
        "execution": {
          "iopub.execute_input": "2022-12-06T21:38:57.705700Z",
          "iopub.status.busy": "2022-12-06T21:38:57.705363Z",
          "iopub.status.idle": "2022-12-06T21:38:57.718271Z",
          "shell.execute_reply": "2022-12-06T21:38:57.717688Z"
        },
        "papermill": {
          "duration": 0.051098,
          "end_time": "2022-12-06T21:38:57.720017",
          "exception": false,
          "start_time": "2022-12-06T21:38:57.668919",
          "status": "completed"
        },
        "tags": [],
        "colab": {
          "base_uri": "https://localhost:8080/",
          "height": 237
        },
        "id": "764179ad",
        "outputId": "23919c6c-967a-4896-e831-1061f7f9bb97"
      },
      "outputs": [
        {
          "output_type": "execute_result",
          "data": {
            "text/plain": [
              "            const  trend\n",
              "date                    \n",
              "2013-01-01    1.0    1.0\n",
              "2013-01-02    1.0    2.0\n",
              "2013-01-03    1.0    3.0\n",
              "2013-01-04    1.0    4.0\n",
              "2013-01-05    1.0    5.0"
            ],
            "text/html": [
              "\n",
              "  <div id=\"df-20b10dea-10d4-4d33-b64c-9275df16546e\">\n",
              "    <div class=\"colab-df-container\">\n",
              "      <div>\n",
              "<style scoped>\n",
              "    .dataframe tbody tr th:only-of-type {\n",
              "        vertical-align: middle;\n",
              "    }\n",
              "\n",
              "    .dataframe tbody tr th {\n",
              "        vertical-align: top;\n",
              "    }\n",
              "\n",
              "    .dataframe thead th {\n",
              "        text-align: right;\n",
              "    }\n",
              "</style>\n",
              "<table border=\"1\" class=\"dataframe\">\n",
              "  <thead>\n",
              "    <tr style=\"text-align: right;\">\n",
              "      <th></th>\n",
              "      <th>const</th>\n",
              "      <th>trend</th>\n",
              "    </tr>\n",
              "    <tr>\n",
              "      <th>date</th>\n",
              "      <th></th>\n",
              "      <th></th>\n",
              "    </tr>\n",
              "  </thead>\n",
              "  <tbody>\n",
              "    <tr>\n",
              "      <th>2013-01-01</th>\n",
              "      <td>1.0</td>\n",
              "      <td>1.0</td>\n",
              "    </tr>\n",
              "    <tr>\n",
              "      <th>2013-01-02</th>\n",
              "      <td>1.0</td>\n",
              "      <td>2.0</td>\n",
              "    </tr>\n",
              "    <tr>\n",
              "      <th>2013-01-03</th>\n",
              "      <td>1.0</td>\n",
              "      <td>3.0</td>\n",
              "    </tr>\n",
              "    <tr>\n",
              "      <th>2013-01-04</th>\n",
              "      <td>1.0</td>\n",
              "      <td>4.0</td>\n",
              "    </tr>\n",
              "    <tr>\n",
              "      <th>2013-01-05</th>\n",
              "      <td>1.0</td>\n",
              "      <td>5.0</td>\n",
              "    </tr>\n",
              "  </tbody>\n",
              "</table>\n",
              "</div>\n",
              "      <button class=\"colab-df-convert\" onclick=\"convertToInteractive('df-20b10dea-10d4-4d33-b64c-9275df16546e')\"\n",
              "              title=\"Convert this dataframe to an interactive table.\"\n",
              "              style=\"display:none;\">\n",
              "        \n",
              "  <svg xmlns=\"http://www.w3.org/2000/svg\" height=\"24px\"viewBox=\"0 0 24 24\"\n",
              "       width=\"24px\">\n",
              "    <path d=\"M0 0h24v24H0V0z\" fill=\"none\"/>\n",
              "    <path d=\"M18.56 5.44l.94 2.06.94-2.06 2.06-.94-2.06-.94-.94-2.06-.94 2.06-2.06.94zm-11 1L8.5 8.5l.94-2.06 2.06-.94-2.06-.94L8.5 2.5l-.94 2.06-2.06.94zm10 10l.94 2.06.94-2.06 2.06-.94-2.06-.94-.94-2.06-.94 2.06-2.06.94z\"/><path d=\"M17.41 7.96l-1.37-1.37c-.4-.4-.92-.59-1.43-.59-.52 0-1.04.2-1.43.59L10.3 9.45l-7.72 7.72c-.78.78-.78 2.05 0 2.83L4 21.41c.39.39.9.59 1.41.59.51 0 1.02-.2 1.41-.59l7.78-7.78 2.81-2.81c.8-.78.8-2.07 0-2.86zM5.41 20L4 18.59l7.72-7.72 1.47 1.35L5.41 20z\"/>\n",
              "  </svg>\n",
              "      </button>\n",
              "      \n",
              "  <style>\n",
              "    .colab-df-container {\n",
              "      display:flex;\n",
              "      flex-wrap:wrap;\n",
              "      gap: 12px;\n",
              "    }\n",
              "\n",
              "    .colab-df-convert {\n",
              "      background-color: #E8F0FE;\n",
              "      border: none;\n",
              "      border-radius: 50%;\n",
              "      cursor: pointer;\n",
              "      display: none;\n",
              "      fill: #1967D2;\n",
              "      height: 32px;\n",
              "      padding: 0 0 0 0;\n",
              "      width: 32px;\n",
              "    }\n",
              "\n",
              "    .colab-df-convert:hover {\n",
              "      background-color: #E2EBFA;\n",
              "      box-shadow: 0px 1px 2px rgba(60, 64, 67, 0.3), 0px 1px 3px 1px rgba(60, 64, 67, 0.15);\n",
              "      fill: #174EA6;\n",
              "    }\n",
              "\n",
              "    [theme=dark] .colab-df-convert {\n",
              "      background-color: #3B4455;\n",
              "      fill: #D2E3FC;\n",
              "    }\n",
              "\n",
              "    [theme=dark] .colab-df-convert:hover {\n",
              "      background-color: #434B5C;\n",
              "      box-shadow: 0px 1px 3px 1px rgba(0, 0, 0, 0.15);\n",
              "      filter: drop-shadow(0px 1px 2px rgba(0, 0, 0, 0.3));\n",
              "      fill: #FFFFFF;\n",
              "    }\n",
              "  </style>\n",
              "\n",
              "      <script>\n",
              "        const buttonEl =\n",
              "          document.querySelector('#df-20b10dea-10d4-4d33-b64c-9275df16546e button.colab-df-convert');\n",
              "        buttonEl.style.display =\n",
              "          google.colab.kernel.accessAllowed ? 'block' : 'none';\n",
              "\n",
              "        async function convertToInteractive(key) {\n",
              "          const element = document.querySelector('#df-20b10dea-10d4-4d33-b64c-9275df16546e');\n",
              "          const dataTable =\n",
              "            await google.colab.kernel.invokeFunction('convertToInteractive',\n",
              "                                                     [key], {});\n",
              "          if (!dataTable) return;\n",
              "\n",
              "          const docLinkHtml = 'Like what you see? Visit the ' +\n",
              "            '<a target=\"_blank\" href=https://colab.research.google.com/notebooks/data_table.ipynb>data table notebook</a>'\n",
              "            + ' to learn more about interactive tables.';\n",
              "          element.innerHTML = '';\n",
              "          dataTable['output_type'] = 'display_data';\n",
              "          await google.colab.output.renderOutput(dataTable, element);\n",
              "          const docLink = document.createElement('div');\n",
              "          docLink.innerHTML = docLinkHtml;\n",
              "          element.appendChild(docLink);\n",
              "        }\n",
              "      </script>\n",
              "    </div>\n",
              "  </div>\n",
              "  "
            ]
          },
          "metadata": {},
          "execution_count": 14
        }
      ],
      "source": [
        "# Instantiate `DeterministicProcess` with arguments\n",
        "# appropriate for a cubic trend model\n",
        "dp = DeterministicProcess(\n",
        "    index=y.index,  # dates from the training data\n",
        "    constant=True,       # dummy feature for the bias (y_intercept)\n",
        "    order=1,             # the time dummy (trend): linear trend\n",
        "    drop=True,           # drop terms if necessary to avoid collinearity\n",
        ")\n",
        "\n",
        "# YOUR CODE HERE: Create the feature set for the dates given in y.index\n",
        "X = dp.in_sample()\n",
        "\n",
        "X.head()"
      ]
    },
    {
      "cell_type": "markdown",
      "id": "91f2f5d6",
      "metadata": {
        "papermill": {
          "duration": 0.035439,
          "end_time": "2022-12-06T21:38:57.790847",
          "exception": false,
          "start_time": "2022-12-06T21:38:57.755408",
          "status": "completed"
        },
        "tags": [],
        "id": "91f2f5d6"
      },
      "source": [
        "As is standard for evaluating machine learning models, we split our training data into a training set and a validation set. We use the training set to train the model and evaluate its performance on the validation set. In this case, we choose our validation set to be the same size as the actual test set (15 days), and we choose it to be the last 15 days of the original training set. This is to resemble the test set which is 15 days from the end of the training data. \n",
        "\n",
        "**[Evaluation](https://www.kaggle.com/competitions/store-sales-time-series-forecasting/overview/evaluation):** We use the same metric for evaluating performance on the validation set as will be used for the actual test set, namely, the Root Mean Squared Logarithmic Error, calculated as:\n",
        "\n",
        "$[\\sqrt{ \\frac{1}{n} \\sum_{i=1}^n \\left(\\log (1 + \\hat{y}_i) - \\log (1 + y_i)\\right)^2}]$\n",
        "\n",
        "where:\n",
        "\n",
        "𝑛 is the total number of instances,  \n",
        "𝑦̂ 𝑖 is the predicted value of the target for instance (i),  \n",
        "𝑦𝑖 is the actual value of the target for instance (i), and,  \n",
        "log is the natural logarithm."
      ]
    },
    {
      "cell_type": "code",
      "execution_count": null,
      "id": "06a7868d",
      "metadata": {
        "execution": {
          "iopub.execute_input": "2022-12-06T21:38:57.863139Z",
          "iopub.status.busy": "2022-12-06T21:38:57.862804Z",
          "iopub.status.idle": "2022-12-06T21:38:58.149249Z",
          "shell.execute_reply": "2022-12-06T21:38:58.148403Z"
        },
        "papermill": {
          "duration": 0.325019,
          "end_time": "2022-12-06T21:38:58.151109",
          "exception": false,
          "start_time": "2022-12-06T21:38:57.826090",
          "status": "completed"
        },
        "tags": [],
        "colab": {
          "base_uri": "https://localhost:8080/"
        },
        "id": "06a7868d",
        "outputId": "5765becd-5146-4b03-a71d-d579545e19f1"
      },
      "outputs": [
        {
          "output_type": "stream",
          "name": "stdout",
          "text": [
            "Training RMSLE: 0.32472\n",
            "Validation RMSLE: 0.18144\n"
          ]
        }
      ],
      "source": [
        "X_train, X_valid, y_train, y_valid = train_test_split(X, y, test_size=15, shuffle=False)\n",
        "\n",
        "model = LinearRegression(fit_intercept=False).fit(X_train, y_train)\n",
        "y_fit = pd.Series(model.predict(X_train), index=X_train.index).clip(0.0)\n",
        "y_pred = pd.Series(model.predict(X_valid), index=X_valid.index).clip(0.0)\n",
        "\n",
        "rmsle_train = mean_squared_log_error(y_train, y_fit) ** 0.5\n",
        "rmsle_valid = mean_squared_log_error(y_valid, y_pred) ** 0.5\n",
        "print(f'Training RMSLE: {rmsle_train:.5f}')\n",
        "print(f'Validation RMSLE: {rmsle_valid:.5f}')"
      ]
    },
    {
      "cell_type": "markdown",
      "id": "a066ab54",
      "metadata": {
        "papermill": {
          "duration": 0.035957,
          "end_time": "2022-12-06T21:38:58.223782",
          "exception": false,
          "start_time": "2022-12-06T21:38:58.187825",
          "status": "completed"
        },
        "tags": [],
        "id": "a066ab54"
      },
      "source": [
        "#### Polynomial order: 3"
      ]
    },
    {
      "cell_type": "code",
      "execution_count": null,
      "id": "c3008f37",
      "metadata": {
        "execution": {
          "iopub.execute_input": "2022-12-06T21:38:58.297262Z",
          "iopub.status.busy": "2022-12-06T21:38:58.296924Z",
          "iopub.status.idle": "2022-12-06T21:38:58.312126Z",
          "shell.execute_reply": "2022-12-06T21:38:58.311336Z"
        },
        "papermill": {
          "duration": 0.053889,
          "end_time": "2022-12-06T21:38:58.313910",
          "exception": false,
          "start_time": "2022-12-06T21:38:58.260021",
          "status": "completed"
        },
        "tags": [],
        "colab": {
          "base_uri": "https://localhost:8080/",
          "height": 237
        },
        "id": "c3008f37",
        "outputId": "494d271c-7ceb-44f6-d690-b49e67d07b13"
      },
      "outputs": [
        {
          "output_type": "execute_result",
          "data": {
            "text/plain": [
              "            const  trend  trend_squared  trend_cubed\n",
              "date                                                \n",
              "2013-01-01    1.0    1.0            1.0          1.0\n",
              "2013-01-02    1.0    2.0            4.0          8.0\n",
              "2013-01-03    1.0    3.0            9.0         27.0\n",
              "2013-01-04    1.0    4.0           16.0         64.0\n",
              "2013-01-05    1.0    5.0           25.0        125.0"
            ],
            "text/html": [
              "\n",
              "  <div id=\"df-04e19b77-1365-4f7e-b1dc-1155a2bac8f1\">\n",
              "    <div class=\"colab-df-container\">\n",
              "      <div>\n",
              "<style scoped>\n",
              "    .dataframe tbody tr th:only-of-type {\n",
              "        vertical-align: middle;\n",
              "    }\n",
              "\n",
              "    .dataframe tbody tr th {\n",
              "        vertical-align: top;\n",
              "    }\n",
              "\n",
              "    .dataframe thead th {\n",
              "        text-align: right;\n",
              "    }\n",
              "</style>\n",
              "<table border=\"1\" class=\"dataframe\">\n",
              "  <thead>\n",
              "    <tr style=\"text-align: right;\">\n",
              "      <th></th>\n",
              "      <th>const</th>\n",
              "      <th>trend</th>\n",
              "      <th>trend_squared</th>\n",
              "      <th>trend_cubed</th>\n",
              "    </tr>\n",
              "    <tr>\n",
              "      <th>date</th>\n",
              "      <th></th>\n",
              "      <th></th>\n",
              "      <th></th>\n",
              "      <th></th>\n",
              "    </tr>\n",
              "  </thead>\n",
              "  <tbody>\n",
              "    <tr>\n",
              "      <th>2013-01-01</th>\n",
              "      <td>1.0</td>\n",
              "      <td>1.0</td>\n",
              "      <td>1.0</td>\n",
              "      <td>1.0</td>\n",
              "    </tr>\n",
              "    <tr>\n",
              "      <th>2013-01-02</th>\n",
              "      <td>1.0</td>\n",
              "      <td>2.0</td>\n",
              "      <td>4.0</td>\n",
              "      <td>8.0</td>\n",
              "    </tr>\n",
              "    <tr>\n",
              "      <th>2013-01-03</th>\n",
              "      <td>1.0</td>\n",
              "      <td>3.0</td>\n",
              "      <td>9.0</td>\n",
              "      <td>27.0</td>\n",
              "    </tr>\n",
              "    <tr>\n",
              "      <th>2013-01-04</th>\n",
              "      <td>1.0</td>\n",
              "      <td>4.0</td>\n",
              "      <td>16.0</td>\n",
              "      <td>64.0</td>\n",
              "    </tr>\n",
              "    <tr>\n",
              "      <th>2013-01-05</th>\n",
              "      <td>1.0</td>\n",
              "      <td>5.0</td>\n",
              "      <td>25.0</td>\n",
              "      <td>125.0</td>\n",
              "    </tr>\n",
              "  </tbody>\n",
              "</table>\n",
              "</div>\n",
              "      <button class=\"colab-df-convert\" onclick=\"convertToInteractive('df-04e19b77-1365-4f7e-b1dc-1155a2bac8f1')\"\n",
              "              title=\"Convert this dataframe to an interactive table.\"\n",
              "              style=\"display:none;\">\n",
              "        \n",
              "  <svg xmlns=\"http://www.w3.org/2000/svg\" height=\"24px\"viewBox=\"0 0 24 24\"\n",
              "       width=\"24px\">\n",
              "    <path d=\"M0 0h24v24H0V0z\" fill=\"none\"/>\n",
              "    <path d=\"M18.56 5.44l.94 2.06.94-2.06 2.06-.94-2.06-.94-.94-2.06-.94 2.06-2.06.94zm-11 1L8.5 8.5l.94-2.06 2.06-.94-2.06-.94L8.5 2.5l-.94 2.06-2.06.94zm10 10l.94 2.06.94-2.06 2.06-.94-2.06-.94-.94-2.06-.94 2.06-2.06.94z\"/><path d=\"M17.41 7.96l-1.37-1.37c-.4-.4-.92-.59-1.43-.59-.52 0-1.04.2-1.43.59L10.3 9.45l-7.72 7.72c-.78.78-.78 2.05 0 2.83L4 21.41c.39.39.9.59 1.41.59.51 0 1.02-.2 1.41-.59l7.78-7.78 2.81-2.81c.8-.78.8-2.07 0-2.86zM5.41 20L4 18.59l7.72-7.72 1.47 1.35L5.41 20z\"/>\n",
              "  </svg>\n",
              "      </button>\n",
              "      \n",
              "  <style>\n",
              "    .colab-df-container {\n",
              "      display:flex;\n",
              "      flex-wrap:wrap;\n",
              "      gap: 12px;\n",
              "    }\n",
              "\n",
              "    .colab-df-convert {\n",
              "      background-color: #E8F0FE;\n",
              "      border: none;\n",
              "      border-radius: 50%;\n",
              "      cursor: pointer;\n",
              "      display: none;\n",
              "      fill: #1967D2;\n",
              "      height: 32px;\n",
              "      padding: 0 0 0 0;\n",
              "      width: 32px;\n",
              "    }\n",
              "\n",
              "    .colab-df-convert:hover {\n",
              "      background-color: #E2EBFA;\n",
              "      box-shadow: 0px 1px 2px rgba(60, 64, 67, 0.3), 0px 1px 3px 1px rgba(60, 64, 67, 0.15);\n",
              "      fill: #174EA6;\n",
              "    }\n",
              "\n",
              "    [theme=dark] .colab-df-convert {\n",
              "      background-color: #3B4455;\n",
              "      fill: #D2E3FC;\n",
              "    }\n",
              "\n",
              "    [theme=dark] .colab-df-convert:hover {\n",
              "      background-color: #434B5C;\n",
              "      box-shadow: 0px 1px 3px 1px rgba(0, 0, 0, 0.15);\n",
              "      filter: drop-shadow(0px 1px 2px rgba(0, 0, 0, 0.3));\n",
              "      fill: #FFFFFF;\n",
              "    }\n",
              "  </style>\n",
              "\n",
              "      <script>\n",
              "        const buttonEl =\n",
              "          document.querySelector('#df-04e19b77-1365-4f7e-b1dc-1155a2bac8f1 button.colab-df-convert');\n",
              "        buttonEl.style.display =\n",
              "          google.colab.kernel.accessAllowed ? 'block' : 'none';\n",
              "\n",
              "        async function convertToInteractive(key) {\n",
              "          const element = document.querySelector('#df-04e19b77-1365-4f7e-b1dc-1155a2bac8f1');\n",
              "          const dataTable =\n",
              "            await google.colab.kernel.invokeFunction('convertToInteractive',\n",
              "                                                     [key], {});\n",
              "          if (!dataTable) return;\n",
              "\n",
              "          const docLinkHtml = 'Like what you see? Visit the ' +\n",
              "            '<a target=\"_blank\" href=https://colab.research.google.com/notebooks/data_table.ipynb>data table notebook</a>'\n",
              "            + ' to learn more about interactive tables.';\n",
              "          element.innerHTML = '';\n",
              "          dataTable['output_type'] = 'display_data';\n",
              "          await google.colab.output.renderOutput(dataTable, element);\n",
              "          const docLink = document.createElement('div');\n",
              "          docLink.innerHTML = docLinkHtml;\n",
              "          element.appendChild(docLink);\n",
              "        }\n",
              "      </script>\n",
              "    </div>\n",
              "  </div>\n",
              "  "
            ]
          },
          "metadata": {},
          "execution_count": 17
        }
      ],
      "source": [
        "# Instantiate `DeterministicProcess` with arguments\n",
        "# appropriate for a cubic trend model\n",
        "dp = DeterministicProcess(\n",
        "    index=y.index,  # dates from the training data\n",
        "    constant=True,       # dummy feature for the bias (y_intercept)\n",
        "    order=3,             # the time dummy (trend): cubic trend\n",
        "    drop=True,           # drop terms if necessary to avoid collinearity\n",
        ")\n",
        "\n",
        "# YOUR CODE HERE: Create the feature set for the dates given in y.index\n",
        "X = dp.in_sample()\n",
        "\n",
        "X.head()"
      ]
    },
    {
      "cell_type": "code",
      "execution_count": null,
      "id": "31837810",
      "metadata": {
        "execution": {
          "iopub.execute_input": "2022-12-06T21:38:58.388795Z",
          "iopub.status.busy": "2022-12-06T21:38:58.387918Z",
          "iopub.status.idle": "2022-12-06T21:38:58.672331Z",
          "shell.execute_reply": "2022-12-06T21:38:58.671715Z"
        },
        "papermill": {
          "duration": 0.323399,
          "end_time": "2022-12-06T21:38:58.674052",
          "exception": false,
          "start_time": "2022-12-06T21:38:58.350653",
          "status": "completed"
        },
        "tags": [],
        "colab": {
          "base_uri": "https://localhost:8080/"
        },
        "id": "31837810",
        "outputId": "816bc099-7b17-45b1-df88-d8cdb8782c7f"
      },
      "outputs": [
        {
          "output_type": "stream",
          "name": "stdout",
          "text": [
            "Training RMSLE: 0.32328\n",
            "Validation RMSLE: 0.14174\n"
          ]
        }
      ],
      "source": [
        "X_train, X_valid, y_train, y_valid = train_test_split(X, y, test_size=15, shuffle=False)\n",
        "\n",
        "model = LinearRegression(fit_intercept=False).fit(X_train, y_train)\n",
        "y_fit = pd.Series(model.predict(X_train), index=X_train.index).clip(0.0)\n",
        "y_pred = pd.Series(model.predict(X_valid), index=X_valid.index).clip(0.0)\n",
        "\n",
        "rmsle_train = mean_squared_log_error(y_train, y_fit) ** 0.5\n",
        "rmsle_valid = mean_squared_log_error(y_valid, y_pred) ** 0.5\n",
        "print(f'Training RMSLE: {rmsle_train:.5f}')\n",
        "print(f'Validation RMSLE: {rmsle_valid:.5f}')"
      ]
    },
    {
      "cell_type": "markdown",
      "id": "c77074e8",
      "metadata": {
        "papermill": {
          "duration": 0.081709,
          "end_time": "2022-12-06T21:38:58.793624",
          "exception": false,
          "start_time": "2022-12-06T21:38:58.711915",
          "status": "completed"
        },
        "tags": [],
        "id": "c77074e8"
      },
      "source": [
        "We see that the cubic polynomial performs about the same on the training data, but generalises better to the validation set. We will retain the cubic trend for the remainder of this analyses."
      ]
    },
    {
      "cell_type": "markdown",
      "id": "08ce1295",
      "metadata": {
        "papermill": {
          "duration": 0.036654,
          "end_time": "2022-12-06T21:38:58.867354",
          "exception": false,
          "start_time": "2022-12-06T21:38:58.830700",
          "status": "completed"
        },
        "tags": [],
        "id": "08ce1295"
      },
      "source": [
        "#### Average sales vs Per Item sales\n",
        "\n",
        "In practise, each family of items can have its own trends; and the resulting trend is expected to be their combination. We use this information to redefine our target sales in terms of the data **and family**, instead of averaging over the latter as previously. From there on, we follow the exact procedure with `DeterministicProcess` as we did for the `average_sales` in order to compute the resultant cubic trend of each family; and evaluate our performance on the validation set."
      ]
    },
    {
      "cell_type": "code",
      "execution_count": null,
      "id": "6a1a1d8c",
      "metadata": {
        "execution": {
          "iopub.execute_input": "2022-12-06T21:38:58.943717Z",
          "iopub.status.busy": "2022-12-06T21:38:58.943375Z",
          "iopub.status.idle": "2022-12-06T21:38:59.729410Z",
          "shell.execute_reply": "2022-12-06T21:38:59.728834Z"
        },
        "papermill": {
          "duration": 0.826463,
          "end_time": "2022-12-06T21:38:59.731027",
          "exception": false,
          "start_time": "2022-12-06T21:38:58.904564",
          "status": "completed"
        },
        "tags": [],
        "colab": {
          "base_uri": "https://localhost:8080/",
          "height": 446
        },
        "id": "6a1a1d8c",
        "outputId": "02fcd5e5-1328-4e18-a5e9-9ccf438decc0"
      },
      "outputs": [
        {
          "output_type": "execute_result",
          "data": {
            "text/plain": [
              "                sales                                                \\\n",
              "store_nbr           1                                                 \n",
              "family     AUTOMOTIVE BABY CARE BEAUTY BEVERAGES BOOKS BREAD/BAKERY   \n",
              "date                                                                  \n",
              "2013-01-01        0.0       0.0    0.0       0.0   0.0     0.000000   \n",
              "2013-01-02        2.0       0.0    2.0    1091.0   0.0   470.652008   \n",
              "2013-01-03        3.0       0.0    0.0     919.0   0.0   310.654999   \n",
              "2013-01-04        3.0       0.0    3.0     953.0   0.0   198.365997   \n",
              "2013-01-05        5.0       0.0    3.0    1160.0   0.0   301.057007   \n",
              "\n",
              "                                                    ...                        \\\n",
              "store_nbr                                           ...         9               \n",
              "family     CELEBRATION CLEANING  DAIRY        DELI  ... MAGAZINES       MEATS   \n",
              "date                                                ...                         \n",
              "2013-01-01         0.0      0.0    0.0    0.000000  ...       0.0    0.000000   \n",
              "2013-01-02         0.0   1060.0  579.0  164.069000  ...       0.0  374.531006   \n",
              "2013-01-03         0.0    836.0  453.0  151.582001  ...       0.0  400.863007   \n",
              "2013-01-04         0.0    827.0  460.0  131.410995  ...       0.0  310.877991   \n",
              "2013-01-05         0.0    811.0  464.0  118.612999  ...       0.0  447.684998   \n",
              "\n",
              "                                                                           \\\n",
              "store_nbr                                                                   \n",
              "family     PERSONAL CARE PET SUPPLIES PLAYERS AND ELECTRONICS     POULTRY   \n",
              "date                                                                        \n",
              "2013-01-01           0.0          0.0                     0.0    0.000000   \n",
              "2013-01-02         482.0          0.0                     0.0  651.291992   \n",
              "2013-01-03         372.0          0.0                     0.0  509.496002   \n",
              "2013-01-04         324.0          0.0                     0.0  332.671997   \n",
              "2013-01-05         461.0          0.0                     0.0  510.919006   \n",
              "\n",
              "                                                                         \n",
              "store_nbr                                                                \n",
              "family     PREPARED FOODS PRODUCE SCHOOL AND OFFICE SUPPLIES    SEAFOOD  \n",
              "date                                                                     \n",
              "2013-01-01            0.0     0.0                        0.0   0.000000  \n",
              "2013-01-02           83.0     0.0                        0.0  29.214001  \n",
              "2013-01-03           66.0     0.0                        0.0  25.000000  \n",
              "2013-01-04           57.0     0.0                        0.0  11.000000  \n",
              "2013-01-05           84.0     0.0                        0.0  28.361000  \n",
              "\n",
              "[5 rows x 1782 columns]"
            ],
            "text/html": [
              "\n",
              "  <div id=\"df-57884f19-1e81-4b95-94f3-28f138a6c02e\">\n",
              "    <div class=\"colab-df-container\">\n",
              "      <div>\n",
              "<style scoped>\n",
              "    .dataframe tbody tr th:only-of-type {\n",
              "        vertical-align: middle;\n",
              "    }\n",
              "\n",
              "    .dataframe tbody tr th {\n",
              "        vertical-align: top;\n",
              "    }\n",
              "\n",
              "    .dataframe thead tr th {\n",
              "        text-align: left;\n",
              "    }\n",
              "\n",
              "    .dataframe thead tr:last-of-type th {\n",
              "        text-align: right;\n",
              "    }\n",
              "</style>\n",
              "<table border=\"1\" class=\"dataframe\">\n",
              "  <thead>\n",
              "    <tr>\n",
              "      <th></th>\n",
              "      <th colspan=\"21\" halign=\"left\">sales</th>\n",
              "    </tr>\n",
              "    <tr>\n",
              "      <th>store_nbr</th>\n",
              "      <th colspan=\"10\" halign=\"left\">1</th>\n",
              "      <th>...</th>\n",
              "      <th colspan=\"10\" halign=\"left\">9</th>\n",
              "    </tr>\n",
              "    <tr>\n",
              "      <th>family</th>\n",
              "      <th>AUTOMOTIVE</th>\n",
              "      <th>BABY CARE</th>\n",
              "      <th>BEAUTY</th>\n",
              "      <th>BEVERAGES</th>\n",
              "      <th>BOOKS</th>\n",
              "      <th>BREAD/BAKERY</th>\n",
              "      <th>CELEBRATION</th>\n",
              "      <th>CLEANING</th>\n",
              "      <th>DAIRY</th>\n",
              "      <th>DELI</th>\n",
              "      <th>...</th>\n",
              "      <th>MAGAZINES</th>\n",
              "      <th>MEATS</th>\n",
              "      <th>PERSONAL CARE</th>\n",
              "      <th>PET SUPPLIES</th>\n",
              "      <th>PLAYERS AND ELECTRONICS</th>\n",
              "      <th>POULTRY</th>\n",
              "      <th>PREPARED FOODS</th>\n",
              "      <th>PRODUCE</th>\n",
              "      <th>SCHOOL AND OFFICE SUPPLIES</th>\n",
              "      <th>SEAFOOD</th>\n",
              "    </tr>\n",
              "    <tr>\n",
              "      <th>date</th>\n",
              "      <th></th>\n",
              "      <th></th>\n",
              "      <th></th>\n",
              "      <th></th>\n",
              "      <th></th>\n",
              "      <th></th>\n",
              "      <th></th>\n",
              "      <th></th>\n",
              "      <th></th>\n",
              "      <th></th>\n",
              "      <th></th>\n",
              "      <th></th>\n",
              "      <th></th>\n",
              "      <th></th>\n",
              "      <th></th>\n",
              "      <th></th>\n",
              "      <th></th>\n",
              "      <th></th>\n",
              "      <th></th>\n",
              "      <th></th>\n",
              "      <th></th>\n",
              "    </tr>\n",
              "  </thead>\n",
              "  <tbody>\n",
              "    <tr>\n",
              "      <th>2013-01-01</th>\n",
              "      <td>0.0</td>\n",
              "      <td>0.0</td>\n",
              "      <td>0.0</td>\n",
              "      <td>0.0</td>\n",
              "      <td>0.0</td>\n",
              "      <td>0.000000</td>\n",
              "      <td>0.0</td>\n",
              "      <td>0.0</td>\n",
              "      <td>0.0</td>\n",
              "      <td>0.000000</td>\n",
              "      <td>...</td>\n",
              "      <td>0.0</td>\n",
              "      <td>0.000000</td>\n",
              "      <td>0.0</td>\n",
              "      <td>0.0</td>\n",
              "      <td>0.0</td>\n",
              "      <td>0.000000</td>\n",
              "      <td>0.0</td>\n",
              "      <td>0.0</td>\n",
              "      <td>0.0</td>\n",
              "      <td>0.000000</td>\n",
              "    </tr>\n",
              "    <tr>\n",
              "      <th>2013-01-02</th>\n",
              "      <td>2.0</td>\n",
              "      <td>0.0</td>\n",
              "      <td>2.0</td>\n",
              "      <td>1091.0</td>\n",
              "      <td>0.0</td>\n",
              "      <td>470.652008</td>\n",
              "      <td>0.0</td>\n",
              "      <td>1060.0</td>\n",
              "      <td>579.0</td>\n",
              "      <td>164.069000</td>\n",
              "      <td>...</td>\n",
              "      <td>0.0</td>\n",
              "      <td>374.531006</td>\n",
              "      <td>482.0</td>\n",
              "      <td>0.0</td>\n",
              "      <td>0.0</td>\n",
              "      <td>651.291992</td>\n",
              "      <td>83.0</td>\n",
              "      <td>0.0</td>\n",
              "      <td>0.0</td>\n",
              "      <td>29.214001</td>\n",
              "    </tr>\n",
              "    <tr>\n",
              "      <th>2013-01-03</th>\n",
              "      <td>3.0</td>\n",
              "      <td>0.0</td>\n",
              "      <td>0.0</td>\n",
              "      <td>919.0</td>\n",
              "      <td>0.0</td>\n",
              "      <td>310.654999</td>\n",
              "      <td>0.0</td>\n",
              "      <td>836.0</td>\n",
              "      <td>453.0</td>\n",
              "      <td>151.582001</td>\n",
              "      <td>...</td>\n",
              "      <td>0.0</td>\n",
              "      <td>400.863007</td>\n",
              "      <td>372.0</td>\n",
              "      <td>0.0</td>\n",
              "      <td>0.0</td>\n",
              "      <td>509.496002</td>\n",
              "      <td>66.0</td>\n",
              "      <td>0.0</td>\n",
              "      <td>0.0</td>\n",
              "      <td>25.000000</td>\n",
              "    </tr>\n",
              "    <tr>\n",
              "      <th>2013-01-04</th>\n",
              "      <td>3.0</td>\n",
              "      <td>0.0</td>\n",
              "      <td>3.0</td>\n",
              "      <td>953.0</td>\n",
              "      <td>0.0</td>\n",
              "      <td>198.365997</td>\n",
              "      <td>0.0</td>\n",
              "      <td>827.0</td>\n",
              "      <td>460.0</td>\n",
              "      <td>131.410995</td>\n",
              "      <td>...</td>\n",
              "      <td>0.0</td>\n",
              "      <td>310.877991</td>\n",
              "      <td>324.0</td>\n",
              "      <td>0.0</td>\n",
              "      <td>0.0</td>\n",
              "      <td>332.671997</td>\n",
              "      <td>57.0</td>\n",
              "      <td>0.0</td>\n",
              "      <td>0.0</td>\n",
              "      <td>11.000000</td>\n",
              "    </tr>\n",
              "    <tr>\n",
              "      <th>2013-01-05</th>\n",
              "      <td>5.0</td>\n",
              "      <td>0.0</td>\n",
              "      <td>3.0</td>\n",
              "      <td>1160.0</td>\n",
              "      <td>0.0</td>\n",
              "      <td>301.057007</td>\n",
              "      <td>0.0</td>\n",
              "      <td>811.0</td>\n",
              "      <td>464.0</td>\n",
              "      <td>118.612999</td>\n",
              "      <td>...</td>\n",
              "      <td>0.0</td>\n",
              "      <td>447.684998</td>\n",
              "      <td>461.0</td>\n",
              "      <td>0.0</td>\n",
              "      <td>0.0</td>\n",
              "      <td>510.919006</td>\n",
              "      <td>84.0</td>\n",
              "      <td>0.0</td>\n",
              "      <td>0.0</td>\n",
              "      <td>28.361000</td>\n",
              "    </tr>\n",
              "  </tbody>\n",
              "</table>\n",
              "<p>5 rows × 1782 columns</p>\n",
              "</div>\n",
              "      <button class=\"colab-df-convert\" onclick=\"convertToInteractive('df-57884f19-1e81-4b95-94f3-28f138a6c02e')\"\n",
              "              title=\"Convert this dataframe to an interactive table.\"\n",
              "              style=\"display:none;\">\n",
              "        \n",
              "  <svg xmlns=\"http://www.w3.org/2000/svg\" height=\"24px\"viewBox=\"0 0 24 24\"\n",
              "       width=\"24px\">\n",
              "    <path d=\"M0 0h24v24H0V0z\" fill=\"none\"/>\n",
              "    <path d=\"M18.56 5.44l.94 2.06.94-2.06 2.06-.94-2.06-.94-.94-2.06-.94 2.06-2.06.94zm-11 1L8.5 8.5l.94-2.06 2.06-.94-2.06-.94L8.5 2.5l-.94 2.06-2.06.94zm10 10l.94 2.06.94-2.06 2.06-.94-2.06-.94-.94-2.06-.94 2.06-2.06.94z\"/><path d=\"M17.41 7.96l-1.37-1.37c-.4-.4-.92-.59-1.43-.59-.52 0-1.04.2-1.43.59L10.3 9.45l-7.72 7.72c-.78.78-.78 2.05 0 2.83L4 21.41c.39.39.9.59 1.41.59.51 0 1.02-.2 1.41-.59l7.78-7.78 2.81-2.81c.8-.78.8-2.07 0-2.86zM5.41 20L4 18.59l7.72-7.72 1.47 1.35L5.41 20z\"/>\n",
              "  </svg>\n",
              "      </button>\n",
              "      \n",
              "  <style>\n",
              "    .colab-df-container {\n",
              "      display:flex;\n",
              "      flex-wrap:wrap;\n",
              "      gap: 12px;\n",
              "    }\n",
              "\n",
              "    .colab-df-convert {\n",
              "      background-color: #E8F0FE;\n",
              "      border: none;\n",
              "      border-radius: 50%;\n",
              "      cursor: pointer;\n",
              "      display: none;\n",
              "      fill: #1967D2;\n",
              "      height: 32px;\n",
              "      padding: 0 0 0 0;\n",
              "      width: 32px;\n",
              "    }\n",
              "\n",
              "    .colab-df-convert:hover {\n",
              "      background-color: #E2EBFA;\n",
              "      box-shadow: 0px 1px 2px rgba(60, 64, 67, 0.3), 0px 1px 3px 1px rgba(60, 64, 67, 0.15);\n",
              "      fill: #174EA6;\n",
              "    }\n",
              "\n",
              "    [theme=dark] .colab-df-convert {\n",
              "      background-color: #3B4455;\n",
              "      fill: #D2E3FC;\n",
              "    }\n",
              "\n",
              "    [theme=dark] .colab-df-convert:hover {\n",
              "      background-color: #434B5C;\n",
              "      box-shadow: 0px 1px 3px 1px rgba(0, 0, 0, 0.15);\n",
              "      filter: drop-shadow(0px 1px 2px rgba(0, 0, 0, 0.3));\n",
              "      fill: #FFFFFF;\n",
              "    }\n",
              "  </style>\n",
              "\n",
              "      <script>\n",
              "        const buttonEl =\n",
              "          document.querySelector('#df-57884f19-1e81-4b95-94f3-28f138a6c02e button.colab-df-convert');\n",
              "        buttonEl.style.display =\n",
              "          google.colab.kernel.accessAllowed ? 'block' : 'none';\n",
              "\n",
              "        async function convertToInteractive(key) {\n",
              "          const element = document.querySelector('#df-57884f19-1e81-4b95-94f3-28f138a6c02e');\n",
              "          const dataTable =\n",
              "            await google.colab.kernel.invokeFunction('convertToInteractive',\n",
              "                                                     [key], {});\n",
              "          if (!dataTable) return;\n",
              "\n",
              "          const docLinkHtml = 'Like what you see? Visit the ' +\n",
              "            '<a target=\"_blank\" href=https://colab.research.google.com/notebooks/data_table.ipynb>data table notebook</a>'\n",
              "            + ' to learn more about interactive tables.';\n",
              "          element.innerHTML = '';\n",
              "          dataTable['output_type'] = 'display_data';\n",
              "          await google.colab.output.renderOutput(dataTable, element);\n",
              "          const docLink = document.createElement('div');\n",
              "          docLink.innerHTML = docLinkHtml;\n",
              "          element.appendChild(docLink);\n",
              "        }\n",
              "      </script>\n",
              "    </div>\n",
              "  </div>\n",
              "  "
            ]
          },
          "metadata": {},
          "execution_count": 20
        }
      ],
      "source": [
        "y = store_sales.unstack(['store_nbr', 'family'])  # the target\n",
        "y.head()"
      ]
    },
    {
      "cell_type": "code",
      "execution_count": null,
      "id": "a5e48865",
      "metadata": {
        "execution": {
          "iopub.execute_input": "2022-12-06T21:38:59.810077Z",
          "iopub.status.busy": "2022-12-06T21:38:59.809480Z",
          "iopub.status.idle": "2022-12-06T21:38:59.824435Z",
          "shell.execute_reply": "2022-12-06T21:38:59.823659Z"
        },
        "papermill": {
          "duration": 0.055773,
          "end_time": "2022-12-06T21:38:59.826100",
          "exception": false,
          "start_time": "2022-12-06T21:38:59.770327",
          "status": "completed"
        },
        "tags": [],
        "colab": {
          "base_uri": "https://localhost:8080/",
          "height": 237
        },
        "id": "a5e48865",
        "outputId": "e9dd783f-f30d-48d2-93f0-22dd355f25e2"
      },
      "outputs": [
        {
          "output_type": "execute_result",
          "data": {
            "text/plain": [
              "            const  trend  trend_squared  trend_cubed\n",
              "date                                                \n",
              "2013-01-01    1.0    1.0            1.0          1.0\n",
              "2013-01-02    1.0    2.0            4.0          8.0\n",
              "2013-01-03    1.0    3.0            9.0         27.0\n",
              "2013-01-04    1.0    4.0           16.0         64.0\n",
              "2013-01-05    1.0    5.0           25.0        125.0"
            ],
            "text/html": [
              "\n",
              "  <div id=\"df-8706b1b1-813c-49f8-88c8-4d67d26e157d\">\n",
              "    <div class=\"colab-df-container\">\n",
              "      <div>\n",
              "<style scoped>\n",
              "    .dataframe tbody tr th:only-of-type {\n",
              "        vertical-align: middle;\n",
              "    }\n",
              "\n",
              "    .dataframe tbody tr th {\n",
              "        vertical-align: top;\n",
              "    }\n",
              "\n",
              "    .dataframe thead th {\n",
              "        text-align: right;\n",
              "    }\n",
              "</style>\n",
              "<table border=\"1\" class=\"dataframe\">\n",
              "  <thead>\n",
              "    <tr style=\"text-align: right;\">\n",
              "      <th></th>\n",
              "      <th>const</th>\n",
              "      <th>trend</th>\n",
              "      <th>trend_squared</th>\n",
              "      <th>trend_cubed</th>\n",
              "    </tr>\n",
              "    <tr>\n",
              "      <th>date</th>\n",
              "      <th></th>\n",
              "      <th></th>\n",
              "      <th></th>\n",
              "      <th></th>\n",
              "    </tr>\n",
              "  </thead>\n",
              "  <tbody>\n",
              "    <tr>\n",
              "      <th>2013-01-01</th>\n",
              "      <td>1.0</td>\n",
              "      <td>1.0</td>\n",
              "      <td>1.0</td>\n",
              "      <td>1.0</td>\n",
              "    </tr>\n",
              "    <tr>\n",
              "      <th>2013-01-02</th>\n",
              "      <td>1.0</td>\n",
              "      <td>2.0</td>\n",
              "      <td>4.0</td>\n",
              "      <td>8.0</td>\n",
              "    </tr>\n",
              "    <tr>\n",
              "      <th>2013-01-03</th>\n",
              "      <td>1.0</td>\n",
              "      <td>3.0</td>\n",
              "      <td>9.0</td>\n",
              "      <td>27.0</td>\n",
              "    </tr>\n",
              "    <tr>\n",
              "      <th>2013-01-04</th>\n",
              "      <td>1.0</td>\n",
              "      <td>4.0</td>\n",
              "      <td>16.0</td>\n",
              "      <td>64.0</td>\n",
              "    </tr>\n",
              "    <tr>\n",
              "      <th>2013-01-05</th>\n",
              "      <td>1.0</td>\n",
              "      <td>5.0</td>\n",
              "      <td>25.0</td>\n",
              "      <td>125.0</td>\n",
              "    </tr>\n",
              "  </tbody>\n",
              "</table>\n",
              "</div>\n",
              "      <button class=\"colab-df-convert\" onclick=\"convertToInteractive('df-8706b1b1-813c-49f8-88c8-4d67d26e157d')\"\n",
              "              title=\"Convert this dataframe to an interactive table.\"\n",
              "              style=\"display:none;\">\n",
              "        \n",
              "  <svg xmlns=\"http://www.w3.org/2000/svg\" height=\"24px\"viewBox=\"0 0 24 24\"\n",
              "       width=\"24px\">\n",
              "    <path d=\"M0 0h24v24H0V0z\" fill=\"none\"/>\n",
              "    <path d=\"M18.56 5.44l.94 2.06.94-2.06 2.06-.94-2.06-.94-.94-2.06-.94 2.06-2.06.94zm-11 1L8.5 8.5l.94-2.06 2.06-.94-2.06-.94L8.5 2.5l-.94 2.06-2.06.94zm10 10l.94 2.06.94-2.06 2.06-.94-2.06-.94-.94-2.06-.94 2.06-2.06.94z\"/><path d=\"M17.41 7.96l-1.37-1.37c-.4-.4-.92-.59-1.43-.59-.52 0-1.04.2-1.43.59L10.3 9.45l-7.72 7.72c-.78.78-.78 2.05 0 2.83L4 21.41c.39.39.9.59 1.41.59.51 0 1.02-.2 1.41-.59l7.78-7.78 2.81-2.81c.8-.78.8-2.07 0-2.86zM5.41 20L4 18.59l7.72-7.72 1.47 1.35L5.41 20z\"/>\n",
              "  </svg>\n",
              "      </button>\n",
              "      \n",
              "  <style>\n",
              "    .colab-df-container {\n",
              "      display:flex;\n",
              "      flex-wrap:wrap;\n",
              "      gap: 12px;\n",
              "    }\n",
              "\n",
              "    .colab-df-convert {\n",
              "      background-color: #E8F0FE;\n",
              "      border: none;\n",
              "      border-radius: 50%;\n",
              "      cursor: pointer;\n",
              "      display: none;\n",
              "      fill: #1967D2;\n",
              "      height: 32px;\n",
              "      padding: 0 0 0 0;\n",
              "      width: 32px;\n",
              "    }\n",
              "\n",
              "    .colab-df-convert:hover {\n",
              "      background-color: #E2EBFA;\n",
              "      box-shadow: 0px 1px 2px rgba(60, 64, 67, 0.3), 0px 1px 3px 1px rgba(60, 64, 67, 0.15);\n",
              "      fill: #174EA6;\n",
              "    }\n",
              "\n",
              "    [theme=dark] .colab-df-convert {\n",
              "      background-color: #3B4455;\n",
              "      fill: #D2E3FC;\n",
              "    }\n",
              "\n",
              "    [theme=dark] .colab-df-convert:hover {\n",
              "      background-color: #434B5C;\n",
              "      box-shadow: 0px 1px 3px 1px rgba(0, 0, 0, 0.15);\n",
              "      filter: drop-shadow(0px 1px 2px rgba(0, 0, 0, 0.3));\n",
              "      fill: #FFFFFF;\n",
              "    }\n",
              "  </style>\n",
              "\n",
              "      <script>\n",
              "        const buttonEl =\n",
              "          document.querySelector('#df-8706b1b1-813c-49f8-88c8-4d67d26e157d button.colab-df-convert');\n",
              "        buttonEl.style.display =\n",
              "          google.colab.kernel.accessAllowed ? 'block' : 'none';\n",
              "\n",
              "        async function convertToInteractive(key) {\n",
              "          const element = document.querySelector('#df-8706b1b1-813c-49f8-88c8-4d67d26e157d');\n",
              "          const dataTable =\n",
              "            await google.colab.kernel.invokeFunction('convertToInteractive',\n",
              "                                                     [key], {});\n",
              "          if (!dataTable) return;\n",
              "\n",
              "          const docLinkHtml = 'Like what you see? Visit the ' +\n",
              "            '<a target=\"_blank\" href=https://colab.research.google.com/notebooks/data_table.ipynb>data table notebook</a>'\n",
              "            + ' to learn more about interactive tables.';\n",
              "          element.innerHTML = '';\n",
              "          dataTable['output_type'] = 'display_data';\n",
              "          await google.colab.output.renderOutput(dataTable, element);\n",
              "          const docLink = document.createElement('div');\n",
              "          docLink.innerHTML = docLinkHtml;\n",
              "          element.appendChild(docLink);\n",
              "        }\n",
              "      </script>\n",
              "    </div>\n",
              "  </div>\n",
              "  "
            ]
          },
          "metadata": {},
          "execution_count": 21
        }
      ],
      "source": [
        "# Instantiate `DeterministicProcess` with arguments\n",
        "# appropriate for a cubic trend model\n",
        "dp = DeterministicProcess(\n",
        "    index=y.index,  # dates from the training data\n",
        "    constant=True,       # dummy feature for the bias (y_intercept)\n",
        "    order=3,             # the time dummy (trend): cubic trend\n",
        "    drop=True,           # drop terms if necessary to avoid collinearity\n",
        ")\n",
        "\n",
        "# YOUR CODE HERE: Create the feature set for the dates given in y.index\n",
        "X = dp.in_sample()\n",
        "\n",
        "X.head()"
      ]
    },
    {
      "cell_type": "code",
      "execution_count": null,
      "id": "4f40f95c",
      "metadata": {
        "execution": {
          "iopub.execute_input": "2022-12-06T21:38:59.907729Z",
          "iopub.status.busy": "2022-12-06T21:38:59.907398Z",
          "iopub.status.idle": "2022-12-06T21:39:00.211659Z",
          "shell.execute_reply": "2022-12-06T21:39:00.210626Z"
        },
        "papermill": {
          "duration": 0.347715,
          "end_time": "2022-12-06T21:39:00.213478",
          "exception": false,
          "start_time": "2022-12-06T21:38:59.865763",
          "status": "completed"
        },
        "tags": [],
        "colab": {
          "base_uri": "https://localhost:8080/",
          "height": 482
        },
        "id": "4f40f95c",
        "outputId": "1334a544-3d6f-4eed-df9d-4da1fe6775fb"
      },
      "outputs": [
        {
          "output_type": "stream",
          "name": "stdout",
          "text": [
            "Training RMSLE: 1.08942\n",
            "Validation RMSLE: 0.59417\n"
          ]
        },
        {
          "output_type": "execute_result",
          "data": {
            "text/plain": [
              "                sales                                                          \\\n",
              "store_nbr           1                                                           \n",
              "family     AUTOMOTIVE BABY CARE    BEAUTY    BEVERAGES     BOOKS BREAD/BAKERY   \n",
              "date                                                                            \n",
              "2017-08-01   3.989250       0.0  3.531821  2196.628603  0.716912   343.640481   \n",
              "2017-08-02   3.987273       0.0  3.534058  2196.550189  0.718472   343.374526   \n",
              "2017-08-03   3.985285       0.0  3.536296  2196.469286  0.720033   343.107744   \n",
              "2017-08-04   3.983288       0.0  3.538537  2196.385892  0.721597   342.840136   \n",
              "2017-08-05   3.981282       0.0  3.540779  2196.300004  0.723162   342.571700   \n",
              "\n",
              "                                                            ...            \\\n",
              "store_nbr                                                   ...         9   \n",
              "family     CELEBRATION    CLEANING       DAIRY        DELI  ... MAGAZINES   \n",
              "date                                                        ...             \n",
              "2017-08-01   14.867376  652.084491  723.399901  125.146642  ...  3.572239   \n",
              "2017-08-02   14.857873  651.978731  723.315813  125.079406  ...  3.567129   \n",
              "2017-08-03   14.848331  651.872595  723.231416  125.011949  ...  3.561989   \n",
              "2017-08-04   14.838750  651.766082  723.146711  124.944271  ...  3.556819   \n",
              "2017-08-05   14.829128  651.659192  723.061698  124.876371  ...  3.551620   \n",
              "\n",
              "                                                                           \\\n",
              "store_nbr                                                                   \n",
              "family           MEATS PERSONAL CARE PET SUPPLIES PLAYERS AND ELECTRONICS   \n",
              "date                                                                        \n",
              "2017-08-01  400.943405    450.827401     8.332957               11.246038   \n",
              "2017-08-02  400.976549    450.483202     8.338341               11.239880   \n",
              "2017-08-03  401.009700    450.137935     8.343720               11.233688   \n",
              "2017-08-04  401.042858    449.791600     8.349094               11.227461   \n",
              "2017-08-05  401.076023    449.444195     8.354462               11.221199   \n",
              "\n",
              "                                                                               \\\n",
              "store_nbr                                                                       \n",
              "family         POULTRY PREPARED FOODS      PRODUCE SCHOOL AND OFFICE SUPPLIES   \n",
              "date                                                                            \n",
              "2017-08-01  469.952945     130.385421  1632.064882                   2.883387   \n",
              "2017-08-02  470.156275     130.457848  1631.080944                   2.857556   \n",
              "2017-08-03  470.360760     130.530316  1630.091322                   2.831655   \n",
              "2017-08-04  470.566403     130.602826  1629.096009                   2.805684   \n",
              "2017-08-05  470.773206     130.675376  1628.094999                   2.779641   \n",
              "\n",
              "                       \n",
              "store_nbr              \n",
              "family        SEAFOOD  \n",
              "date                   \n",
              "2017-08-01  16.740531  \n",
              "2017-08-02  16.732058  \n",
              "2017-08-03  16.723550  \n",
              "2017-08-04  16.715008  \n",
              "2017-08-05  16.706430  \n",
              "\n",
              "[5 rows x 1782 columns]"
            ],
            "text/html": [
              "\n",
              "  <div id=\"df-5018078b-6322-4432-8b3c-d7529109dfe3\">\n",
              "    <div class=\"colab-df-container\">\n",
              "      <div>\n",
              "<style scoped>\n",
              "    .dataframe tbody tr th:only-of-type {\n",
              "        vertical-align: middle;\n",
              "    }\n",
              "\n",
              "    .dataframe tbody tr th {\n",
              "        vertical-align: top;\n",
              "    }\n",
              "\n",
              "    .dataframe thead tr th {\n",
              "        text-align: left;\n",
              "    }\n",
              "\n",
              "    .dataframe thead tr:last-of-type th {\n",
              "        text-align: right;\n",
              "    }\n",
              "</style>\n",
              "<table border=\"1\" class=\"dataframe\">\n",
              "  <thead>\n",
              "    <tr>\n",
              "      <th></th>\n",
              "      <th colspan=\"21\" halign=\"left\">sales</th>\n",
              "    </tr>\n",
              "    <tr>\n",
              "      <th>store_nbr</th>\n",
              "      <th colspan=\"10\" halign=\"left\">1</th>\n",
              "      <th>...</th>\n",
              "      <th colspan=\"10\" halign=\"left\">9</th>\n",
              "    </tr>\n",
              "    <tr>\n",
              "      <th>family</th>\n",
              "      <th>AUTOMOTIVE</th>\n",
              "      <th>BABY CARE</th>\n",
              "      <th>BEAUTY</th>\n",
              "      <th>BEVERAGES</th>\n",
              "      <th>BOOKS</th>\n",
              "      <th>BREAD/BAKERY</th>\n",
              "      <th>CELEBRATION</th>\n",
              "      <th>CLEANING</th>\n",
              "      <th>DAIRY</th>\n",
              "      <th>DELI</th>\n",
              "      <th>...</th>\n",
              "      <th>MAGAZINES</th>\n",
              "      <th>MEATS</th>\n",
              "      <th>PERSONAL CARE</th>\n",
              "      <th>PET SUPPLIES</th>\n",
              "      <th>PLAYERS AND ELECTRONICS</th>\n",
              "      <th>POULTRY</th>\n",
              "      <th>PREPARED FOODS</th>\n",
              "      <th>PRODUCE</th>\n",
              "      <th>SCHOOL AND OFFICE SUPPLIES</th>\n",
              "      <th>SEAFOOD</th>\n",
              "    </tr>\n",
              "    <tr>\n",
              "      <th>date</th>\n",
              "      <th></th>\n",
              "      <th></th>\n",
              "      <th></th>\n",
              "      <th></th>\n",
              "      <th></th>\n",
              "      <th></th>\n",
              "      <th></th>\n",
              "      <th></th>\n",
              "      <th></th>\n",
              "      <th></th>\n",
              "      <th></th>\n",
              "      <th></th>\n",
              "      <th></th>\n",
              "      <th></th>\n",
              "      <th></th>\n",
              "      <th></th>\n",
              "      <th></th>\n",
              "      <th></th>\n",
              "      <th></th>\n",
              "      <th></th>\n",
              "      <th></th>\n",
              "    </tr>\n",
              "  </thead>\n",
              "  <tbody>\n",
              "    <tr>\n",
              "      <th>2017-08-01</th>\n",
              "      <td>3.989250</td>\n",
              "      <td>0.0</td>\n",
              "      <td>3.531821</td>\n",
              "      <td>2196.628603</td>\n",
              "      <td>0.716912</td>\n",
              "      <td>343.640481</td>\n",
              "      <td>14.867376</td>\n",
              "      <td>652.084491</td>\n",
              "      <td>723.399901</td>\n",
              "      <td>125.146642</td>\n",
              "      <td>...</td>\n",
              "      <td>3.572239</td>\n",
              "      <td>400.943405</td>\n",
              "      <td>450.827401</td>\n",
              "      <td>8.332957</td>\n",
              "      <td>11.246038</td>\n",
              "      <td>469.952945</td>\n",
              "      <td>130.385421</td>\n",
              "      <td>1632.064882</td>\n",
              "      <td>2.883387</td>\n",
              "      <td>16.740531</td>\n",
              "    </tr>\n",
              "    <tr>\n",
              "      <th>2017-08-02</th>\n",
              "      <td>3.987273</td>\n",
              "      <td>0.0</td>\n",
              "      <td>3.534058</td>\n",
              "      <td>2196.550189</td>\n",
              "      <td>0.718472</td>\n",
              "      <td>343.374526</td>\n",
              "      <td>14.857873</td>\n",
              "      <td>651.978731</td>\n",
              "      <td>723.315813</td>\n",
              "      <td>125.079406</td>\n",
              "      <td>...</td>\n",
              "      <td>3.567129</td>\n",
              "      <td>400.976549</td>\n",
              "      <td>450.483202</td>\n",
              "      <td>8.338341</td>\n",
              "      <td>11.239880</td>\n",
              "      <td>470.156275</td>\n",
              "      <td>130.457848</td>\n",
              "      <td>1631.080944</td>\n",
              "      <td>2.857556</td>\n",
              "      <td>16.732058</td>\n",
              "    </tr>\n",
              "    <tr>\n",
              "      <th>2017-08-03</th>\n",
              "      <td>3.985285</td>\n",
              "      <td>0.0</td>\n",
              "      <td>3.536296</td>\n",
              "      <td>2196.469286</td>\n",
              "      <td>0.720033</td>\n",
              "      <td>343.107744</td>\n",
              "      <td>14.848331</td>\n",
              "      <td>651.872595</td>\n",
              "      <td>723.231416</td>\n",
              "      <td>125.011949</td>\n",
              "      <td>...</td>\n",
              "      <td>3.561989</td>\n",
              "      <td>401.009700</td>\n",
              "      <td>450.137935</td>\n",
              "      <td>8.343720</td>\n",
              "      <td>11.233688</td>\n",
              "      <td>470.360760</td>\n",
              "      <td>130.530316</td>\n",
              "      <td>1630.091322</td>\n",
              "      <td>2.831655</td>\n",
              "      <td>16.723550</td>\n",
              "    </tr>\n",
              "    <tr>\n",
              "      <th>2017-08-04</th>\n",
              "      <td>3.983288</td>\n",
              "      <td>0.0</td>\n",
              "      <td>3.538537</td>\n",
              "      <td>2196.385892</td>\n",
              "      <td>0.721597</td>\n",
              "      <td>342.840136</td>\n",
              "      <td>14.838750</td>\n",
              "      <td>651.766082</td>\n",
              "      <td>723.146711</td>\n",
              "      <td>124.944271</td>\n",
              "      <td>...</td>\n",
              "      <td>3.556819</td>\n",
              "      <td>401.042858</td>\n",
              "      <td>449.791600</td>\n",
              "      <td>8.349094</td>\n",
              "      <td>11.227461</td>\n",
              "      <td>470.566403</td>\n",
              "      <td>130.602826</td>\n",
              "      <td>1629.096009</td>\n",
              "      <td>2.805684</td>\n",
              "      <td>16.715008</td>\n",
              "    </tr>\n",
              "    <tr>\n",
              "      <th>2017-08-05</th>\n",
              "      <td>3.981282</td>\n",
              "      <td>0.0</td>\n",
              "      <td>3.540779</td>\n",
              "      <td>2196.300004</td>\n",
              "      <td>0.723162</td>\n",
              "      <td>342.571700</td>\n",
              "      <td>14.829128</td>\n",
              "      <td>651.659192</td>\n",
              "      <td>723.061698</td>\n",
              "      <td>124.876371</td>\n",
              "      <td>...</td>\n",
              "      <td>3.551620</td>\n",
              "      <td>401.076023</td>\n",
              "      <td>449.444195</td>\n",
              "      <td>8.354462</td>\n",
              "      <td>11.221199</td>\n",
              "      <td>470.773206</td>\n",
              "      <td>130.675376</td>\n",
              "      <td>1628.094999</td>\n",
              "      <td>2.779641</td>\n",
              "      <td>16.706430</td>\n",
              "    </tr>\n",
              "  </tbody>\n",
              "</table>\n",
              "<p>5 rows × 1782 columns</p>\n",
              "</div>\n",
              "      <button class=\"colab-df-convert\" onclick=\"convertToInteractive('df-5018078b-6322-4432-8b3c-d7529109dfe3')\"\n",
              "              title=\"Convert this dataframe to an interactive table.\"\n",
              "              style=\"display:none;\">\n",
              "        \n",
              "  <svg xmlns=\"http://www.w3.org/2000/svg\" height=\"24px\"viewBox=\"0 0 24 24\"\n",
              "       width=\"24px\">\n",
              "    <path d=\"M0 0h24v24H0V0z\" fill=\"none\"/>\n",
              "    <path d=\"M18.56 5.44l.94 2.06.94-2.06 2.06-.94-2.06-.94-.94-2.06-.94 2.06-2.06.94zm-11 1L8.5 8.5l.94-2.06 2.06-.94-2.06-.94L8.5 2.5l-.94 2.06-2.06.94zm10 10l.94 2.06.94-2.06 2.06-.94-2.06-.94-.94-2.06-.94 2.06-2.06.94z\"/><path d=\"M17.41 7.96l-1.37-1.37c-.4-.4-.92-.59-1.43-.59-.52 0-1.04.2-1.43.59L10.3 9.45l-7.72 7.72c-.78.78-.78 2.05 0 2.83L4 21.41c.39.39.9.59 1.41.59.51 0 1.02-.2 1.41-.59l7.78-7.78 2.81-2.81c.8-.78.8-2.07 0-2.86zM5.41 20L4 18.59l7.72-7.72 1.47 1.35L5.41 20z\"/>\n",
              "  </svg>\n",
              "      </button>\n",
              "      \n",
              "  <style>\n",
              "    .colab-df-container {\n",
              "      display:flex;\n",
              "      flex-wrap:wrap;\n",
              "      gap: 12px;\n",
              "    }\n",
              "\n",
              "    .colab-df-convert {\n",
              "      background-color: #E8F0FE;\n",
              "      border: none;\n",
              "      border-radius: 50%;\n",
              "      cursor: pointer;\n",
              "      display: none;\n",
              "      fill: #1967D2;\n",
              "      height: 32px;\n",
              "      padding: 0 0 0 0;\n",
              "      width: 32px;\n",
              "    }\n",
              "\n",
              "    .colab-df-convert:hover {\n",
              "      background-color: #E2EBFA;\n",
              "      box-shadow: 0px 1px 2px rgba(60, 64, 67, 0.3), 0px 1px 3px 1px rgba(60, 64, 67, 0.15);\n",
              "      fill: #174EA6;\n",
              "    }\n",
              "\n",
              "    [theme=dark] .colab-df-convert {\n",
              "      background-color: #3B4455;\n",
              "      fill: #D2E3FC;\n",
              "    }\n",
              "\n",
              "    [theme=dark] .colab-df-convert:hover {\n",
              "      background-color: #434B5C;\n",
              "      box-shadow: 0px 1px 3px 1px rgba(0, 0, 0, 0.15);\n",
              "      filter: drop-shadow(0px 1px 2px rgba(0, 0, 0, 0.3));\n",
              "      fill: #FFFFFF;\n",
              "    }\n",
              "  </style>\n",
              "\n",
              "      <script>\n",
              "        const buttonEl =\n",
              "          document.querySelector('#df-5018078b-6322-4432-8b3c-d7529109dfe3 button.colab-df-convert');\n",
              "        buttonEl.style.display =\n",
              "          google.colab.kernel.accessAllowed ? 'block' : 'none';\n",
              "\n",
              "        async function convertToInteractive(key) {\n",
              "          const element = document.querySelector('#df-5018078b-6322-4432-8b3c-d7529109dfe3');\n",
              "          const dataTable =\n",
              "            await google.colab.kernel.invokeFunction('convertToInteractive',\n",
              "                                                     [key], {});\n",
              "          if (!dataTable) return;\n",
              "\n",
              "          const docLinkHtml = 'Like what you see? Visit the ' +\n",
              "            '<a target=\"_blank\" href=https://colab.research.google.com/notebooks/data_table.ipynb>data table notebook</a>'\n",
              "            + ' to learn more about interactive tables.';\n",
              "          element.innerHTML = '';\n",
              "          dataTable['output_type'] = 'display_data';\n",
              "          await google.colab.output.renderOutput(dataTable, element);\n",
              "          const docLink = document.createElement('div');\n",
              "          docLink.innerHTML = docLinkHtml;\n",
              "          element.appendChild(docLink);\n",
              "        }\n",
              "      </script>\n",
              "    </div>\n",
              "  </div>\n",
              "  "
            ]
          },
          "metadata": {},
          "execution_count": 22
        }
      ],
      "source": [
        "X_train, X_valid, y_train, y_valid = train_test_split(X, y, test_size=15, shuffle=False)\n",
        "\n",
        "model = LinearRegression(fit_intercept=False).fit(X_train, y_train)\n",
        "\n",
        "y_fit = pd.DataFrame(model.predict(X_train), index=X_train.index, columns=y_train.columns).clip(0.0)\n",
        "y_pred = pd.DataFrame(model.predict(X_valid), index=X_valid.index, columns=y_valid.columns).clip(0.0)\n",
        "\n",
        "rmsle_train = mean_squared_log_error(y_train, y_fit) ** 0.5\n",
        "rmsle_valid = mean_squared_log_error(y_valid, y_pred) ** 0.5\n",
        "print(f'Training RMSLE: {rmsle_train:.5f}')\n",
        "print(f'Validation RMSLE: {rmsle_valid:.5f}')\n",
        "\n",
        "y_pred.head()"
      ]
    },
    {
      "cell_type": "markdown",
      "id": "bfb56ed7",
      "metadata": {
        "papermill": {
          "duration": 0.03927,
          "end_time": "2022-12-06T21:39:00.292595",
          "exception": false,
          "start_time": "2022-12-06T21:39:00.253325",
          "status": "completed"
        },
        "tags": [],
        "id": "bfb56ed7"
      },
      "source": [
        "Our model seems to generalise well to our validation set. We will use this model to make our first submission and set a baseline for future revisions of our model."
      ]
    },
    {
      "cell_type": "markdown",
      "id": "46b74ed1",
      "metadata": {
        "papermill": {
          "duration": 0.039419,
          "end_time": "2022-12-06T21:39:00.371590",
          "exception": false,
          "start_time": "2022-12-06T21:39:00.332171",
          "status": "completed"
        },
        "tags": [],
        "id": "46b74ed1"
      },
      "source": [
        "### First submission: based on trends"
      ]
    },
    {
      "cell_type": "code",
      "execution_count": null,
      "id": "ba6f05a5",
      "metadata": {
        "execution": {
          "iopub.execute_input": "2022-12-06T21:39:00.452265Z",
          "iopub.status.busy": "2022-12-06T21:39:00.451922Z",
          "iopub.status.idle": "2022-12-06T21:39:00.463957Z",
          "shell.execute_reply": "2022-12-06T21:39:00.463349Z"
        },
        "papermill": {
          "duration": 0.054729,
          "end_time": "2022-12-06T21:39:00.465549",
          "exception": false,
          "start_time": "2022-12-06T21:39:00.410820",
          "status": "completed"
        },
        "tags": [],
        "colab": {
          "base_uri": "https://localhost:8080/",
          "height": 237
        },
        "id": "ba6f05a5",
        "outputId": "3276360f-11e9-4be7-8368-bcce9fa49acc"
      },
      "outputs": [
        {
          "output_type": "execute_result",
          "data": {
            "text/plain": [
              "            const   trend  trend_squared   trend_cubed\n",
              "date                                                  \n",
              "2017-08-16    1.0  1685.0      2839225.0  4.784094e+09\n",
              "2017-08-17    1.0  1686.0      2842596.0  4.792617e+09\n",
              "2017-08-18    1.0  1687.0      2845969.0  4.801150e+09\n",
              "2017-08-19    1.0  1688.0      2849344.0  4.809693e+09\n",
              "2017-08-20    1.0  1689.0      2852721.0  4.818246e+09"
            ],
            "text/html": [
              "\n",
              "  <div id=\"df-842f4966-c773-4b1d-98e9-1479fa0c11ce\">\n",
              "    <div class=\"colab-df-container\">\n",
              "      <div>\n",
              "<style scoped>\n",
              "    .dataframe tbody tr th:only-of-type {\n",
              "        vertical-align: middle;\n",
              "    }\n",
              "\n",
              "    .dataframe tbody tr th {\n",
              "        vertical-align: top;\n",
              "    }\n",
              "\n",
              "    .dataframe thead th {\n",
              "        text-align: right;\n",
              "    }\n",
              "</style>\n",
              "<table border=\"1\" class=\"dataframe\">\n",
              "  <thead>\n",
              "    <tr style=\"text-align: right;\">\n",
              "      <th></th>\n",
              "      <th>const</th>\n",
              "      <th>trend</th>\n",
              "      <th>trend_squared</th>\n",
              "      <th>trend_cubed</th>\n",
              "    </tr>\n",
              "    <tr>\n",
              "      <th>date</th>\n",
              "      <th></th>\n",
              "      <th></th>\n",
              "      <th></th>\n",
              "      <th></th>\n",
              "    </tr>\n",
              "  </thead>\n",
              "  <tbody>\n",
              "    <tr>\n",
              "      <th>2017-08-16</th>\n",
              "      <td>1.0</td>\n",
              "      <td>1685.0</td>\n",
              "      <td>2839225.0</td>\n",
              "      <td>4.784094e+09</td>\n",
              "    </tr>\n",
              "    <tr>\n",
              "      <th>2017-08-17</th>\n",
              "      <td>1.0</td>\n",
              "      <td>1686.0</td>\n",
              "      <td>2842596.0</td>\n",
              "      <td>4.792617e+09</td>\n",
              "    </tr>\n",
              "    <tr>\n",
              "      <th>2017-08-18</th>\n",
              "      <td>1.0</td>\n",
              "      <td>1687.0</td>\n",
              "      <td>2845969.0</td>\n",
              "      <td>4.801150e+09</td>\n",
              "    </tr>\n",
              "    <tr>\n",
              "      <th>2017-08-19</th>\n",
              "      <td>1.0</td>\n",
              "      <td>1688.0</td>\n",
              "      <td>2849344.0</td>\n",
              "      <td>4.809693e+09</td>\n",
              "    </tr>\n",
              "    <tr>\n",
              "      <th>2017-08-20</th>\n",
              "      <td>1.0</td>\n",
              "      <td>1689.0</td>\n",
              "      <td>2852721.0</td>\n",
              "      <td>4.818246e+09</td>\n",
              "    </tr>\n",
              "  </tbody>\n",
              "</table>\n",
              "</div>\n",
              "      <button class=\"colab-df-convert\" onclick=\"convertToInteractive('df-842f4966-c773-4b1d-98e9-1479fa0c11ce')\"\n",
              "              title=\"Convert this dataframe to an interactive table.\"\n",
              "              style=\"display:none;\">\n",
              "        \n",
              "  <svg xmlns=\"http://www.w3.org/2000/svg\" height=\"24px\"viewBox=\"0 0 24 24\"\n",
              "       width=\"24px\">\n",
              "    <path d=\"M0 0h24v24H0V0z\" fill=\"none\"/>\n",
              "    <path d=\"M18.56 5.44l.94 2.06.94-2.06 2.06-.94-2.06-.94-.94-2.06-.94 2.06-2.06.94zm-11 1L8.5 8.5l.94-2.06 2.06-.94-2.06-.94L8.5 2.5l-.94 2.06-2.06.94zm10 10l.94 2.06.94-2.06 2.06-.94-2.06-.94-.94-2.06-.94 2.06-2.06.94z\"/><path d=\"M17.41 7.96l-1.37-1.37c-.4-.4-.92-.59-1.43-.59-.52 0-1.04.2-1.43.59L10.3 9.45l-7.72 7.72c-.78.78-.78 2.05 0 2.83L4 21.41c.39.39.9.59 1.41.59.51 0 1.02-.2 1.41-.59l7.78-7.78 2.81-2.81c.8-.78.8-2.07 0-2.86zM5.41 20L4 18.59l7.72-7.72 1.47 1.35L5.41 20z\"/>\n",
              "  </svg>\n",
              "      </button>\n",
              "      \n",
              "  <style>\n",
              "    .colab-df-container {\n",
              "      display:flex;\n",
              "      flex-wrap:wrap;\n",
              "      gap: 12px;\n",
              "    }\n",
              "\n",
              "    .colab-df-convert {\n",
              "      background-color: #E8F0FE;\n",
              "      border: none;\n",
              "      border-radius: 50%;\n",
              "      cursor: pointer;\n",
              "      display: none;\n",
              "      fill: #1967D2;\n",
              "      height: 32px;\n",
              "      padding: 0 0 0 0;\n",
              "      width: 32px;\n",
              "    }\n",
              "\n",
              "    .colab-df-convert:hover {\n",
              "      background-color: #E2EBFA;\n",
              "      box-shadow: 0px 1px 2px rgba(60, 64, 67, 0.3), 0px 1px 3px 1px rgba(60, 64, 67, 0.15);\n",
              "      fill: #174EA6;\n",
              "    }\n",
              "\n",
              "    [theme=dark] .colab-df-convert {\n",
              "      background-color: #3B4455;\n",
              "      fill: #D2E3FC;\n",
              "    }\n",
              "\n",
              "    [theme=dark] .colab-df-convert:hover {\n",
              "      background-color: #434B5C;\n",
              "      box-shadow: 0px 1px 3px 1px rgba(0, 0, 0, 0.15);\n",
              "      filter: drop-shadow(0px 1px 2px rgba(0, 0, 0, 0.3));\n",
              "      fill: #FFFFFF;\n",
              "    }\n",
              "  </style>\n",
              "\n",
              "      <script>\n",
              "        const buttonEl =\n",
              "          document.querySelector('#df-842f4966-c773-4b1d-98e9-1479fa0c11ce button.colab-df-convert');\n",
              "        buttonEl.style.display =\n",
              "          google.colab.kernel.accessAllowed ? 'block' : 'none';\n",
              "\n",
              "        async function convertToInteractive(key) {\n",
              "          const element = document.querySelector('#df-842f4966-c773-4b1d-98e9-1479fa0c11ce');\n",
              "          const dataTable =\n",
              "            await google.colab.kernel.invokeFunction('convertToInteractive',\n",
              "                                                     [key], {});\n",
              "          if (!dataTable) return;\n",
              "\n",
              "          const docLinkHtml = 'Like what you see? Visit the ' +\n",
              "            '<a target=\"_blank\" href=https://colab.research.google.com/notebooks/data_table.ipynb>data table notebook</a>'\n",
              "            + ' to learn more about interactive tables.';\n",
              "          element.innerHTML = '';\n",
              "          dataTable['output_type'] = 'display_data';\n",
              "          await google.colab.output.renderOutput(dataTable, element);\n",
              "          const docLink = document.createElement('div');\n",
              "          docLink.innerHTML = docLinkHtml;\n",
              "          element.appendChild(docLink);\n",
              "        }\n",
              "      </script>\n",
              "    </div>\n",
              "  </div>\n",
              "  "
            ]
          },
          "metadata": {},
          "execution_count": 23
        }
      ],
      "source": [
        "# Create features for test set\n",
        "X_test = dp.out_of_sample(steps=16)\n",
        "X_test.index.name = 'date'\n",
        "\n",
        "X_test.head()"
      ]
    },
    {
      "cell_type": "code",
      "execution_count": null,
      "id": "feca7c2b",
      "metadata": {
        "execution": {
          "iopub.execute_input": "2022-12-06T21:39:00.546863Z",
          "iopub.status.busy": "2022-12-06T21:39:00.546534Z",
          "iopub.status.idle": "2022-12-06T21:39:00.985351Z",
          "shell.execute_reply": "2022-12-06T21:39:00.984529Z"
        },
        "papermill": {
          "duration": 0.480978,
          "end_time": "2022-12-06T21:39:00.987215",
          "exception": false,
          "start_time": "2022-12-06T21:39:00.506237",
          "status": "completed"
        },
        "tags": [],
        "colab": {
          "base_uri": "https://localhost:8080/",
          "height": 237
        },
        "id": "feca7c2b",
        "outputId": "c02a38d3-c1dd-425d-9c6e-c9b0b7b2d52c"
      },
      "outputs": [
        {
          "output_type": "execute_result",
          "data": {
            "text/plain": [
              "                                      id        sales\n",
              "date       store_nbr family                          \n",
              "2017-08-16 1         AUTOMOTIVE  3000888     3.958569\n",
              "                     BABY CARE   3000889     0.000000\n",
              "                     BEAUTY      3000890     3.565596\n",
              "                     BEVERAGES   3000891  2195.189935\n",
              "                     BOOKS       3000892     0.740510"
            ],
            "text/html": [
              "\n",
              "  <div id=\"df-7f9d3875-14c0-4362-92c5-7a238f393265\">\n",
              "    <div class=\"colab-df-container\">\n",
              "      <div>\n",
              "<style scoped>\n",
              "    .dataframe tbody tr th:only-of-type {\n",
              "        vertical-align: middle;\n",
              "    }\n",
              "\n",
              "    .dataframe tbody tr th {\n",
              "        vertical-align: top;\n",
              "    }\n",
              "\n",
              "    .dataframe thead th {\n",
              "        text-align: right;\n",
              "    }\n",
              "</style>\n",
              "<table border=\"1\" class=\"dataframe\">\n",
              "  <thead>\n",
              "    <tr style=\"text-align: right;\">\n",
              "      <th></th>\n",
              "      <th></th>\n",
              "      <th></th>\n",
              "      <th>id</th>\n",
              "      <th>sales</th>\n",
              "    </tr>\n",
              "    <tr>\n",
              "      <th>date</th>\n",
              "      <th>store_nbr</th>\n",
              "      <th>family</th>\n",
              "      <th></th>\n",
              "      <th></th>\n",
              "    </tr>\n",
              "  </thead>\n",
              "  <tbody>\n",
              "    <tr>\n",
              "      <th rowspan=\"5\" valign=\"top\">2017-08-16</th>\n",
              "      <th rowspan=\"5\" valign=\"top\">1</th>\n",
              "      <th>AUTOMOTIVE</th>\n",
              "      <td>3000888</td>\n",
              "      <td>3.958569</td>\n",
              "    </tr>\n",
              "    <tr>\n",
              "      <th>BABY CARE</th>\n",
              "      <td>3000889</td>\n",
              "      <td>0.000000</td>\n",
              "    </tr>\n",
              "    <tr>\n",
              "      <th>BEAUTY</th>\n",
              "      <td>3000890</td>\n",
              "      <td>3.565596</td>\n",
              "    </tr>\n",
              "    <tr>\n",
              "      <th>BEVERAGES</th>\n",
              "      <td>3000891</td>\n",
              "      <td>2195.189935</td>\n",
              "    </tr>\n",
              "    <tr>\n",
              "      <th>BOOKS</th>\n",
              "      <td>3000892</td>\n",
              "      <td>0.740510</td>\n",
              "    </tr>\n",
              "  </tbody>\n",
              "</table>\n",
              "</div>\n",
              "      <button class=\"colab-df-convert\" onclick=\"convertToInteractive('df-7f9d3875-14c0-4362-92c5-7a238f393265')\"\n",
              "              title=\"Convert this dataframe to an interactive table.\"\n",
              "              style=\"display:none;\">\n",
              "        \n",
              "  <svg xmlns=\"http://www.w3.org/2000/svg\" height=\"24px\"viewBox=\"0 0 24 24\"\n",
              "       width=\"24px\">\n",
              "    <path d=\"M0 0h24v24H0V0z\" fill=\"none\"/>\n",
              "    <path d=\"M18.56 5.44l.94 2.06.94-2.06 2.06-.94-2.06-.94-.94-2.06-.94 2.06-2.06.94zm-11 1L8.5 8.5l.94-2.06 2.06-.94-2.06-.94L8.5 2.5l-.94 2.06-2.06.94zm10 10l.94 2.06.94-2.06 2.06-.94-2.06-.94-.94-2.06-.94 2.06-2.06.94z\"/><path d=\"M17.41 7.96l-1.37-1.37c-.4-.4-.92-.59-1.43-.59-.52 0-1.04.2-1.43.59L10.3 9.45l-7.72 7.72c-.78.78-.78 2.05 0 2.83L4 21.41c.39.39.9.59 1.41.59.51 0 1.02-.2 1.41-.59l7.78-7.78 2.81-2.81c.8-.78.8-2.07 0-2.86zM5.41 20L4 18.59l7.72-7.72 1.47 1.35L5.41 20z\"/>\n",
              "  </svg>\n",
              "      </button>\n",
              "      \n",
              "  <style>\n",
              "    .colab-df-container {\n",
              "      display:flex;\n",
              "      flex-wrap:wrap;\n",
              "      gap: 12px;\n",
              "    }\n",
              "\n",
              "    .colab-df-convert {\n",
              "      background-color: #E8F0FE;\n",
              "      border: none;\n",
              "      border-radius: 50%;\n",
              "      cursor: pointer;\n",
              "      display: none;\n",
              "      fill: #1967D2;\n",
              "      height: 32px;\n",
              "      padding: 0 0 0 0;\n",
              "      width: 32px;\n",
              "    }\n",
              "\n",
              "    .colab-df-convert:hover {\n",
              "      background-color: #E2EBFA;\n",
              "      box-shadow: 0px 1px 2px rgba(60, 64, 67, 0.3), 0px 1px 3px 1px rgba(60, 64, 67, 0.15);\n",
              "      fill: #174EA6;\n",
              "    }\n",
              "\n",
              "    [theme=dark] .colab-df-convert {\n",
              "      background-color: #3B4455;\n",
              "      fill: #D2E3FC;\n",
              "    }\n",
              "\n",
              "    [theme=dark] .colab-df-convert:hover {\n",
              "      background-color: #434B5C;\n",
              "      box-shadow: 0px 1px 3px 1px rgba(0, 0, 0, 0.15);\n",
              "      filter: drop-shadow(0px 1px 2px rgba(0, 0, 0, 0.3));\n",
              "      fill: #FFFFFF;\n",
              "    }\n",
              "  </style>\n",
              "\n",
              "      <script>\n",
              "        const buttonEl =\n",
              "          document.querySelector('#df-7f9d3875-14c0-4362-92c5-7a238f393265 button.colab-df-convert');\n",
              "        buttonEl.style.display =\n",
              "          google.colab.kernel.accessAllowed ? 'block' : 'none';\n",
              "\n",
              "        async function convertToInteractive(key) {\n",
              "          const element = document.querySelector('#df-7f9d3875-14c0-4362-92c5-7a238f393265');\n",
              "          const dataTable =\n",
              "            await google.colab.kernel.invokeFunction('convertToInteractive',\n",
              "                                                     [key], {});\n",
              "          if (!dataTable) return;\n",
              "\n",
              "          const docLinkHtml = 'Like what you see? Visit the ' +\n",
              "            '<a target=\"_blank\" href=https://colab.research.google.com/notebooks/data_table.ipynb>data table notebook</a>'\n",
              "            + ' to learn more about interactive tables.';\n",
              "          element.innerHTML = '';\n",
              "          dataTable['output_type'] = 'display_data';\n",
              "          await google.colab.output.renderOutput(dataTable, element);\n",
              "          const docLink = document.createElement('div');\n",
              "          docLink.innerHTML = docLinkHtml;\n",
              "          element.appendChild(docLink);\n",
              "        }\n",
              "      </script>\n",
              "    </div>\n",
              "  </div>\n",
              "  "
            ]
          },
          "metadata": {},
          "execution_count": 24
        }
      ],
      "source": [
        "y_submit = pd.DataFrame(model.predict(X_test), index=X_test.index, columns=y.columns)\n",
        "y_submit = y_submit.stack(['store_nbr', 'family'])\n",
        "y_submit = y_submit.join(df_test.id).reindex(columns=['id', 'sales'])\n",
        "y_submit.to_csv('submission_trend.csv', index=False)\n",
        "\n",
        "y_submit.head()"
      ]
    },
    {
      "cell_type": "markdown",
      "id": "8a4d797a",
      "metadata": {
        "papermill": {
          "duration": 0.039719,
          "end_time": "2022-12-06T21:39:01.066769",
          "exception": false,
          "start_time": "2022-12-06T21:39:01.027050",
          "status": "completed"
        },
        "tags": [],
        "id": "8a4d797a"
      },
      "source": [
        "### [Public Score: 0.63608](https://www.kaggle.com/code/abhirupghosh184098/store-sales-time-series-forecasting?scriptVersionId=111635179)\n",
        "\n",
        "With the above submission, which only uses trends to make a prediction, we were able to get a RMSLE score of 0.63608. We will slowly improve on the model in iterations."
      ]
    },
    {
      "cell_type": "markdown",
      "id": "b6873c49",
      "metadata": {
        "papermill": {
          "duration": 0.039131,
          "end_time": "2022-12-06T21:39:01.145459",
          "exception": false,
          "start_time": "2022-12-06T21:39:01.106328",
          "status": "completed"
        },
        "tags": [],
        "id": "b6873c49"
      },
      "source": [
        "#### Only 2017 data\n",
        "\n",
        "One of the reasons we might be doing so much better in the validation set than the training set using just information about trends is that the training set has > 50 months of data points, while the validation and test sets are just a fortnight. It might be worth checking out if trends in the more recent past might be better at predicting the trends of the test period, so as to not be biased by trends which are > 4 years old."
      ]
    },
    {
      "cell_type": "code",
      "execution_count": null,
      "id": "b92cb488",
      "metadata": {
        "execution": {
          "iopub.execute_input": "2022-12-06T21:39:01.226086Z",
          "iopub.status.busy": "2022-12-06T21:39:01.225767Z",
          "iopub.status.idle": "2022-12-06T21:39:02.021142Z",
          "shell.execute_reply": "2022-12-06T21:39:02.020347Z"
        },
        "papermill": {
          "duration": 0.838332,
          "end_time": "2022-12-06T21:39:02.022911",
          "exception": false,
          "start_time": "2022-12-06T21:39:01.184579",
          "status": "completed"
        },
        "tags": [],
        "colab": {
          "base_uri": "https://localhost:8080/",
          "height": 446
        },
        "id": "b92cb488",
        "outputId": "e85580ba-a104-4e01-ebc3-d99d8a99e05b"
      },
      "outputs": [
        {
          "output_type": "execute_result",
          "data": {
            "text/plain": [
              "                sales                                                \\\n",
              "store_nbr           1                                                 \n",
              "family     AUTOMOTIVE BABY CARE BEAUTY BEVERAGES BOOKS BREAD/BAKERY   \n",
              "date                                                                  \n",
              "2017-01-01        0.0       0.0    0.0       0.0   0.0     0.000000   \n",
              "2017-01-02        5.0       0.0    0.0    1434.0   0.0   166.819000   \n",
              "2017-01-03        4.0       0.0    4.0    3081.0   2.0   519.348022   \n",
              "2017-01-04        1.0       0.0    4.0    3039.0   2.0   543.250977   \n",
              "2017-01-05        2.0       0.0    3.0    2617.0   0.0   533.479980   \n",
              "\n",
              "                                                     ...            \\\n",
              "store_nbr                                            ...         9   \n",
              "family     CELEBRATION CLEANING   DAIRY        DELI  ... MAGAZINES   \n",
              "date                                                 ...             \n",
              "2017-01-01         0.0      0.0     0.0    0.000000  ...       0.0   \n",
              "2017-01-02         0.0    332.0   376.0   44.980000  ...       5.0   \n",
              "2017-01-03        15.0    952.0  1045.0  209.300003  ...       2.0   \n",
              "2017-01-04        17.0   1055.0  1029.0  135.944000  ...       3.0   \n",
              "2017-01-05        40.0    918.0   853.0  137.005997  ...       2.0   \n",
              "\n",
              "                                                                           \\\n",
              "store_nbr                                                                   \n",
              "family           MEATS PERSONAL CARE PET SUPPLIES PLAYERS AND ELECTRONICS   \n",
              "date                                                                        \n",
              "2017-01-01    0.000000           0.0          0.0                     0.0   \n",
              "2017-01-02  659.570007        1243.0         11.0                    41.0   \n",
              "2017-01-03  547.364014         876.0          6.0                    15.0   \n",
              "2017-01-04  395.287994         677.0          6.0                    13.0   \n",
              "2017-01-05  470.768005         604.0          7.0                    10.0   \n",
              "\n",
              "                                                                               \\\n",
              "store_nbr                                                                       \n",
              "family         POULTRY PREPARED FOODS      PRODUCE SCHOOL AND OFFICE SUPPLIES   \n",
              "date                                                                            \n",
              "2017-01-01    0.000000       0.000000     0.000000                        0.0   \n",
              "2017-01-02  843.596008     115.188995  3136.895996                        1.0   \n",
              "2017-01-03  714.659973     133.039001  3229.558105                        1.0   \n",
              "2017-01-04  536.830017      75.201004  1491.416992                        7.0   \n",
              "2017-01-05  414.100006     113.698997  1566.821045                        1.0   \n",
              "\n",
              "                    \n",
              "store_nbr           \n",
              "family     SEAFOOD  \n",
              "date                \n",
              "2017-01-01     0.0  \n",
              "2017-01-02    23.0  \n",
              "2017-01-03    14.0  \n",
              "2017-01-04     0.0  \n",
              "2017-01-05    17.0  \n",
              "\n",
              "[5 rows x 1782 columns]"
            ],
            "text/html": [
              "\n",
              "  <div id=\"df-930d5c8e-e9a1-452a-8b92-e007db44b50b\">\n",
              "    <div class=\"colab-df-container\">\n",
              "      <div>\n",
              "<style scoped>\n",
              "    .dataframe tbody tr th:only-of-type {\n",
              "        vertical-align: middle;\n",
              "    }\n",
              "\n",
              "    .dataframe tbody tr th {\n",
              "        vertical-align: top;\n",
              "    }\n",
              "\n",
              "    .dataframe thead tr th {\n",
              "        text-align: left;\n",
              "    }\n",
              "\n",
              "    .dataframe thead tr:last-of-type th {\n",
              "        text-align: right;\n",
              "    }\n",
              "</style>\n",
              "<table border=\"1\" class=\"dataframe\">\n",
              "  <thead>\n",
              "    <tr>\n",
              "      <th></th>\n",
              "      <th colspan=\"21\" halign=\"left\">sales</th>\n",
              "    </tr>\n",
              "    <tr>\n",
              "      <th>store_nbr</th>\n",
              "      <th colspan=\"10\" halign=\"left\">1</th>\n",
              "      <th>...</th>\n",
              "      <th colspan=\"10\" halign=\"left\">9</th>\n",
              "    </tr>\n",
              "    <tr>\n",
              "      <th>family</th>\n",
              "      <th>AUTOMOTIVE</th>\n",
              "      <th>BABY CARE</th>\n",
              "      <th>BEAUTY</th>\n",
              "      <th>BEVERAGES</th>\n",
              "      <th>BOOKS</th>\n",
              "      <th>BREAD/BAKERY</th>\n",
              "      <th>CELEBRATION</th>\n",
              "      <th>CLEANING</th>\n",
              "      <th>DAIRY</th>\n",
              "      <th>DELI</th>\n",
              "      <th>...</th>\n",
              "      <th>MAGAZINES</th>\n",
              "      <th>MEATS</th>\n",
              "      <th>PERSONAL CARE</th>\n",
              "      <th>PET SUPPLIES</th>\n",
              "      <th>PLAYERS AND ELECTRONICS</th>\n",
              "      <th>POULTRY</th>\n",
              "      <th>PREPARED FOODS</th>\n",
              "      <th>PRODUCE</th>\n",
              "      <th>SCHOOL AND OFFICE SUPPLIES</th>\n",
              "      <th>SEAFOOD</th>\n",
              "    </tr>\n",
              "    <tr>\n",
              "      <th>date</th>\n",
              "      <th></th>\n",
              "      <th></th>\n",
              "      <th></th>\n",
              "      <th></th>\n",
              "      <th></th>\n",
              "      <th></th>\n",
              "      <th></th>\n",
              "      <th></th>\n",
              "      <th></th>\n",
              "      <th></th>\n",
              "      <th></th>\n",
              "      <th></th>\n",
              "      <th></th>\n",
              "      <th></th>\n",
              "      <th></th>\n",
              "      <th></th>\n",
              "      <th></th>\n",
              "      <th></th>\n",
              "      <th></th>\n",
              "      <th></th>\n",
              "      <th></th>\n",
              "    </tr>\n",
              "  </thead>\n",
              "  <tbody>\n",
              "    <tr>\n",
              "      <th>2017-01-01</th>\n",
              "      <td>0.0</td>\n",
              "      <td>0.0</td>\n",
              "      <td>0.0</td>\n",
              "      <td>0.0</td>\n",
              "      <td>0.0</td>\n",
              "      <td>0.000000</td>\n",
              "      <td>0.0</td>\n",
              "      <td>0.0</td>\n",
              "      <td>0.0</td>\n",
              "      <td>0.000000</td>\n",
              "      <td>...</td>\n",
              "      <td>0.0</td>\n",
              "      <td>0.000000</td>\n",
              "      <td>0.0</td>\n",
              "      <td>0.0</td>\n",
              "      <td>0.0</td>\n",
              "      <td>0.000000</td>\n",
              "      <td>0.000000</td>\n",
              "      <td>0.000000</td>\n",
              "      <td>0.0</td>\n",
              "      <td>0.0</td>\n",
              "    </tr>\n",
              "    <tr>\n",
              "      <th>2017-01-02</th>\n",
              "      <td>5.0</td>\n",
              "      <td>0.0</td>\n",
              "      <td>0.0</td>\n",
              "      <td>1434.0</td>\n",
              "      <td>0.0</td>\n",
              "      <td>166.819000</td>\n",
              "      <td>0.0</td>\n",
              "      <td>332.0</td>\n",
              "      <td>376.0</td>\n",
              "      <td>44.980000</td>\n",
              "      <td>...</td>\n",
              "      <td>5.0</td>\n",
              "      <td>659.570007</td>\n",
              "      <td>1243.0</td>\n",
              "      <td>11.0</td>\n",
              "      <td>41.0</td>\n",
              "      <td>843.596008</td>\n",
              "      <td>115.188995</td>\n",
              "      <td>3136.895996</td>\n",
              "      <td>1.0</td>\n",
              "      <td>23.0</td>\n",
              "    </tr>\n",
              "    <tr>\n",
              "      <th>2017-01-03</th>\n",
              "      <td>4.0</td>\n",
              "      <td>0.0</td>\n",
              "      <td>4.0</td>\n",
              "      <td>3081.0</td>\n",
              "      <td>2.0</td>\n",
              "      <td>519.348022</td>\n",
              "      <td>15.0</td>\n",
              "      <td>952.0</td>\n",
              "      <td>1045.0</td>\n",
              "      <td>209.300003</td>\n",
              "      <td>...</td>\n",
              "      <td>2.0</td>\n",
              "      <td>547.364014</td>\n",
              "      <td>876.0</td>\n",
              "      <td>6.0</td>\n",
              "      <td>15.0</td>\n",
              "      <td>714.659973</td>\n",
              "      <td>133.039001</td>\n",
              "      <td>3229.558105</td>\n",
              "      <td>1.0</td>\n",
              "      <td>14.0</td>\n",
              "    </tr>\n",
              "    <tr>\n",
              "      <th>2017-01-04</th>\n",
              "      <td>1.0</td>\n",
              "      <td>0.0</td>\n",
              "      <td>4.0</td>\n",
              "      <td>3039.0</td>\n",
              "      <td>2.0</td>\n",
              "      <td>543.250977</td>\n",
              "      <td>17.0</td>\n",
              "      <td>1055.0</td>\n",
              "      <td>1029.0</td>\n",
              "      <td>135.944000</td>\n",
              "      <td>...</td>\n",
              "      <td>3.0</td>\n",
              "      <td>395.287994</td>\n",
              "      <td>677.0</td>\n",
              "      <td>6.0</td>\n",
              "      <td>13.0</td>\n",
              "      <td>536.830017</td>\n",
              "      <td>75.201004</td>\n",
              "      <td>1491.416992</td>\n",
              "      <td>7.0</td>\n",
              "      <td>0.0</td>\n",
              "    </tr>\n",
              "    <tr>\n",
              "      <th>2017-01-05</th>\n",
              "      <td>2.0</td>\n",
              "      <td>0.0</td>\n",
              "      <td>3.0</td>\n",
              "      <td>2617.0</td>\n",
              "      <td>0.0</td>\n",
              "      <td>533.479980</td>\n",
              "      <td>40.0</td>\n",
              "      <td>918.0</td>\n",
              "      <td>853.0</td>\n",
              "      <td>137.005997</td>\n",
              "      <td>...</td>\n",
              "      <td>2.0</td>\n",
              "      <td>470.768005</td>\n",
              "      <td>604.0</td>\n",
              "      <td>7.0</td>\n",
              "      <td>10.0</td>\n",
              "      <td>414.100006</td>\n",
              "      <td>113.698997</td>\n",
              "      <td>1566.821045</td>\n",
              "      <td>1.0</td>\n",
              "      <td>17.0</td>\n",
              "    </tr>\n",
              "  </tbody>\n",
              "</table>\n",
              "<p>5 rows × 1782 columns</p>\n",
              "</div>\n",
              "      <button class=\"colab-df-convert\" onclick=\"convertToInteractive('df-930d5c8e-e9a1-452a-8b92-e007db44b50b')\"\n",
              "              title=\"Convert this dataframe to an interactive table.\"\n",
              "              style=\"display:none;\">\n",
              "        \n",
              "  <svg xmlns=\"http://www.w3.org/2000/svg\" height=\"24px\"viewBox=\"0 0 24 24\"\n",
              "       width=\"24px\">\n",
              "    <path d=\"M0 0h24v24H0V0z\" fill=\"none\"/>\n",
              "    <path d=\"M18.56 5.44l.94 2.06.94-2.06 2.06-.94-2.06-.94-.94-2.06-.94 2.06-2.06.94zm-11 1L8.5 8.5l.94-2.06 2.06-.94-2.06-.94L8.5 2.5l-.94 2.06-2.06.94zm10 10l.94 2.06.94-2.06 2.06-.94-2.06-.94-.94-2.06-.94 2.06-2.06.94z\"/><path d=\"M17.41 7.96l-1.37-1.37c-.4-.4-.92-.59-1.43-.59-.52 0-1.04.2-1.43.59L10.3 9.45l-7.72 7.72c-.78.78-.78 2.05 0 2.83L4 21.41c.39.39.9.59 1.41.59.51 0 1.02-.2 1.41-.59l7.78-7.78 2.81-2.81c.8-.78.8-2.07 0-2.86zM5.41 20L4 18.59l7.72-7.72 1.47 1.35L5.41 20z\"/>\n",
              "  </svg>\n",
              "      </button>\n",
              "      \n",
              "  <style>\n",
              "    .colab-df-container {\n",
              "      display:flex;\n",
              "      flex-wrap:wrap;\n",
              "      gap: 12px;\n",
              "    }\n",
              "\n",
              "    .colab-df-convert {\n",
              "      background-color: #E8F0FE;\n",
              "      border: none;\n",
              "      border-radius: 50%;\n",
              "      cursor: pointer;\n",
              "      display: none;\n",
              "      fill: #1967D2;\n",
              "      height: 32px;\n",
              "      padding: 0 0 0 0;\n",
              "      width: 32px;\n",
              "    }\n",
              "\n",
              "    .colab-df-convert:hover {\n",
              "      background-color: #E2EBFA;\n",
              "      box-shadow: 0px 1px 2px rgba(60, 64, 67, 0.3), 0px 1px 3px 1px rgba(60, 64, 67, 0.15);\n",
              "      fill: #174EA6;\n",
              "    }\n",
              "\n",
              "    [theme=dark] .colab-df-convert {\n",
              "      background-color: #3B4455;\n",
              "      fill: #D2E3FC;\n",
              "    }\n",
              "\n",
              "    [theme=dark] .colab-df-convert:hover {\n",
              "      background-color: #434B5C;\n",
              "      box-shadow: 0px 1px 3px 1px rgba(0, 0, 0, 0.15);\n",
              "      filter: drop-shadow(0px 1px 2px rgba(0, 0, 0, 0.3));\n",
              "      fill: #FFFFFF;\n",
              "    }\n",
              "  </style>\n",
              "\n",
              "      <script>\n",
              "        const buttonEl =\n",
              "          document.querySelector('#df-930d5c8e-e9a1-452a-8b92-e007db44b50b button.colab-df-convert');\n",
              "        buttonEl.style.display =\n",
              "          google.colab.kernel.accessAllowed ? 'block' : 'none';\n",
              "\n",
              "        async function convertToInteractive(key) {\n",
              "          const element = document.querySelector('#df-930d5c8e-e9a1-452a-8b92-e007db44b50b');\n",
              "          const dataTable =\n",
              "            await google.colab.kernel.invokeFunction('convertToInteractive',\n",
              "                                                     [key], {});\n",
              "          if (!dataTable) return;\n",
              "\n",
              "          const docLinkHtml = 'Like what you see? Visit the ' +\n",
              "            '<a target=\"_blank\" href=https://colab.research.google.com/notebooks/data_table.ipynb>data table notebook</a>'\n",
              "            + ' to learn more about interactive tables.';\n",
              "          element.innerHTML = '';\n",
              "          dataTable['output_type'] = 'display_data';\n",
              "          await google.colab.output.renderOutput(dataTable, element);\n",
              "          const docLink = document.createElement('div');\n",
              "          docLink.innerHTML = docLinkHtml;\n",
              "          element.appendChild(docLink);\n",
              "        }\n",
              "      </script>\n",
              "    </div>\n",
              "  </div>\n",
              "  "
            ]
          },
          "metadata": {},
          "execution_count": 25
        }
      ],
      "source": [
        "# target sales only in 2017\n",
        "\n",
        "y = store_sales.unstack(['store_nbr', 'family']).loc[\"2017\"]\n",
        "y.head()"
      ]
    },
    {
      "cell_type": "code",
      "execution_count": null,
      "id": "f3445ca6",
      "metadata": {
        "execution": {
          "iopub.execute_input": "2022-12-06T21:39:02.103262Z",
          "iopub.status.busy": "2022-12-06T21:39:02.102390Z",
          "iopub.status.idle": "2022-12-06T21:39:02.117184Z",
          "shell.execute_reply": "2022-12-06T21:39:02.116439Z"
        },
        "papermill": {
          "duration": 0.056496,
          "end_time": "2022-12-06T21:39:02.118710",
          "exception": false,
          "start_time": "2022-12-06T21:39:02.062214",
          "status": "completed"
        },
        "tags": [],
        "id": "f3445ca6"
      },
      "outputs": [],
      "source": [
        "# Instantiate `DeterministicProcess` with arguments\n",
        "# appropriate for a cubic trend model\n",
        "dp = DeterministicProcess(\n",
        "    index=y.index,  # dates from the training data\n",
        "    constant=True,       # dummy feature for the bias (y_intercept)\n",
        "    order=3,             # the time dummy (trend): cubic trend\n",
        "    drop=True,           # drop terms if necessary to avoid collinearity\n",
        ")\n",
        "\n",
        "# YOUR CODE HERE: Create the feature set for the dates given in y.index\n",
        "X = dp.in_sample()\n",
        "\n",
        "X.head()"
      ]
    },
    {
      "cell_type": "code",
      "execution_count": null,
      "id": "dc13659b",
      "metadata": {
        "execution": {
          "iopub.execute_input": "2022-12-06T21:39:02.198423Z",
          "iopub.status.busy": "2022-12-06T21:39:02.197930Z",
          "iopub.status.idle": "2022-12-06T21:39:02.382852Z",
          "shell.execute_reply": "2022-12-06T21:39:02.381629Z"
        },
        "papermill": {
          "duration": 0.227319,
          "end_time": "2022-12-06T21:39:02.385345",
          "exception": false,
          "start_time": "2022-12-06T21:39:02.158026",
          "status": "completed"
        },
        "tags": [],
        "id": "dc13659b"
      },
      "outputs": [],
      "source": [
        "X_train, X_valid, y_train, y_valid = train_test_split(X, y, test_size=15, shuffle=False)\n",
        "\n",
        "model = LinearRegression(fit_intercept=False).fit(X_train, y_train)\n",
        "\n",
        "y_fit = pd.DataFrame(model.predict(X_train), index=X_train.index, columns=y_train.columns).clip(0.0)\n",
        "y_pred = pd.DataFrame(model.predict(X_valid), index=X_valid.index, columns=y_valid.columns).clip(0.0)\n",
        "\n",
        "rmsle_train = mean_squared_log_error(y_train, y_fit) ** 0.5\n",
        "rmsle_valid = mean_squared_log_error(y_valid, y_pred) ** 0.5\n",
        "print(f'Training RMSLE: {rmsle_train:.5f}')\n",
        "print(f'Validation RMSLE: {rmsle_valid:.5f}')\n",
        "\n",
        "y_pred.head()"
      ]
    },
    {
      "cell_type": "markdown",
      "id": "da64691d",
      "metadata": {
        "papermill": {
          "duration": 0.040442,
          "end_time": "2022-12-06T21:39:02.466860",
          "exception": false,
          "start_time": "2022-12-06T21:39:02.426418",
          "status": "completed"
        },
        "tags": [],
        "id": "da64691d"
      },
      "source": [
        "Suddenly, our training and validation scores are a lot closer to each other. This comes in the form of a betterment of the training score and a worsening of the validation score. But what it really indicates is that the model generalises a lot better now. \n",
        "\n",
        "**We will now use this model to make predictions for the test score.**"
      ]
    },
    {
      "cell_type": "code",
      "execution_count": null,
      "id": "3991dddb",
      "metadata": {
        "execution": {
          "iopub.execute_input": "2022-12-06T21:39:02.548751Z",
          "iopub.status.busy": "2022-12-06T21:39:02.548408Z",
          "iopub.status.idle": "2022-12-06T21:39:02.561306Z",
          "shell.execute_reply": "2022-12-06T21:39:02.560450Z"
        },
        "papermill": {
          "duration": 0.055697,
          "end_time": "2022-12-06T21:39:02.563099",
          "exception": false,
          "start_time": "2022-12-06T21:39:02.507402",
          "status": "completed"
        },
        "tags": [],
        "id": "3991dddb"
      },
      "outputs": [],
      "source": [
        "# Create features for test set\n",
        "X_test = dp.out_of_sample(steps=16)\n",
        "X_test.index.name = 'date'\n",
        "\n",
        "X_test.head()"
      ]
    },
    {
      "cell_type": "code",
      "execution_count": null,
      "id": "ff0c8932",
      "metadata": {
        "execution": {
          "iopub.execute_input": "2022-12-06T21:39:02.645689Z",
          "iopub.status.busy": "2022-12-06T21:39:02.644636Z",
          "iopub.status.idle": "2022-12-06T21:39:02.955614Z",
          "shell.execute_reply": "2022-12-06T21:39:02.955000Z"
        },
        "papermill": {
          "duration": 0.353451,
          "end_time": "2022-12-06T21:39:02.957150",
          "exception": false,
          "start_time": "2022-12-06T21:39:02.603699",
          "status": "completed"
        },
        "tags": [],
        "id": "ff0c8932"
      },
      "outputs": [],
      "source": [
        "y_submit = pd.DataFrame(model.predict(X_test), index=X_test.index, columns=y.columns)\n",
        "y_submit = y_submit.stack(['store_nbr', 'family'])\n",
        "y_submit = y_submit.join(df_test.id).reindex(columns=['id', 'sales'])\n",
        "y_submit.to_csv('submission_trend_2017.csv', index=False)\n",
        "\n",
        "y_submit.head()"
      ]
    },
    {
      "cell_type": "markdown",
      "id": "28929a5c",
      "metadata": {
        "papermill": {
          "duration": 0.04022,
          "end_time": "2022-12-06T21:39:03.037742",
          "exception": false,
          "start_time": "2022-12-06T21:39:02.997522",
          "status": "completed"
        },
        "tags": [],
        "id": "28929a5c"
      },
      "source": [
        "### [Public Score: 0.75026](https://www.kaggle.com/code/abhirupghosh184098/store-sales-time-series-forecasting?scriptVersionId=111635179)\n",
        "\n",
        "Restricting our data to just the 2017 data actually worsens our public score to 0.75026. However, our training, validation and test sets still remain comparable (0.62841 / 0.56709 / 0.75026). Hence we will continue restricting ourselves to the 2017 data, and turn to the next feature of the time-series: **Seasonality**."
      ]
    },
    {
      "cell_type": "markdown",
      "id": "1ad9217f",
      "metadata": {
        "papermill": {
          "duration": 0.040193,
          "end_time": "2022-12-06T21:39:03.118284",
          "exception": false,
          "start_time": "2022-12-06T21:39:03.078091",
          "status": "completed"
        },
        "tags": [],
        "id": "1ad9217f"
      },
      "source": [
        "## Seasonality"
      ]
    },
    {
      "cell_type": "markdown",
      "id": "13082d10",
      "metadata": {
        "papermill": {
          "duration": 0.04044,
          "end_time": "2022-12-06T21:39:03.199817",
          "exception": false,
          "start_time": "2022-12-06T21:39:03.159377",
          "status": "completed"
        },
        "tags": [],
        "id": "13082d10"
      },
      "source": [
        "While trends represent long-term changes in the mean of the series, [seasonality](https://www.kaggle.com/code/ryanholbrook/seasonality) represents **regular, periodic changes in the mean of the series** caused by weekly, monthly, seasonal or yearly patterns of social behaviour. In this context a season can mean a week, month, year or an actual 'season' (e.g., Vivaldi's \"The Four Seasons\"). However, depending on the number of observations in a season, we might use **two distinct features** to model seasonality:\n",
        "\n",
        "* [Seasonal indicators](https://www.kaggle.com/code/ryanholbrook/seasonality#Seasonal-Plots-and-Seasonal-Indicators): For a season with few observations (eg, a weekly season of daily observations) seasonal differences in the level of the time series (eg, difference between daily observations in a week) can be represented through binary features, or more specifically, one-hot-encoded categorical features. These features are called **seasonal indicators** and can be represented through seasonal plots.\n",
        "* [Fourier features](https://www.kaggle.com/code/ryanholbrook/seasonality#Fourier-Features-and-the-Periodogram): Seasonal indicators create a feature for every unit of the period of the season. Hence, they have the tendency to blow up for long seasons, e.g., daily observations over a year. For such cases, we use **Fourier features**, pairs of sine and cosine curves, one pair for each potential frequency in the season starting with the longest, to capture the overall shape of the seasonal curve with just a few features. We can choose these features using a **periodogram** which tells us the strength of the frequencies in a time series."
      ]
    },
    {
      "cell_type": "code",
      "execution_count": null,
      "id": "033c3d4f",
      "metadata": {
        "execution": {
          "iopub.execute_input": "2022-12-06T21:39:03.281115Z",
          "iopub.status.busy": "2022-12-06T21:39:03.280571Z",
          "iopub.status.idle": "2022-12-06T21:39:03.999323Z",
          "shell.execute_reply": "2022-12-06T21:39:03.998497Z"
        },
        "papermill": {
          "duration": 0.761585,
          "end_time": "2022-12-06T21:39:04.001232",
          "exception": false,
          "start_time": "2022-12-06T21:39:03.239647",
          "status": "completed"
        },
        "tags": [],
        "id": "033c3d4f"
      },
      "outputs": [],
      "source": [
        "X = average_sales.loc['2017'].to_frame()\n",
        "\n",
        "# days within a week\n",
        "X[\"day\"] = X.index.dayofweek  # the x-axis (freq)\n",
        "X[\"week\"] = X.index.week  # the seasonal period (period)\n",
        "\n",
        "# days within a year\n",
        "X[\"dayofyear\"] = X.index.dayofyear\n",
        "X[\"year\"] = X.index.year\n",
        "fig, (ax0, ax1) = plt.subplots(2, 1, figsize=(11, 6))\n",
        "seasonal_plot(X, y=\"sales\", period=\"week\", freq=\"day\", ax=ax0)\n",
        "seasonal_plot(X, y=\"sales\", period=\"year\", freq=\"dayofyear\", ax=ax1);"
      ]
    },
    {
      "cell_type": "code",
      "execution_count": null,
      "id": "1b607bae",
      "metadata": {
        "execution": {
          "iopub.execute_input": "2022-12-06T21:39:04.086913Z",
          "iopub.status.busy": "2022-12-06T21:39:04.086565Z",
          "iopub.status.idle": "2022-12-06T21:39:04.434225Z",
          "shell.execute_reply": "2022-12-06T21:39:04.433213Z"
        },
        "papermill": {
          "duration": 0.393499,
          "end_time": "2022-12-06T21:39:04.436911",
          "exception": false,
          "start_time": "2022-12-06T21:39:04.043412",
          "status": "completed"
        },
        "tags": [],
        "id": "1b607bae"
      },
      "outputs": [],
      "source": [
        "plot_periodogram(average_sales.loc['2017']);"
      ]
    },
    {
      "cell_type": "markdown",
      "id": "65ec70a8",
      "metadata": {
        "papermill": {
          "duration": 0.04193,
          "end_time": "2022-12-06T21:39:04.521355",
          "exception": false,
          "start_time": "2022-12-06T21:39:04.479425",
          "status": "completed"
        },
        "tags": [],
        "id": "65ec70a8"
      },
      "source": [
        "The periodogram tells us the strength of the frequencies in a time series. Specifically, the value on the y-axis of the graph is (a ** 2 + b ** 2) / 2, where a and b are the coefficients of the sine and cosine at that frequency (as in the Fourier Components plot above). From left to right, the periodogram shows appreciating Fourier contributions starting from a monthly frequency. This is followed by a significant biweekly contribution. These two make sense in view of the notes to the Store Sales dataset which mentions that wages in the public sector are paid out biweekly, on the 15th and last day of the month -- a possible origin for these seasons.\n",
        "\n",
        "Already after these two features, we get down to weekly features which can be described through seasonal indicators."
      ]
    },
    {
      "cell_type": "markdown",
      "id": "1f9c5c9b",
      "metadata": {
        "papermill": {
          "duration": 0.041643,
          "end_time": "2022-12-06T21:39:04.604986",
          "exception": false,
          "start_time": "2022-12-06T21:39:04.563343",
          "status": "completed"
        },
        "tags": [],
        "id": "1f9c5c9b"
      },
      "source": [
        "### Creating seasonal features (also including linear trend)"
      ]
    },
    {
      "cell_type": "code",
      "execution_count": null,
      "id": "86d74844",
      "metadata": {
        "execution": {
          "iopub.execute_input": "2022-12-06T21:39:04.693222Z",
          "iopub.status.busy": "2022-12-06T21:39:04.692901Z",
          "iopub.status.idle": "2022-12-06T21:39:05.457968Z",
          "shell.execute_reply": "2022-12-06T21:39:05.457143Z"
        },
        "papermill": {
          "duration": 0.811333,
          "end_time": "2022-12-06T21:39:05.460113",
          "exception": false,
          "start_time": "2022-12-06T21:39:04.648780",
          "status": "completed"
        },
        "tags": [],
        "id": "86d74844"
      },
      "outputs": [],
      "source": [
        "y = store_sales.unstack(['store_nbr', 'family']).loc[\"2017\"]\n",
        "\n",
        "# Fourier features\n",
        "fourier = CalendarFourier(freq='M', order=4) ## 2 pairs of sine/cosine curves to model monthly/biweekly seasonality\n",
        "dp = DeterministicProcess(\n",
        "    index=y.index,\n",
        "    constant=True,               # dummy feature for bias (y-intercept)\n",
        "    order=1,                     # cubic trend\n",
        "    seasonal=True,               # weekly seasonality (indicators)\n",
        "    additional_terms=[fourier],  # annual seasonality (fourier)\n",
        "    drop=True,                   # drop terms to avoid collinearity\n",
        ")\n",
        "\n",
        "X = dp.in_sample()"
      ]
    },
    {
      "cell_type": "code",
      "execution_count": null,
      "id": "065424b5",
      "metadata": {
        "execution": {
          "iopub.execute_input": "2022-12-06T21:39:05.547837Z",
          "iopub.status.busy": "2022-12-06T21:39:05.547455Z",
          "iopub.status.idle": "2022-12-06T21:39:05.762016Z",
          "shell.execute_reply": "2022-12-06T21:39:05.761036Z"
        },
        "papermill": {
          "duration": 0.260924,
          "end_time": "2022-12-06T21:39:05.763745",
          "exception": false,
          "start_time": "2022-12-06T21:39:05.502821",
          "status": "completed"
        },
        "tags": [],
        "id": "065424b5"
      },
      "outputs": [],
      "source": [
        "X_train, X_valid, y_train, y_valid = train_test_split(X, y, test_size=15, shuffle=False)\n",
        "\n",
        "model = LinearRegression(fit_intercept=False).fit(X_train, y_train)\n",
        "\n",
        "y_fit = pd.DataFrame(model.predict(X_train), index=X_train.index, columns=y_train.columns).clip(0.0)\n",
        "y_pred = pd.DataFrame(model.predict(X_valid), index=X_valid.index, columns=y_valid.columns).clip(0.0)\n",
        "\n",
        "rmsle_train = mean_squared_log_error(y_train, y_fit) ** 0.5\n",
        "rmsle_valid = mean_squared_log_error(y_valid, y_pred) ** 0.5\n",
        "print(f'Training RMSLE: {rmsle_train:.5f}')\n",
        "print(f'Validation RMSLE: {rmsle_valid:.5f}')\n",
        "\n",
        "y_pred.head()"
      ]
    },
    {
      "cell_type": "markdown",
      "id": "4094d5e6",
      "metadata": {
        "papermill": {
          "duration": 0.041514,
          "end_time": "2022-12-06T21:39:05.847969",
          "exception": false,
          "start_time": "2022-12-06T21:39:05.806455",
          "status": "completed"
        },
        "tags": [],
        "id": "4094d5e6"
      },
      "source": [
        "### Second submission: based on (linear) trends + seasonality"
      ]
    },
    {
      "cell_type": "code",
      "execution_count": null,
      "id": "992ac414",
      "metadata": {
        "execution": {
          "iopub.execute_input": "2022-12-06T21:39:05.934947Z",
          "iopub.status.busy": "2022-12-06T21:39:05.934135Z",
          "iopub.status.idle": "2022-12-06T21:39:05.956960Z",
          "shell.execute_reply": "2022-12-06T21:39:05.956366Z"
        },
        "papermill": {
          "duration": 0.067952,
          "end_time": "2022-12-06T21:39:05.958415",
          "exception": false,
          "start_time": "2022-12-06T21:39:05.890463",
          "status": "completed"
        },
        "tags": [],
        "id": "992ac414"
      },
      "outputs": [],
      "source": [
        "# Create features for test set\n",
        "X_test = dp.out_of_sample(steps=16)\n",
        "X_test.index.name = 'date'\n",
        "\n",
        "X_test.head()"
      ]
    },
    {
      "cell_type": "code",
      "execution_count": null,
      "id": "97ac2d89",
      "metadata": {
        "execution": {
          "iopub.execute_input": "2022-12-06T21:39:06.045746Z",
          "iopub.status.busy": "2022-12-06T21:39:06.045199Z",
          "iopub.status.idle": "2022-12-06T21:39:06.405965Z",
          "shell.execute_reply": "2022-12-06T21:39:06.405017Z"
        },
        "papermill": {
          "duration": 0.406534,
          "end_time": "2022-12-06T21:39:06.407815",
          "exception": false,
          "start_time": "2022-12-06T21:39:06.001281",
          "status": "completed"
        },
        "tags": [],
        "id": "97ac2d89"
      },
      "outputs": [],
      "source": [
        "y_submit = pd.DataFrame(model.predict(X_test), index=X_test.index, columns=y.columns)\n",
        "y_submit = y_submit.stack(['store_nbr', 'family'])\n",
        "y_submit = y_submit.join(df_test.id).reindex(columns=['id', 'sales'])\n",
        "y_submit.to_csv('submission_trend_seasonality_2017.csv', index=False)\n",
        "\n",
        "y_submit.head()"
      ]
    },
    {
      "cell_type": "markdown",
      "id": "3b9d3160",
      "metadata": {
        "papermill": {
          "duration": 0.041802,
          "end_time": "2022-12-06T21:39:06.492085",
          "exception": false,
          "start_time": "2022-12-06T21:39:06.450283",
          "status": "completed"
        },
        "tags": [],
        "id": "3b9d3160"
      },
      "source": [
        "## [Public Score: 0.58780](https://www.kaggle.com/code/abhirupghosh184098/store-sales-forecasting-a-comprehensive-guide?scriptVersionId=111669039)\n",
        "\n",
        "We achieve our best score yet by:\n",
        "* restricting to 2017 data\n",
        "* assuming a linear trend\n",
        "* incorporating seasonality through:\n",
        "  * setting day-of-the-week seasonal indicators\n",
        "  * fourier features to represent monthly/bi-weekly behaviour (primarily influenced by wage-timings)\n",
        "  \n",
        "Before we close the chapter on time-dependence and move on to serial dependence, there is one last piece of information we can add: **information about holidays**."
      ]
    },
    {
      "cell_type": "markdown",
      "id": "8a2c46b8",
      "metadata": {
        "papermill": {
          "duration": 0.042383,
          "end_time": "2022-12-06T21:39:06.576564",
          "exception": false,
          "start_time": "2022-12-06T21:39:06.534181",
          "status": "completed"
        },
        "tags": [],
        "id": "8a2c46b8"
      },
      "source": [
        "### Quick digression: Deseasonalising/Detrending"
      ]
    },
    {
      "cell_type": "markdown",
      "id": "2086da3a",
      "metadata": {
        "papermill": {
          "duration": 0.042193,
          "end_time": "2022-12-06T21:39:06.660761",
          "exception": false,
          "start_time": "2022-12-06T21:39:06.618568",
          "status": "completed"
        },
        "tags": [],
        "id": "2086da3a"
      },
      "source": [
        "As a quick check of the effectiveness of our seasonality modelling, we can do a **residual analysis**. A residual is what is left behind when we subtract from the data, predictions of our model. If we have done a good job with our model, we are left with a residual that is effectively zero (sans some random fluctuations).\n",
        "\n",
        "We have several stores and families of products that we detrended/deseasonalised individually. However, for an easy visual representation of the residuals, we once again consider the average sales, this time for just our training set."
      ]
    },
    {
      "cell_type": "code",
      "execution_count": null,
      "id": "06fafd1c",
      "metadata": {
        "execution": {
          "iopub.execute_input": "2022-12-06T21:39:06.748088Z",
          "iopub.status.busy": "2022-12-06T21:39:06.747787Z",
          "iopub.status.idle": "2022-12-06T21:39:06.901629Z",
          "shell.execute_reply": "2022-12-06T21:39:06.900723Z"
        },
        "papermill": {
          "duration": 0.200093,
          "end_time": "2022-12-06T21:39:06.903908",
          "exception": false,
          "start_time": "2022-12-06T21:39:06.703815",
          "status": "completed"
        },
        "tags": [],
        "id": "06fafd1c"
      },
      "outputs": [],
      "source": [
        "y_train_avg = y_train.stack(['store_nbr', 'family']).groupby('date').mean()['sales']\n",
        "y_fit_avg = y_fit.stack(['store_nbr', 'family']).groupby('date').mean()['sales']\n",
        "y_deseason_avg = y_train_avg - y_fit_avg"
      ]
    },
    {
      "cell_type": "code",
      "execution_count": null,
      "id": "1c3e5cdc",
      "metadata": {
        "execution": {
          "iopub.execute_input": "2022-12-06T21:39:06.993524Z",
          "iopub.status.busy": "2022-12-06T21:39:06.993192Z",
          "iopub.status.idle": "2022-12-06T21:39:07.252010Z",
          "shell.execute_reply": "2022-12-06T21:39:07.251152Z"
        },
        "papermill": {
          "duration": 0.305895,
          "end_time": "2022-12-06T21:39:07.253720",
          "exception": false,
          "start_time": "2022-12-06T21:39:06.947825",
          "status": "completed"
        },
        "tags": [],
        "id": "1c3e5cdc"
      },
      "outputs": [],
      "source": [
        "ax = y_deseason_avg.plot(**plot_params, alpha=0.5, ylim=[-300,300], title='Residuals')\n",
        "ax.axhline(y=0, ls='dashed', lw=2)"
      ]
    },
    {
      "cell_type": "markdown",
      "id": "045da604",
      "metadata": {
        "papermill": {
          "duration": 0.044531,
          "end_time": "2022-12-06T21:39:07.342789",
          "exception": false,
          "start_time": "2022-12-06T21:39:07.298258",
          "status": "completed"
        },
        "tags": [],
        "id": "045da604"
      },
      "source": [
        "We also plot the periodogram of the deseasonalised time series. The previously present monthly/bi-weekly Fourier features should now be absent, if they had been correctly taken care of; and we indeed find that."
      ]
    },
    {
      "cell_type": "code",
      "execution_count": null,
      "id": "bf1727e0",
      "metadata": {
        "execution": {
          "iopub.execute_input": "2022-12-06T21:39:07.432898Z",
          "iopub.status.busy": "2022-12-06T21:39:07.432585Z",
          "iopub.status.idle": "2022-12-06T21:39:07.995246Z",
          "shell.execute_reply": "2022-12-06T21:39:07.994523Z"
        },
        "papermill": {
          "duration": 0.609865,
          "end_time": "2022-12-06T21:39:07.996988",
          "exception": false,
          "start_time": "2022-12-06T21:39:07.387123",
          "status": "completed"
        },
        "tags": [],
        "id": "bf1727e0"
      },
      "outputs": [],
      "source": [
        "fig, (ax1, ax2) = plt.subplots(2, 1, sharex=True, sharey=True, figsize=(10, 7))\n",
        "ax1 = plot_periodogram(y_train_avg, ax=ax1)\n",
        "ax1.set_title(\"Product Sales Frequency Components\")\n",
        "ax2 = plot_periodogram(y_deseason_avg, ax=ax2);\n",
        "ax2.set_title(\"Deseasonalised\");"
      ]
    },
    {
      "cell_type": "markdown",
      "id": "c2d1f8a2",
      "metadata": {
        "papermill": {
          "duration": 0.047591,
          "end_time": "2022-12-06T21:39:08.091750",
          "exception": false,
          "start_time": "2022-12-06T21:39:08.044159",
          "status": "completed"
        },
        "tags": [],
        "id": "c2d1f8a2"
      },
      "source": [
        "## Holidays"
      ]
    },
    {
      "cell_type": "markdown",
      "id": "6c3bb07a",
      "metadata": {
        "papermill": {
          "duration": 0.044245,
          "end_time": "2022-12-06T21:39:08.181030",
          "exception": false,
          "start_time": "2022-12-06T21:39:08.136785",
          "status": "completed"
        },
        "tags": [],
        "id": "6c3bb07a"
      },
      "source": [
        "We had already read-in the \"Holidays and Events\" dataset at the very beginning. This is what the dataset looks like:"
      ]
    },
    {
      "cell_type": "code",
      "execution_count": null,
      "id": "4b8803fb",
      "metadata": {
        "execution": {
          "iopub.execute_input": "2022-12-06T21:39:08.272558Z",
          "iopub.status.busy": "2022-12-06T21:39:08.271686Z",
          "iopub.status.idle": "2022-12-06T21:39:08.292181Z",
          "shell.execute_reply": "2022-12-06T21:39:08.291100Z"
        },
        "papermill": {
          "duration": 0.068364,
          "end_time": "2022-12-06T21:39:08.293955",
          "exception": false,
          "start_time": "2022-12-06T21:39:08.225591",
          "status": "completed"
        },
        "tags": [],
        "id": "4b8803fb"
      },
      "outputs": [],
      "source": [
        "holidays_events.info()\n",
        "holidays_events.head()"
      ]
    },
    {
      "cell_type": "markdown",
      "id": "92ddb1bb",
      "metadata": {
        "papermill": {
          "duration": 0.044392,
          "end_time": "2022-12-06T21:39:08.383602",
          "exception": false,
          "start_time": "2022-12-06T21:39:08.339210",
          "status": "completed"
        },
        "tags": [],
        "id": "92ddb1bb"
      },
      "source": [
        "There are 350 entries between 2012-03-02 and 2017-12-26; however, this dataset can be significantly reduced based on prior information and intuition. We can restrict ourselves to:\n",
        "* holidays in 2017 that fall within our training (2017-01-01 : 2017-07-31) + validation (2017-08-01 : 2017-08-15) + test set (2017-08-16 : 2017-08-31)\n",
        "* national and regional holidays, ignoring local holidays (assuming a local holiday will have minimum impact on the average national sales)\n",
        "\n",
        "This reduces the holidays_events dataset to following 14 holidays."
      ]
    },
    {
      "cell_type": "code",
      "execution_count": null,
      "id": "5ed72b7d",
      "metadata": {
        "execution": {
          "iopub.execute_input": "2022-12-06T21:39:08.474243Z",
          "iopub.status.busy": "2022-12-06T21:39:08.473907Z",
          "iopub.status.idle": "2022-12-06T21:39:08.489878Z",
          "shell.execute_reply": "2022-12-06T21:39:08.489288Z"
        },
        "papermill": {
          "duration": 0.06381,
          "end_time": "2022-12-06T21:39:08.491729",
          "exception": false,
          "start_time": "2022-12-06T21:39:08.427919",
          "status": "completed"
        },
        "tags": [],
        "id": "5ed72b7d"
      },
      "outputs": [],
      "source": [
        "# National and regional holidays in the training set\n",
        "holidays = (\n",
        "    holidays_events\n",
        "    .query(\"locale in ['National', 'Regional']\")\n",
        "    .loc['2017':'2017-08-15', ['description']] ## restricting ourselves to the dates in the training set\n",
        "    .assign(description=lambda x: x.description.cat.remove_unused_categories()) ## remove categories which are not used\n",
        ")\n",
        "\n",
        "holidays"
      ]
    },
    {
      "cell_type": "markdown",
      "id": "15e73188",
      "metadata": {
        "papermill": {
          "duration": 0.044128,
          "end_time": "2022-12-06T21:39:08.580646",
          "exception": false,
          "start_time": "2022-12-06T21:39:08.536518",
          "status": "completed"
        },
        "tags": [],
        "id": "15e73188"
      },
      "source": [
        "From a plot of the deseasonalized (training) average sales, it appears these holidays could have some predictive power."
      ]
    },
    {
      "cell_type": "code",
      "execution_count": null,
      "id": "908639fe",
      "metadata": {
        "execution": {
          "iopub.execute_input": "2022-12-06T21:39:08.670757Z",
          "iopub.status.busy": "2022-12-06T21:39:08.670219Z",
          "iopub.status.idle": "2022-12-06T21:39:08.917984Z",
          "shell.execute_reply": "2022-12-06T21:39:08.917289Z"
        },
        "papermill": {
          "duration": 0.294678,
          "end_time": "2022-12-06T21:39:08.919641",
          "exception": false,
          "start_time": "2022-12-06T21:39:08.624963",
          "status": "completed"
        },
        "tags": [],
        "id": "908639fe"
      },
      "outputs": [],
      "source": [
        "ax = y_deseason_avg.plot(**plot_params)\n",
        "plt.plot_date(holidays.index[:-2], y_deseason_avg[holidays.index[:-2]], color='C3') # the [:-2] is to remove the last 2 dates, 2017-08-10 and 2017-08-11 because they are in the validation set, and not the training set.\n",
        "ax.set_title('National and Regional Holidays');"
      ]
    },
    {
      "cell_type": "markdown",
      "id": "724da60e",
      "metadata": {
        "papermill": {
          "duration": 0.043904,
          "end_time": "2022-12-06T21:39:09.008784",
          "exception": false,
          "start_time": "2022-12-06T21:39:08.964880",
          "status": "completed"
        },
        "tags": [],
        "id": "724da60e"
      },
      "source": [
        "### Creating holiday features as seasonal indicators"
      ]
    },
    {
      "cell_type": "markdown",
      "id": "81be4eae",
      "metadata": {
        "papermill": {
          "duration": 0.048338,
          "end_time": "2022-12-06T21:39:09.101773",
          "exception": false,
          "start_time": "2022-12-06T21:39:09.053435",
          "status": "completed"
        },
        "tags": [],
        "id": "81be4eae"
      },
      "source": [
        "Holidays can be treated as [seasonal indicators](https://www.kaggle.com/code/ryanholbrook/seasonality) through a one-hot-encoded categorical feature."
      ]
    },
    {
      "cell_type": "code",
      "execution_count": null,
      "id": "aa2085d8",
      "metadata": {
        "execution": {
          "iopub.execute_input": "2022-12-06T21:39:09.196414Z",
          "iopub.status.busy": "2022-12-06T21:39:09.196077Z",
          "iopub.status.idle": "2022-12-06T21:39:09.211480Z",
          "shell.execute_reply": "2022-12-06T21:39:09.210626Z"
        },
        "papermill": {
          "duration": 0.064585,
          "end_time": "2022-12-06T21:39:09.213407",
          "exception": false,
          "start_time": "2022-12-06T21:39:09.148822",
          "status": "completed"
        },
        "tags": [],
        "id": "aa2085d8"
      },
      "outputs": [],
      "source": [
        "X_holidays = pd.get_dummies(holidays)\n",
        "X_holidays.head()"
      ]
    },
    {
      "cell_type": "markdown",
      "id": "8cf8fdc8",
      "metadata": {
        "papermill": {
          "duration": 0.045765,
          "end_time": "2022-12-06T21:39:09.305084",
          "exception": false,
          "start_time": "2022-12-06T21:39:09.259319",
          "status": "completed"
        },
        "tags": [],
        "id": "8cf8fdc8"
      },
      "source": [
        "We create one feature set `X2` by combining the `X_holidays` feature set and the trend/seasonality `X` feature set."
      ]
    },
    {
      "cell_type": "code",
      "execution_count": null,
      "id": "e0caceec",
      "metadata": {
        "execution": {
          "iopub.execute_input": "2022-12-06T21:39:09.397752Z",
          "iopub.status.busy": "2022-12-06T21:39:09.397397Z",
          "iopub.status.idle": "2022-12-06T21:39:09.416722Z",
          "shell.execute_reply": "2022-12-06T21:39:09.415898Z"
        },
        "papermill": {
          "duration": 0.067734,
          "end_time": "2022-12-06T21:39:09.418499",
          "exception": false,
          "start_time": "2022-12-06T21:39:09.350765",
          "status": "completed"
        },
        "tags": [],
        "id": "e0caceec"
      },
      "outputs": [],
      "source": [
        "X2 = X.join(X_holidays, on='date').fillna(0.0)\n",
        "X2.head().T"
      ]
    },
    {
      "cell_type": "code",
      "execution_count": null,
      "id": "f344cbc8",
      "metadata": {
        "execution": {
          "iopub.execute_input": "2022-12-06T21:39:09.513690Z",
          "iopub.status.busy": "2022-12-06T21:39:09.513021Z",
          "iopub.status.idle": "2022-12-06T21:39:09.714205Z",
          "shell.execute_reply": "2022-12-06T21:39:09.712977Z"
        },
        "papermill": {
          "duration": 0.251611,
          "end_time": "2022-12-06T21:39:09.716716",
          "exception": false,
          "start_time": "2022-12-06T21:39:09.465105",
          "status": "completed"
        },
        "tags": [],
        "id": "f344cbc8"
      },
      "outputs": [],
      "source": [
        "X_train, X_valid, y_train, y_valid = train_test_split(X2, y, test_size=15, shuffle=False)\n",
        "\n",
        "model = LinearRegression(fit_intercept=False).fit(X_train, y_train)\n",
        "\n",
        "y_fit = pd.DataFrame(model.predict(X_train), index=X_train.index, columns=y_train.columns).clip(0.0)\n",
        "y_pred = pd.DataFrame(model.predict(X_valid), index=X_valid.index, columns=y_valid.columns).clip(0.0)\n",
        "\n",
        "rmsle_train = mean_squared_log_error(y_train, y_fit) ** 0.5\n",
        "rmsle_valid = mean_squared_log_error(y_valid, y_pred) ** 0.5\n",
        "print(f'Training RMSLE: {rmsle_train:.5f}')\n",
        "print(f'Validation RMSLE: {rmsle_valid:.5f}')\n",
        "\n",
        "y_pred.head()"
      ]
    },
    {
      "cell_type": "markdown",
      "id": "5584bbd0",
      "metadata": {
        "papermill": {
          "duration": 0.046081,
          "end_time": "2022-12-06T21:39:09.810660",
          "exception": false,
          "start_time": "2022-12-06T21:39:09.764579",
          "status": "completed"
        },
        "tags": [],
        "id": "5584bbd0"
      },
      "source": [
        "We find our training and validation scores to be better through the inclusion of information about holidays. That makes sense since people's purchasing patterns are influenced by an upcoming holiday, or the holiday itself."
      ]
    },
    {
      "cell_type": "markdown",
      "id": "eb324894",
      "metadata": {
        "papermill": {
          "duration": 0.047392,
          "end_time": "2022-12-06T21:39:09.904700",
          "exception": false,
          "start_time": "2022-12-06T21:39:09.857308",
          "status": "completed"
        },
        "tags": [],
        "id": "eb324894"
      },
      "source": [
        "### Third submission: based on (linear) trends + seasonality + holidays"
      ]
    },
    {
      "cell_type": "code",
      "execution_count": null,
      "id": "eae0a6b7",
      "metadata": {
        "execution": {
          "iopub.execute_input": "2022-12-06T21:39:10.000739Z",
          "iopub.status.busy": "2022-12-06T21:39:09.999793Z",
          "iopub.status.idle": "2022-12-06T21:39:10.023956Z",
          "shell.execute_reply": "2022-12-06T21:39:10.023275Z"
        },
        "papermill": {
          "duration": 0.07372,
          "end_time": "2022-12-06T21:39:10.025645",
          "exception": false,
          "start_time": "2022-12-06T21:39:09.951925",
          "status": "completed"
        },
        "tags": [],
        "id": "eae0a6b7"
      },
      "outputs": [],
      "source": [
        "# Create features for test set\n",
        "X_test = dp.out_of_sample(steps=16)\n",
        "X_test.index.name = 'date'\n",
        "\n",
        "X_test.head()"
      ]
    },
    {
      "cell_type": "code",
      "execution_count": null,
      "id": "09a3f53f",
      "metadata": {
        "execution": {
          "iopub.execute_input": "2022-12-06T21:39:10.122736Z",
          "iopub.status.busy": "2022-12-06T21:39:10.121862Z",
          "iopub.status.idle": "2022-12-06T21:39:10.127016Z",
          "shell.execute_reply": "2022-12-06T21:39:10.126433Z"
        },
        "papermill": {
          "duration": 0.055452,
          "end_time": "2022-12-06T21:39:10.128624",
          "exception": false,
          "start_time": "2022-12-06T21:39:10.073172",
          "status": "completed"
        },
        "tags": [],
        "id": "09a3f53f"
      },
      "outputs": [],
      "source": [
        "# Include information about holidays in the feature set\n",
        "X2_test = X_test.join(X_holidays, on='date').fillna(0.0)"
      ]
    },
    {
      "cell_type": "markdown",
      "id": "0f7e1238",
      "metadata": {
        "papermill": {
          "duration": 0.046221,
          "end_time": "2022-12-06T21:39:10.222123",
          "exception": false,
          "start_time": "2022-12-06T21:39:10.175902",
          "status": "completed"
        },
        "tags": [],
        "id": "0f7e1238"
      },
      "source": [
        "This step might look redundant because there are no holidays in our test range. However, there are a couple of points:\n",
        "* absence of information can be information itself, i.e., knowing there are no holidays will lead to the algorithm reflect a pattern of behaviour distinctly different from holiday behaviour\n",
        "* from a technical point of view, our model expects a feature set with the same number of features on which it was originally trained."
      ]
    },
    {
      "cell_type": "code",
      "execution_count": null,
      "id": "b080c814",
      "metadata": {
        "execution": {
          "iopub.execute_input": "2022-12-06T21:39:10.317694Z",
          "iopub.status.busy": "2022-12-06T21:39:10.316940Z",
          "iopub.status.idle": "2022-12-06T21:39:10.796407Z",
          "shell.execute_reply": "2022-12-06T21:39:10.795844Z"
        },
        "papermill": {
          "duration": 0.529048,
          "end_time": "2022-12-06T21:39:10.797925",
          "exception": false,
          "start_time": "2022-12-06T21:39:10.268877",
          "status": "completed"
        },
        "tags": [],
        "id": "b080c814"
      },
      "outputs": [],
      "source": [
        "y_submit = pd.DataFrame(model.predict(X2_test), index=X2_test.index, columns=y.columns)\n",
        "y_submit = y_submit.stack(['store_nbr', 'family'])\n",
        "y_submit = y_submit.join(df_test.id).reindex(columns=['id', 'sales'])\n",
        "y_submit.to_csv('submission_trend_seasonality_holidays_2017.csv', index=False)\n",
        "\n",
        "y_submit.head()"
      ]
    },
    {
      "cell_type": "markdown",
      "id": "d40ff988",
      "metadata": {
        "papermill": {
          "duration": 0.04655,
          "end_time": "2022-12-06T21:39:10.892251",
          "exception": false,
          "start_time": "2022-12-06T21:39:10.845701",
          "status": "completed"
        },
        "tags": [],
        "id": "d40ff988"
      },
      "source": [
        "## [Public Score: 0.58717](https://www.kaggle.com/code/abhirupghosh184098/store-sales-forecasting-a-comprehensive-guide?scriptVersionId=111942913)\n",
        "\n",
        "This is a marginal improvement over our score for trends + seasonality; but it is an improvement nonetheless, showing including information about holidays does have an impact.\n",
        "\n",
        "With this submission we have exhausted what we want to include about time dependence in our model (for the time being). It is time to move onto the next significant feature about a time series, i.e., lags and serial dependence. However, at this point, we will note some points that we can come back and explore further:\n",
        "\n",
        "* degree of the polynomial for the Linear Regression\n",
        "* other Regression algorithms like Ridge and Lasso\n",
        "* including information about local holidays\n",
        "* ... (we will continue expanding this list as and when we come across more points of interest)"
      ]
    },
    {
      "cell_type": "markdown",
      "id": "faab72de",
      "metadata": {
        "papermill": {
          "duration": 0.04698,
          "end_time": "2022-12-06T21:39:10.986239",
          "exception": false,
          "start_time": "2022-12-06T21:39:10.939259",
          "status": "completed"
        },
        "tags": [],
        "id": "faab72de"
      },
      "source": [
        "## Short Recap: What have we done up till this point?\n",
        "\n",
        "* Restricted ourselves to 2017 data\n",
        "* Considered the last 15 days of the training set as our validation set (same length as trainig set)\n",
        "* Calculated trend based on a polynomial of order 1\n",
        "* Deseasoned using monthly and biweekly Fourier features, and seasonal indicators for days of the week\n",
        "* Used seasonal indicators for holidays"
      ]
    },
    {
      "cell_type": "markdown",
      "id": "0f69a37a",
      "metadata": {
        "papermill": {
          "duration": 0.05856,
          "end_time": "2022-12-06T21:39:11.095835",
          "exception": false,
          "start_time": "2022-12-06T21:39:11.037275",
          "status": "completed"
        },
        "tags": [],
        "id": "0f69a37a"
      },
      "source": [
        "## Some bookkeeping\n",
        "\n",
        "We save our progress on the time-dependence feature set as:"
      ]
    },
    {
      "cell_type": "code",
      "execution_count": null,
      "id": "381c9180",
      "metadata": {
        "execution": {
          "iopub.execute_input": "2022-12-06T21:39:11.194191Z",
          "iopub.status.busy": "2022-12-06T21:39:11.193674Z",
          "iopub.status.idle": "2022-12-06T21:39:11.197048Z",
          "shell.execute_reply": "2022-12-06T21:39:11.196438Z"
        },
        "papermill": {
          "duration": 0.053753,
          "end_time": "2022-12-06T21:39:11.198598",
          "exception": false,
          "start_time": "2022-12-06T21:39:11.144845",
          "status": "completed"
        },
        "tags": [],
        "id": "381c9180"
      },
      "outputs": [],
      "source": [
        "X_time = X2\n",
        "X_time_test = X2_test"
      ]
    },
    {
      "cell_type": "markdown",
      "id": "78aa508f",
      "metadata": {
        "papermill": {
          "duration": 0.046835,
          "end_time": "2022-12-06T21:39:11.292734",
          "exception": false,
          "start_time": "2022-12-06T21:39:11.245899",
          "status": "completed"
        },
        "tags": [],
        "id": "78aa508f"
      },
      "source": [
        "# Modelling serial dependence"
      ]
    },
    {
      "cell_type": "markdown",
      "id": "d32ba49f",
      "metadata": {
        "papermill": {
          "duration": 0.048917,
          "end_time": "2022-12-06T21:39:11.389700",
          "exception": false,
          "start_time": "2022-12-06T21:39:11.340783",
          "status": "completed"
        },
        "tags": [],
        "id": "d32ba49f"
      },
      "source": [
        "[Serial dependence](https://www.kaggle.com/code/ryanholbrook/time-series-as-features) are behaviours in a time series that are _time-independent_, i.e., they have less to do with a particular date of occurance, but more to do with what happened in the recent past; thus lending a sense of irregularity to the events. An example of serial dependent properties are [cycles](https://www.kaggle.com/code/ryanholbrook/time-series-as-features#Cycles).\n",
        "\n",
        "Serial dependence can be of two types:\n",
        "* Linear: where past and present observations are linearly related. Such linear serial dependence can be explored through [lag series/plots](https://www.kaggle.com/code/ryanholbrook/time-series-as-features#Lagged-Series-and-Lag-Plots) where **the lag features are chosen by calculating (partial) autocorrelation**. They can also be anticipated through [leading indicators](https://www.kaggle.com/code/ryanholbrook/time-series-as-features#Example---Flu-Trends), like online trends or promotions. \n",
        "\n",
        "\n",
        "* Non-linear: where past and present observations can not be related by a simple linear relationship, hence **we can't calculate lag features through (partial) autocorrelations.** Non-linear relationships like these can either be transformed to be linear or else learned by an appropriate algorithm (XGBoost) using more complicated measures like [mutual information](https://www.kaggle.com/code/ryanholbrook/mutual-information/)."
      ]
    },
    {
      "cell_type": "markdown",
      "id": "c5b18bbb",
      "metadata": {
        "papermill": {
          "duration": 0.048114,
          "end_time": "2022-12-06T21:39:11.486042",
          "exception": false,
          "start_time": "2022-12-06T21:39:11.437928",
          "status": "completed"
        },
        "tags": [],
        "id": "c5b18bbb"
      },
      "source": [
        "## Data Digression: 'onpromotion' and \"school and office supplies\""
      ]
    },
    {
      "cell_type": "markdown",
      "id": "dd98fd4f",
      "metadata": {
        "papermill": {
          "duration": 0.047326,
          "end_time": "2022-12-06T21:39:11.581970",
          "exception": false,
          "start_time": "2022-12-06T21:39:11.534644",
          "status": "completed"
        },
        "tags": [],
        "id": "dd98fd4f"
      },
      "source": [
        "At this point of time, we reload our datasets to include more information that would be needed to study serial dependence, mainly information about leading indicators, like the 'onpromotion' column. In exploring serial dependence of our store sales, we again take our lead from the [tutorial](https://www.kaggle.com/code/abhirupghosh184098/exercise-time-series-as-features/) which points to the sale of one particular family of products, \"school and office supplies\" as showing cyclic behaviour in 2017. Hence, we use this family as an example to demonstrate serial dependence modelling."
      ]
    },
    {
      "cell_type": "code",
      "execution_count": null,
      "id": "3b75c0ff",
      "metadata": {
        "execution": {
          "iopub.execute_input": "2022-12-06T21:39:11.677112Z",
          "iopub.status.busy": "2022-12-06T21:39:11.676580Z",
          "iopub.status.idle": "2022-12-06T21:39:14.287206Z",
          "shell.execute_reply": "2022-12-06T21:39:14.286198Z"
        },
        "papermill": {
          "duration": 2.660073,
          "end_time": "2022-12-06T21:39:14.288922",
          "exception": false,
          "start_time": "2022-12-06T21:39:11.628849",
          "status": "completed"
        },
        "tags": [],
        "id": "3b75c0ff"
      },
      "outputs": [],
      "source": [
        "store_sales = pd.read_csv(\n",
        "    comp_dir / 'train.csv',\n",
        "    usecols=['store_nbr', 'family', 'date', 'sales', 'onpromotion'],\n",
        "    dtype={\n",
        "        'store_nbr': 'category',\n",
        "        'family': 'category',\n",
        "        'sales': 'float32',\n",
        "        'onpromotion': 'uint32', ## NEW FEATURE: To be introduced later\n",
        "    },\n",
        "    parse_dates=['date'],\n",
        "    infer_datetime_format=True,\n",
        ")\n",
        "store_sales['date'] = store_sales.date.dt.to_period('D')\n",
        "store_sales = store_sales.set_index(['store_nbr', 'family', 'date']).sort_index()\n",
        "\n",
        "family_sales = (\n",
        "    store_sales\n",
        "    .groupby(['family', 'date'])\n",
        "    .mean()\n",
        "    .unstack('family')\n",
        "    .loc['2017']\n",
        ")\n",
        "\n",
        "family_sales.head()\n",
        "\n",
        "supply_sales = family_sales.loc(axis=1)[:, 'SCHOOL AND OFFICE SUPPLIES']\n",
        "y_supply_sales = supply_sales.loc[:, 'sales'].squeeze()\n",
        "y_supply_sales"
      ]
    },
    {
      "cell_type": "markdown",
      "id": "48a2e5d7",
      "metadata": {
        "papermill": {
          "duration": 0.047444,
          "end_time": "2022-12-06T21:39:14.383743",
          "exception": false,
          "start_time": "2022-12-06T21:39:14.336299",
          "status": "completed"
        },
        "tags": [],
        "id": "48a2e5d7"
      },
      "source": [
        "## Cycles"
      ]
    },
    {
      "cell_type": "markdown",
      "id": "6456de83",
      "metadata": {
        "papermill": {
          "duration": 0.046404,
          "end_time": "2022-12-06T21:39:14.477216",
          "exception": false,
          "start_time": "2022-12-06T21:39:14.430812",
          "status": "completed"
        },
        "tags": [],
        "id": "6456de83"
      },
      "source": [
        "Trend and seasonality will both create serial dependence that shows up in correlograms and lag plots. To isolate any purely cyclic behavior, we'll start with the deseasonalised 'SCHOOL AND OFFICE SUPPLIES' time series. \n",
        "\n",
        "At the end of our exercise in time-dependence, we had the following series: \n",
        "* the original targets:`y_train` and `y_valid`\n",
        "* the corresponding predictions: `y_fit` and `y_pred`\n",
        "\n",
        "From their residuals, we can pick out the family: 'SCHOOL AND OFFICE SUPPLIES'"
      ]
    },
    {
      "cell_type": "code",
      "execution_count": null,
      "id": "e42cc25f",
      "metadata": {
        "execution": {
          "iopub.execute_input": "2022-12-06T21:39:14.573219Z",
          "iopub.status.busy": "2022-12-06T21:39:14.572398Z",
          "iopub.status.idle": "2022-12-06T21:39:14.582265Z",
          "shell.execute_reply": "2022-12-06T21:39:14.581367Z"
        },
        "papermill": {
          "duration": 0.060258,
          "end_time": "2022-12-06T21:39:14.584141",
          "exception": false,
          "start_time": "2022-12-06T21:39:14.523883",
          "status": "completed"
        },
        "tags": [],
        "id": "e42cc25f"
      },
      "outputs": [],
      "source": [
        "y_resid_train = y_train - y_fit \n",
        "y_resid_valid = y_valid - y_pred\n",
        "\n",
        "y_resid = pd.concat([y_resid_train, y_resid_valid])"
      ]
    },
    {
      "cell_type": "code",
      "execution_count": null,
      "id": "64cabcab",
      "metadata": {
        "execution": {
          "iopub.execute_input": "2022-12-06T21:39:14.681395Z",
          "iopub.status.busy": "2022-12-06T21:39:14.680481Z",
          "iopub.status.idle": "2022-12-06T21:39:14.783037Z",
          "shell.execute_reply": "2022-12-06T21:39:14.782336Z"
        },
        "papermill": {
          "duration": 0.152649,
          "end_time": "2022-12-06T21:39:14.784722",
          "exception": false,
          "start_time": "2022-12-06T21:39:14.632073",
          "status": "completed"
        },
        "tags": [],
        "id": "64cabcab"
      },
      "outputs": [],
      "source": [
        "y_resid_supply_sales = y_resid.stack(['store_nbr', 'family']).groupby(['family', 'date']).mean() .unstack('family').loc(axis=1)[:, 'SCHOOL AND OFFICE SUPPLIES'].loc[:, 'sales'].squeeze().rename('sales_deseason')\n",
        "y_resid_supply_sales"
      ]
    },
    {
      "cell_type": "code",
      "execution_count": null,
      "id": "986dd4b4",
      "metadata": {
        "execution": {
          "iopub.execute_input": "2022-12-06T21:39:14.884330Z",
          "iopub.status.busy": "2022-12-06T21:39:14.883456Z",
          "iopub.status.idle": "2022-12-06T21:39:15.175279Z",
          "shell.execute_reply": "2022-12-06T21:39:15.174524Z"
        },
        "papermill": {
          "duration": 0.343661,
          "end_time": "2022-12-06T21:39:15.177202",
          "exception": false,
          "start_time": "2022-12-06T21:39:14.833541",
          "status": "completed"
        },
        "tags": [],
        "id": "986dd4b4"
      },
      "outputs": [],
      "source": [
        "ax = y_resid_supply_sales.plot(label='deseasonalized')\n",
        "y_supply_sales.plot(ax=ax, label='raw data')\n",
        "ax.set_title(\"Sales of School and Office Supplies (deseasonalized)\");\n",
        "ax.legend()"
      ]
    },
    {
      "cell_type": "markdown",
      "id": "cb9d3f29",
      "metadata": {
        "papermill": {
          "duration": 0.046713,
          "end_time": "2022-12-06T21:39:15.271653",
          "exception": false,
          "start_time": "2022-12-06T21:39:15.224940",
          "status": "completed"
        },
        "tags": [],
        "id": "cb9d3f29"
      },
      "source": [
        "This behaviour becomes clearer when we perform a moving average. "
      ]
    },
    {
      "cell_type": "code",
      "execution_count": null,
      "id": "bfa9fa9c",
      "metadata": {
        "execution": {
          "iopub.execute_input": "2022-12-06T21:39:15.367329Z",
          "iopub.status.busy": "2022-12-06T21:39:15.367017Z",
          "iopub.status.idle": "2022-12-06T21:39:15.633356Z",
          "shell.execute_reply": "2022-12-06T21:39:15.632457Z"
        },
        "papermill": {
          "duration": 0.316323,
          "end_time": "2022-12-06T21:39:15.635144",
          "exception": false,
          "start_time": "2022-12-06T21:39:15.318821",
          "status": "completed"
        },
        "tags": [],
        "id": "bfa9fa9c"
      },
      "outputs": [],
      "source": [
        "y_supply_sales_ma = y_supply_sales.rolling(\n",
        "    window=7,       # 7-day window\n",
        "    center=True,      # puts the average at the center of the window\n",
        ").mean() \n",
        "\n",
        "\n",
        "# Plot\n",
        "ax = y_supply_sales_ma.plot()\n",
        "ax.set_title(\"Seven-Day Moving Average\");"
      ]
    },
    {
      "cell_type": "markdown",
      "id": "5f81dfe4",
      "metadata": {
        "papermill": {
          "duration": 0.047852,
          "end_time": "2022-12-06T21:39:15.732028",
          "exception": false,
          "start_time": "2022-12-06T21:39:15.684176",
          "status": "completed"
        },
        "tags": [],
        "id": "5f81dfe4"
      },
      "source": [
        "## Lag series/plots: Calculating (partial) autocorrelations"
      ]
    },
    {
      "cell_type": "code",
      "execution_count": null,
      "id": "7f71366f",
      "metadata": {
        "execution": {
          "iopub.execute_input": "2022-12-06T21:39:15.829095Z",
          "iopub.status.busy": "2022-12-06T21:39:15.828578Z",
          "iopub.status.idle": "2022-12-06T21:39:16.983533Z",
          "shell.execute_reply": "2022-12-06T21:39:16.982694Z"
        },
        "papermill": {
          "duration": 1.205737,
          "end_time": "2022-12-06T21:39:16.985777",
          "exception": false,
          "start_time": "2022-12-06T21:39:15.780040",
          "status": "completed"
        },
        "tags": [],
        "id": "7f71366f"
      },
      "outputs": [],
      "source": [
        "plot_pacf(y_resid_supply_sales, lags=8);\n",
        "plot_lags(y_resid_supply_sales, lags=8, nrows=2);"
      ]
    },
    {
      "cell_type": "markdown",
      "id": "18223c2f",
      "metadata": {
        "papermill": {
          "duration": 0.048562,
          "end_time": "2022-12-06T21:39:17.085793",
          "exception": false,
          "start_time": "2022-12-06T21:39:17.037231",
          "status": "completed"
        },
        "tags": [],
        "id": "18223c2f"
      },
      "source": [
        "From the autocorrelation plots and the partial autocorrelation calculations, it seems the first lag series is important (and also perhaps the 8th)."
      ]
    },
    {
      "cell_type": "markdown",
      "id": "56640a19",
      "metadata": {
        "papermill": {
          "duration": 0.048334,
          "end_time": "2022-12-06T21:39:17.182546",
          "exception": false,
          "start_time": "2022-12-06T21:39:17.134212",
          "status": "completed"
        },
        "tags": [],
        "id": "56640a19"
      },
      "source": [
        "### Creating lag features"
      ]
    },
    {
      "cell_type": "code",
      "execution_count": null,
      "id": "9acc7e00",
      "metadata": {
        "execution": {
          "iopub.execute_input": "2022-12-06T21:39:17.281536Z",
          "iopub.status.busy": "2022-12-06T21:39:17.280955Z",
          "iopub.status.idle": "2022-12-06T21:39:17.286217Z",
          "shell.execute_reply": "2022-12-06T21:39:17.285294Z"
        },
        "papermill": {
          "duration": 0.056811,
          "end_time": "2022-12-06T21:39:17.287899",
          "exception": false,
          "start_time": "2022-12-06T21:39:17.231088",
          "status": "completed"
        },
        "tags": [],
        "id": "9acc7e00"
      },
      "outputs": [],
      "source": [
        "# Make features from `y_resid_supply_sales`\n",
        "X_lags = make_lags(y_resid_supply_sales, lags=1)"
      ]
    },
    {
      "cell_type": "code",
      "execution_count": null,
      "id": "ceaf6fa1",
      "metadata": {
        "execution": {
          "iopub.execute_input": "2022-12-06T21:39:17.387004Z",
          "iopub.status.busy": "2022-12-06T21:39:17.386025Z",
          "iopub.status.idle": "2022-12-06T21:39:17.394057Z",
          "shell.execute_reply": "2022-12-06T21:39:17.392723Z"
        },
        "papermill": {
          "duration": 0.059557,
          "end_time": "2022-12-06T21:39:17.396087",
          "exception": false,
          "start_time": "2022-12-06T21:39:17.336530",
          "status": "completed"
        },
        "tags": [],
        "id": "ceaf6fa1"
      },
      "outputs": [],
      "source": [
        "X_supply_sales = pd.concat([X_time, X_lags], axis=1).dropna()\n",
        "print(f\"Total features in our combined feature set: {len(X_supply_sales.columns)}\")"
      ]
    },
    {
      "cell_type": "code",
      "execution_count": null,
      "id": "7de85b2c",
      "metadata": {
        "execution": {
          "iopub.execute_input": "2022-12-06T21:39:17.497149Z",
          "iopub.status.busy": "2022-12-06T21:39:17.496206Z",
          "iopub.status.idle": "2022-12-06T21:39:17.501522Z",
          "shell.execute_reply": "2022-12-06T21:39:17.500641Z"
        },
        "papermill": {
          "duration": 0.057433,
          "end_time": "2022-12-06T21:39:17.503198",
          "exception": false,
          "start_time": "2022-12-06T21:39:17.445765",
          "status": "completed"
        },
        "tags": [],
        "id": "7de85b2c"
      },
      "outputs": [],
      "source": [
        "y_supply_sales, X_supply_sales = y_supply_sales.align(X_supply_sales, join='inner')"
      ]
    },
    {
      "cell_type": "code",
      "execution_count": null,
      "id": "c1d97214",
      "metadata": {
        "execution": {
          "iopub.execute_input": "2022-12-06T21:39:17.606913Z",
          "iopub.status.busy": "2022-12-06T21:39:17.606440Z",
          "iopub.status.idle": "2022-12-06T21:39:17.914197Z",
          "shell.execute_reply": "2022-12-06T21:39:17.913138Z"
        },
        "papermill": {
          "duration": 0.361875,
          "end_time": "2022-12-06T21:39:17.916048",
          "exception": false,
          "start_time": "2022-12-06T21:39:17.554173",
          "status": "completed"
        },
        "tags": [],
        "id": "c1d97214"
      },
      "outputs": [],
      "source": [
        "X_train_supply_sales, X_valid_supply_sales, y_train_supply_sales, y_valid_supply_sales = train_test_split(X_supply_sales, y_supply_sales, test_size=15, shuffle=False)\n",
        "\n",
        "model = LinearRegression(fit_intercept=False).fit(X_train_supply_sales, y_train_supply_sales)\n",
        "y_fit_supply_sales = pd.Series(model.predict(X_train_supply_sales), index=X_train_supply_sales.index).clip(0.0)\n",
        "y_pred_supply_sales = pd.Series(model.predict(X_valid_supply_sales), index=X_valid_supply_sales.index).clip(0.0)\n",
        "\n",
        "rmsle_train = mean_squared_log_error(y_train_supply_sales, y_fit_supply_sales) ** 0.5\n",
        "rmsle_valid = mean_squared_log_error(y_valid_supply_sales, y_pred_supply_sales) ** 0.5\n",
        "print(f'Training RMSLE: {rmsle_train:.5f}')\n",
        "print(f'Validation RMSLE: {rmsle_valid:.5f}')\n",
        "\n",
        "ax = y_supply_sales.plot(**plot_params, alpha=0.5, title=\"Average Sales\", ylabel=\"items sold\")\n",
        "ax = y_fit_supply_sales.plot(ax=ax, label=\"Fitted\", color='C0')\n",
        "ax = y_pred_supply_sales.plot(ax=ax, label=\"Forecast\", color='C3')\n",
        "ax.legend();"
      ]
    },
    {
      "cell_type": "markdown",
      "id": "23499732",
      "metadata": {
        "papermill": {
          "duration": 0.051217,
          "end_time": "2022-12-06T21:39:18.019008",
          "exception": false,
          "start_time": "2022-12-06T21:39:17.967791",
          "status": "completed"
        },
        "tags": [],
        "id": "23499732"
      },
      "source": [
        "## Leading indicator: 'onpromotion'"
      ]
    },
    {
      "cell_type": "markdown",
      "id": "faa6c958",
      "metadata": {
        "papermill": {
          "duration": 0.051662,
          "end_time": "2022-12-06T21:39:18.122657",
          "exception": false,
          "start_time": "2022-12-06T21:39:18.070995",
          "status": "completed"
        },
        "tags": [],
        "id": "faa6c958"
      },
      "source": [
        "A leading indicator provides \"advance notice\" of changes in the target. For our purpose, we can use the 'onpromotion' series in the training data. We load it in the same way as the 'store_sales' dataset [here](https://www.kaggle.com/code/abhirupghosh184098/store-sales-forecasting-a-comprehensive-guide#Preliminaries); and restrict ourselves to 2017 data for just the 'SCHOOL AND OFFICE SUPPLIES' family; and dividing between training and validation promotions."
      ]
    },
    {
      "cell_type": "code",
      "execution_count": null,
      "id": "d86bcd41",
      "metadata": {
        "execution": {
          "iopub.execute_input": "2022-12-06T21:39:18.226375Z",
          "iopub.status.busy": "2022-12-06T21:39:18.225994Z",
          "iopub.status.idle": "2022-12-06T21:39:18.234999Z",
          "shell.execute_reply": "2022-12-06T21:39:18.234436Z"
        },
        "papermill": {
          "duration": 0.062377,
          "end_time": "2022-12-06T21:39:18.236454",
          "exception": false,
          "start_time": "2022-12-06T21:39:18.174077",
          "status": "completed"
        },
        "tags": [],
        "id": "d86bcd41"
      },
      "outputs": [],
      "source": [
        "y_supply_onpromotion = supply_sales.loc[:, 'onpromotion'].squeeze()\n",
        "y_supply_onpromotion"
      ]
    },
    {
      "cell_type": "markdown",
      "id": "5bf524ea",
      "metadata": {
        "papermill": {
          "duration": 0.049386,
          "end_time": "2022-12-06T21:39:18.335676",
          "exception": false,
          "start_time": "2022-12-06T21:39:18.286290",
          "status": "completed"
        },
        "tags": [],
        "id": "5bf524ea"
      },
      "source": [
        "In order to understand the impact of promotional campaigns on sales, we shift the onpromotion series forward and backward in relation to the sales time series (by 3 steps each). We find a higher correlation on leading series, as is expected intuitively. A promotion's effect on sales is only forward in time."
      ]
    },
    {
      "cell_type": "code",
      "execution_count": null,
      "id": "24d6ff05",
      "metadata": {
        "execution": {
          "iopub.execute_input": "2022-12-06T21:39:18.437941Z",
          "iopub.status.busy": "2022-12-06T21:39:18.437405Z",
          "iopub.status.idle": "2022-12-06T21:39:19.257438Z",
          "shell.execute_reply": "2022-12-06T21:39:19.256359Z"
        },
        "papermill": {
          "duration": 0.873348,
          "end_time": "2022-12-06T21:39:19.259275",
          "exception": false,
          "start_time": "2022-12-06T21:39:18.385927",
          "status": "completed"
        },
        "tags": [],
        "id": "24d6ff05"
      },
      "outputs": [],
      "source": [
        "# Drop days without promotions\n",
        "plot_lags(x=y_supply_onpromotion.loc[y_supply_onpromotion > 1], y=y_resid_supply_sales.loc[y_supply_onpromotion > 1], lags=3, leads=3, nrows=1);"
      ]
    },
    {
      "cell_type": "markdown",
      "id": "db94ccd1",
      "metadata": {
        "papermill": {
          "duration": 0.051943,
          "end_time": "2022-12-06T21:39:19.363243",
          "exception": false,
          "start_time": "2022-12-06T21:39:19.311300",
          "status": "completed"
        },
        "tags": [],
        "id": "db94ccd1"
      },
      "source": [
        "### Creating leading indicator (onpromotion) features"
      ]
    },
    {
      "cell_type": "code",
      "execution_count": null,
      "id": "d016a4e4",
      "metadata": {
        "execution": {
          "iopub.execute_input": "2022-12-06T21:39:19.468643Z",
          "iopub.status.busy": "2022-12-06T21:39:19.468103Z",
          "iopub.status.idle": "2022-12-06T21:39:19.474150Z",
          "shell.execute_reply": "2022-12-06T21:39:19.473561Z"
        },
        "papermill": {
          "duration": 0.060425,
          "end_time": "2022-12-06T21:39:19.475613",
          "exception": false,
          "start_time": "2022-12-06T21:39:19.415188",
          "status": "completed"
        },
        "tags": [],
        "id": "d016a4e4"
      },
      "outputs": [],
      "source": [
        "X_promo = pd.concat([\n",
        "    make_lags(y_supply_onpromotion, lags=1),\n",
        "    y_supply_onpromotion,\n",
        "    make_leads(y_supply_onpromotion, leads=1),\n",
        "], axis=1)"
      ]
    },
    {
      "cell_type": "markdown",
      "id": "ef1e6ea2",
      "metadata": {
        "papermill": {
          "duration": 0.050187,
          "end_time": "2022-12-06T21:39:19.578211",
          "exception": false,
          "start_time": "2022-12-06T21:39:19.528024",
          "status": "completed"
        },
        "tags": [],
        "id": "ef1e6ea2"
      },
      "source": [
        "We combine our time and serial (lags and leading indicators) dependence feature sets into one."
      ]
    },
    {
      "cell_type": "code",
      "execution_count": null,
      "id": "2a119684",
      "metadata": {
        "execution": {
          "iopub.execute_input": "2022-12-06T21:39:19.681469Z",
          "iopub.status.busy": "2022-12-06T21:39:19.681153Z",
          "iopub.status.idle": "2022-12-06T21:39:19.689198Z",
          "shell.execute_reply": "2022-12-06T21:39:19.688312Z"
        },
        "papermill": {
          "duration": 0.061751,
          "end_time": "2022-12-06T21:39:19.690739",
          "exception": false,
          "start_time": "2022-12-06T21:39:19.628988",
          "status": "completed"
        },
        "tags": [],
        "id": "2a119684"
      },
      "outputs": [],
      "source": [
        "X_supply_sales = pd.concat([X_time, X_lags, X_promo], axis=1).dropna()\n",
        "print(f\"Total features in our combined feature set: {len(X_supply_sales.columns)}\")"
      ]
    },
    {
      "cell_type": "code",
      "execution_count": null,
      "id": "1c73dfdb",
      "metadata": {
        "execution": {
          "iopub.execute_input": "2022-12-06T21:39:19.793854Z",
          "iopub.status.busy": "2022-12-06T21:39:19.792971Z",
          "iopub.status.idle": "2022-12-06T21:39:19.797333Z",
          "shell.execute_reply": "2022-12-06T21:39:19.796713Z"
        },
        "papermill": {
          "duration": 0.057669,
          "end_time": "2022-12-06T21:39:19.798931",
          "exception": false,
          "start_time": "2022-12-06T21:39:19.741262",
          "status": "completed"
        },
        "tags": [],
        "id": "1c73dfdb"
      },
      "outputs": [],
      "source": [
        "y_supply_sales, X_supply_sales = y_supply_sales.align(X_supply_sales, join='inner')"
      ]
    },
    {
      "cell_type": "code",
      "execution_count": null,
      "id": "929234f4",
      "metadata": {
        "execution": {
          "iopub.execute_input": "2022-12-06T21:39:19.903235Z",
          "iopub.status.busy": "2022-12-06T21:39:19.902676Z",
          "iopub.status.idle": "2022-12-06T21:39:20.210834Z",
          "shell.execute_reply": "2022-12-06T21:39:20.210002Z"
        },
        "papermill": {
          "duration": 0.361604,
          "end_time": "2022-12-06T21:39:20.212438",
          "exception": false,
          "start_time": "2022-12-06T21:39:19.850834",
          "status": "completed"
        },
        "tags": [],
        "id": "929234f4"
      },
      "outputs": [],
      "source": [
        "X_train_supply_sales, X_valid_supply_sales, y_train_supply_sales, y_valid_supply_sales = train_test_split(X_supply_sales, y_supply_sales, test_size=15, shuffle=False)\n",
        "\n",
        "model = LinearRegression(fit_intercept=False).fit(X_train_supply_sales, y_train_supply_sales)\n",
        "y_fit_supply_sales = pd.Series(model.predict(X_train_supply_sales), index=X_train_supply_sales.index).clip(0.0)\n",
        "y_pred_supply_sales = pd.Series(model.predict(X_valid_supply_sales), index=X_valid_supply_sales.index).clip(0.0)\n",
        "\n",
        "rmsle_train = mean_squared_log_error(y_train_supply_sales, y_fit_supply_sales) ** 0.5\n",
        "rmsle_valid = mean_squared_log_error(y_valid_supply_sales, y_pred_supply_sales) ** 0.5\n",
        "print(f'Training RMSLE: {rmsle_train:.5f}')\n",
        "print(f'Validation RMSLE: {rmsle_valid:.5f}')\n",
        "\n",
        "ax = y_supply_sales.plot(**plot_params, alpha=0.5, title=\"Average Sales\", ylabel=\"items sold\")\n",
        "ax = y_fit_supply_sales.plot(ax=ax, label=\"Fitted\", color='C0')\n",
        "ax = y_pred_supply_sales.plot(ax=ax, label=\"Forecast\", color='C3')\n",
        "ax.legend();"
      ]
    },
    {
      "cell_type": "markdown",
      "id": "a50cf182",
      "metadata": {
        "papermill": {
          "duration": 0.050397,
          "end_time": "2022-12-06T21:39:20.314519",
          "exception": false,
          "start_time": "2022-12-06T21:39:20.264122",
          "status": "completed"
        },
        "tags": [],
        "id": "a50cf182"
      },
      "source": [
        "## Short Recap: What have we done up till this point?\n",
        "* found cyclic behaviour in deseasonalised data\n",
        "* created lag features based on (partial) autocorrelation\n",
        "* created feature based on leading indicator (onpromotion) and its lags/leads\n",
        "* combined them with time-dependence feature set to create one feature set\n",
        "* used a linear algorithm to make train and validate\n",
        "\n",
        "## Caveats:\n",
        "The above analysis focussed on **one family** and **average sales across all stores**. In reality, our submission would require us to have sales for each family at each store, across all families and stores. Hence, we need to take a generalised way to predicting the stores sales.\n",
        "\n",
        "## Next steps\n",
        "* Combine time and serial dependence (linear/non-linear) using hybrid models\n",
        "* Extend to all families of products\n",
        "* Include information about store numbers\n",
        "* Forecast lag features for test set"
      ]
    },
    {
      "cell_type": "markdown",
      "id": "ab207f81",
      "metadata": {
        "papermill": {
          "duration": 0.050994,
          "end_time": "2022-12-06T21:39:20.416018",
          "exception": false,
          "start_time": "2022-12-06T21:39:20.365024",
          "status": "completed"
        },
        "tags": [],
        "id": "ab207f81"
      },
      "source": [
        "## Temporary digression\n",
        "\n",
        "At this point we digress to do two things:\n",
        "* explore how we can build hybrid models to separately explore time and serial dependence\n",
        "\n",
        "For this next assumption, we are temporarily going to restrict ourselves to leading indicators (not its leads/lags) while modelling serial dependence and not include lag features. We will come back to this in the last segment where we make forecasts for machine learning following the tutorial [here](https://www.kaggle.com/code/ryanholbrook/forecasting-with-machine-learning)."
      ]
    },
    {
      "cell_type": "markdown",
      "id": "74b80afb",
      "metadata": {
        "papermill": {
          "duration": 0.051117,
          "end_time": "2022-12-06T21:39:20.519082",
          "exception": false,
          "start_time": "2022-12-06T21:39:20.467965",
          "status": "completed"
        },
        "tags": [],
        "id": "74b80afb"
      },
      "source": [
        "# Combining Time and Serial dependence: Hybrid Models"
      ]
    },
    {
      "cell_type": "markdown",
      "id": "cb73387e",
      "metadata": {
        "papermill": {
          "duration": 0.051574,
          "end_time": "2022-12-06T21:39:20.622027",
          "exception": false,
          "start_time": "2022-12-06T21:39:20.570453",
          "status": "completed"
        },
        "tags": [],
        "id": "cb73387e"
      },
      "source": [
        "An accurate prediction must incorporate accurate time-dependent and time-independent (serial-dependent) modelling. It often makes sense to break the predictions into two separate steps:\n",
        "* Step 1: where we model out the time-dependence through incorporating trends, seasonality and seasonal indicators like holidays\n",
        "* Step 2: look for serial dependence in the residuals\n",
        "\n",
        "Step 2 itself can be based on linear modelling (restricted to the calculation of partial autocorrelation functions) or non-linear through algorithms like XGBoost or KNeighbors. A nice outline of combining time and serial dependence modelling using residuals is provided [here](https://www.kaggle.com/code/ryanholbrook/hybrid-models/tutorial#Hybrid-Forecasting-with-Residuals). The basic schema includes:\n",
        "​\n",
        "```\n",
        "# 1. Train and predict with first model\n",
        "model_1.fit(X_train_1, y_train)\n",
        "y_pred_1 = model_1.predict(X_train)\n",
        "​\n",
        "# 2. Train and predict with second model on residuals\n",
        "model_2.fit(X_train_2, y_train - y_pred_1)\n",
        "y_pred_2 = model_2.predict(X_train_2)\n",
        "​\n",
        "# 3. Add to get overall predictions\n",
        "y_pred = y_pred_1 + y_pred_2\n",
        "```\n",
        "\n",
        "**The second model `model_2` that we apply on the residuals would determine whether we incorporate non-linear effects (using an algorithm like XGBoost) or restrict ourselves to linear effects (w/ an algorithm like LinearRegression) as above. For the hybrid model below, we use KNeighbors.**"
      ]
    },
    {
      "cell_type": "markdown",
      "id": "cd0f922d",
      "metadata": {
        "papermill": {
          "duration": 0.051767,
          "end_time": "2022-12-06T21:39:20.725784",
          "exception": false,
          "start_time": "2022-12-06T21:39:20.674017",
          "status": "completed"
        },
        "tags": [],
        "id": "cd0f922d"
      },
      "source": [
        "## Important assumptions in this section\n",
        "\n",
        "We have so far been following a pattern of building up our model one step at a time, and in that regard, each section has build on from the previous one. However, for this section, we are going to break from tradition in the following ways:\n",
        "* **For our serial-dependence features, we will only assume leading indicators, i.e., the 'onpromotion' column, and not make lag features.** We will come back to this in the last segment where we make forecasts for machine learning following the tutorial [here](https://www.kaggle.com/code/ryanholbrook/forecasting-with-machine-learning).\n",
        "* We will directly use a non-linear algorithm, KNeighbors for modeeling the serial dependence\n",
        "* The implementation of the hybrid model in this section also differs from the tutorial in that we **don't average out over store numbers, but retain them**, since we will need them for the submissions."
      ]
    },
    {
      "cell_type": "markdown",
      "id": "aa714997",
      "metadata": {
        "papermill": {
          "duration": 0.05153,
          "end_time": "2022-12-06T21:39:20.828583",
          "exception": false,
          "start_time": "2022-12-06T21:39:20.777053",
          "status": "completed"
        },
        "tags": [],
        "id": "aa714997"
      },
      "source": [
        "## Time-dependence\n",
        "\n",
        "We had spent some time exploring time-dependence earlier in this analysis and at the end of the section, stored our entire feature set as: 'X_time' and 'X_time_test'. We load them back here:"
      ]
    },
    {
      "cell_type": "code",
      "execution_count": null,
      "id": "0825e0c9",
      "metadata": {
        "execution": {
          "iopub.execute_input": "2022-12-06T21:39:20.933259Z",
          "iopub.status.busy": "2022-12-06T21:39:20.932942Z",
          "iopub.status.idle": "2022-12-06T21:39:21.145452Z",
          "shell.execute_reply": "2022-12-06T21:39:21.144515Z"
        },
        "papermill": {
          "duration": 0.267582,
          "end_time": "2022-12-06T21:39:21.147804",
          "exception": false,
          "start_time": "2022-12-06T21:39:20.880222",
          "status": "completed"
        },
        "tags": [],
        "id": "0825e0c9"
      },
      "outputs": [],
      "source": [
        "# X_1: Time-dependence features\n",
        "\n",
        "X_1 = X_time # training set time-features\n",
        "X_1_test = X_time_test # test set time-features\n",
        "\n",
        "# Splitting between training and validation sets\n",
        "\n",
        "X_1_train, X_1_valid, y_train, y_valid = train_test_split(X_1, y, test_size=15, shuffle=False)\n",
        "\n",
        "# Model 1: Ridge()\n",
        "\n",
        "model_1 = Ridge().fit(X_1_train, y_train)\n",
        "\n",
        "y_fit_1 = pd.DataFrame(model_1.predict(X_1_train), index=X_1_train.index, columns=y_train.columns).clip(0.0)\n",
        "y_pred_1 = pd.DataFrame(model_1.predict(X_1_valid), index=X_1_valid.index, columns=y_valid.columns).clip(0.0)\n",
        "\n",
        "rmsle_train = mean_squared_log_error(y_train, y_fit_1) ** 0.5\n",
        "rmsle_valid = mean_squared_log_error(y_valid, y_pred_1) ** 0.5\n",
        "print(f'Training RMSLE: {rmsle_train:.5f}')\n",
        "print(f'Validation RMSLE: {rmsle_valid:.5f}')"
      ]
    },
    {
      "cell_type": "markdown",
      "id": "421da241",
      "metadata": {
        "papermill": {
          "duration": 0.050159,
          "end_time": "2022-12-06T21:39:21.249376",
          "exception": false,
          "start_time": "2022-12-06T21:39:21.199217",
          "status": "completed"
        },
        "tags": [],
        "id": "421da241"
      },
      "source": [
        "**NOTE**: Throughout this section, we use the letters 1 and 2 to refer to steps 1 (time-dependence) and 2 (serial-dependence) above."
      ]
    },
    {
      "cell_type": "markdown",
      "id": "fc3a41b9",
      "metadata": {
        "papermill": {
          "duration": 0.050826,
          "end_time": "2022-12-06T21:39:21.351276",
          "exception": false,
          "start_time": "2022-12-06T21:39:21.300450",
          "status": "completed"
        },
        "tags": [],
        "id": "fc3a41b9"
      },
      "source": [
        "## Serial Dependence"
      ]
    },
    {
      "cell_type": "code",
      "execution_count": null,
      "id": "2f758186",
      "metadata": {
        "execution": {
          "iopub.execute_input": "2022-12-06T21:39:21.455983Z",
          "iopub.status.busy": "2022-12-06T21:39:21.455136Z",
          "iopub.status.idle": "2022-12-06T21:39:22.430375Z",
          "shell.execute_reply": "2022-12-06T21:39:22.429677Z"
        },
        "papermill": {
          "duration": 1.030442,
          "end_time": "2022-12-06T21:39:22.432816",
          "exception": false,
          "start_time": "2022-12-06T21:39:21.402374",
          "status": "completed"
        },
        "tags": [],
        "id": "2f758186"
      },
      "outputs": [],
      "source": [
        "# X_2: Features for serial dependence\n",
        "# onpromotion feature as a boolean variable\n",
        "X_2 = store_sales.unstack(['store_nbr', 'family']).loc[\"2017\"].loc[:, 'onpromotion']\n",
        "\n",
        "# Label encoding for seasonality\n",
        "X_2[\"day\"] = X_2.index.day  # values are day of the month\n",
        "\n",
        "# Splitting between training and validation sets\n",
        "X_2_train, X_2_valid, y_train, y_valid = train_test_split(X_2, y, test_size=15, shuffle=False)\n",
        "\n",
        "# Model 2: KNeighborsRegressor\n",
        "model_2 = KNeighborsRegressor().fit(X_2_train, y_train - y_fit_1)\n",
        "\n",
        "y_fit_2 = pd.DataFrame(model_2.predict(X_2_train), index=X_2_train.index, columns=y_train.columns).clip(0.0)\n",
        "y_pred_2 = pd.DataFrame(model_2.predict(X_2_valid), index=X_2_valid.index, columns=y_valid.columns).clip(0.0)\n",
        "\n",
        "y_fit = y_fit_1 + y_fit_2\n",
        "y_pred = y_pred_1 + y_pred_2\n",
        "\n",
        "rmsle_train = mean_squared_log_error(y_train, y_fit) ** 0.5\n",
        "rmsle_valid = mean_squared_log_error(y_valid, y_pred) ** 0.5\n",
        "print(f'Training RMSLE: {rmsle_train:.5f}')\n",
        "print(f'Validation RMSLE: {rmsle_valid:.5f}')"
      ]
    },
    {
      "cell_type": "code",
      "execution_count": null,
      "id": "4f7e2c8a",
      "metadata": {
        "execution": {
          "iopub.execute_input": "2022-12-06T21:39:22.573977Z",
          "iopub.status.busy": "2022-12-06T21:39:22.573636Z",
          "iopub.status.idle": "2022-12-06T21:39:24.144220Z",
          "shell.execute_reply": "2022-12-06T21:39:24.143466Z"
        },
        "papermill": {
          "duration": 1.63763,
          "end_time": "2022-12-06T21:39:24.146795",
          "exception": false,
          "start_time": "2022-12-06T21:39:22.509165",
          "status": "completed"
        },
        "tags": [],
        "id": "4f7e2c8a"
      },
      "outputs": [],
      "source": [
        "families = y.columns[0:6]\n",
        "axs = y.loc(axis=1)[families].plot(\n",
        "    subplots=True, sharex=True, figsize=(11, 9), **plot_params, alpha=0.5,\n",
        ")\n",
        "_ = y_fit.loc(axis=1)[families].plot(subplots=True, sharex=True, color='C0', ax=axs)\n",
        "_ = y_pred.loc(axis=1)[families].plot(subplots=True, sharex=True, color='C3', ax=axs)\n",
        "for ax, family in zip(axs, families):\n",
        "    ax.legend([])\n",
        "    ax.set_ylabel(family)"
      ]
    },
    {
      "cell_type": "markdown",
      "id": "cbb45ed8",
      "metadata": {
        "papermill": {
          "duration": 0.053881,
          "end_time": "2022-12-06T21:39:24.298955",
          "exception": false,
          "start_time": "2022-12-06T21:39:24.245074",
          "status": "completed"
        },
        "tags": [],
        "id": "cbb45ed8"
      },
      "source": [
        "## Making a BoostedHybrid class"
      ]
    },
    {
      "cell_type": "code",
      "execution_count": null,
      "id": "224bb88b",
      "metadata": {
        "execution": {
          "iopub.execute_input": "2022-12-06T21:39:24.411346Z",
          "iopub.status.busy": "2022-12-06T21:39:24.410859Z",
          "iopub.status.idle": "2022-12-06T21:39:24.418334Z",
          "shell.execute_reply": "2022-12-06T21:39:24.417783Z"
        },
        "papermill": {
          "duration": 0.06593,
          "end_time": "2022-12-06T21:39:24.420046",
          "exception": false,
          "start_time": "2022-12-06T21:39:24.354116",
          "status": "completed"
        },
        "tags": [],
        "id": "224bb88b"
      },
      "outputs": [],
      "source": [
        "class BoostedHybrid:\n",
        "    \n",
        "    def __init__(self, model_1, model_2):\n",
        "        self.model_1 = model_1\n",
        "        self.model_2 = model_2\n",
        "        self.y_columns = None  # store column names from fit method\n",
        "        \n",
        "def fit(self, X_1, X_2, y):\n",
        "    # Train model_1\n",
        "    self.model_1.fit(X_1, y)\n",
        "\n",
        "    # Make predictions\n",
        "    y_fit = pd.DataFrame(\n",
        "        self.model_1.predict(X_1), \n",
        "        index=X_1.index, columns=y.columns,\n",
        "    )\n",
        "\n",
        "    # Compute residuals\n",
        "    y_resid = y - y_fit\n",
        "\n",
        "    # Train model_2 on residuals\n",
        "    self.model_2.fit(X_2, y_resid)\n",
        "\n",
        "    # Save column names for predict method\n",
        "    self.y_columns = y.columns\n",
        "    # Save data for question checking\n",
        "    self.y_fit = y_fit\n",
        "    self.y_resid = y_resid\n",
        "\n",
        "\n",
        "# Add method to class\n",
        "BoostedHybrid.fit = fit\n",
        "\n",
        "def predict(self, X_1, X_2):\n",
        "    # Predict with model_1\n",
        "    y_pred = pd.DataFrame(\n",
        "        self.model_1.predict(X_1), \n",
        "        index=X_1.index, columns=self.y_columns,\n",
        "    )\n",
        "\n",
        "    # Add model_2 predictions to model_1 predictions\n",
        "    y_pred += self.model_2.predict(X_2)\n",
        "\n",
        "    return y_pred\n",
        "\n",
        "\n",
        "# Add method to class\n",
        "BoostedHybrid.predict = predict"
      ]
    },
    {
      "cell_type": "code",
      "execution_count": null,
      "id": "61f6e13d",
      "metadata": {
        "execution": {
          "iopub.execute_input": "2022-12-06T21:39:24.536189Z",
          "iopub.status.busy": "2022-12-06T21:39:24.535725Z",
          "iopub.status.idle": "2022-12-06T21:39:24.827991Z",
          "shell.execute_reply": "2022-12-06T21:39:24.827160Z"
        },
        "papermill": {
          "duration": 0.351817,
          "end_time": "2022-12-06T21:39:24.829902",
          "exception": false,
          "start_time": "2022-12-06T21:39:24.478085",
          "status": "completed"
        },
        "tags": [],
        "id": "61f6e13d"
      },
      "outputs": [],
      "source": [
        "model = BoostedHybrid(\n",
        "    model_1=Ridge(fit_intercept=False),\n",
        "    model_2=KNeighborsRegressor(),\n",
        ")\n",
        "\n",
        "model.fit(X_1_train, X_2_train, y_train)\n",
        "y_fit = model.predict(X_1_train, X_2_train).clip(0.0)\n",
        "y_pred = model.predict(X_1_valid, X_2_valid).clip(0.0)\n",
        "\n",
        "rmsle_train = mean_squared_log_error(y_train, y_fit) ** 0.5\n",
        "rmsle_valid = mean_squared_log_error(y_valid, y_pred) ** 0.5\n",
        "print(f'Training RMSLE: {rmsle_train:.5f}')\n",
        "print(f'Validation RMSLE: {rmsle_valid:.5f}')"
      ]
    },
    {
      "cell_type": "markdown",
      "id": "d10b39e3",
      "metadata": {
        "papermill": {
          "duration": 0.056785,
          "end_time": "2022-12-06T21:39:24.954249",
          "exception": false,
          "start_time": "2022-12-06T21:39:24.897464",
          "status": "completed"
        },
        "tags": [],
        "id": "d10b39e3"
      },
      "source": [
        "### Fourth Submission: BoostedHybrid using linear time-dependence + non-linear (leading-indicator-only) serial dependence"
      ]
    },
    {
      "cell_type": "code",
      "execution_count": null,
      "id": "273f1594",
      "metadata": {
        "execution": {
          "iopub.execute_input": "2022-12-06T21:39:25.069354Z",
          "iopub.status.busy": "2022-12-06T21:39:25.069061Z",
          "iopub.status.idle": "2022-12-06T21:39:25.493314Z",
          "shell.execute_reply": "2022-12-06T21:39:25.492477Z"
        },
        "papermill": {
          "duration": 0.483788,
          "end_time": "2022-12-06T21:39:25.495147",
          "exception": false,
          "start_time": "2022-12-06T21:39:25.011359",
          "status": "completed"
        },
        "tags": [],
        "id": "273f1594"
      },
      "outputs": [],
      "source": [
        "# X_1_test: Time-dependence features: test set\n",
        "\n",
        "# X_2_test: Serial-dependence features: test set\n",
        "X_2_test = df_test.unstack(['store_nbr', 'family']).loc[\"2017\"].loc[:, 'onpromotion']\n",
        "\n",
        "# Label encoding for seasonality\n",
        "X_2_test[\"day\"] = X_2_test.index.day  # values are day of the month\n",
        "\n",
        "# making submission predictions\n",
        "y_submit = model.predict(X_1_test, X_2_test).clip(0.0)\n",
        "y_submit = pd.DataFrame(y_submit.stack(['store_nbr', 'family']))#.rename('sales'))\n",
        "y_submit = y_submit.join(df_test.id).reindex(columns=['id', 'sales'])\n",
        "y_submit.to_csv('submission_hybrid.csv', index=False)\n",
        "y_submit"
      ]
    },
    {
      "cell_type": "markdown",
      "id": "1004d878",
      "metadata": {
        "papermill": {
          "duration": 0.058075,
          "end_time": "2022-12-06T21:39:25.608249",
          "exception": false,
          "start_time": "2022-12-06T21:39:25.550174",
          "status": "completed"
        },
        "tags": [],
        "id": "1004d878"
      },
      "source": [
        "### [Public Score: 0.59726](https://www.kaggle.com/code/abhirupghosh184098/ts-forecasting-a-beginner-s-handbook?scriptVersionId=112684473)\n",
        "\n",
        "The performance is actually marginally worse that using just time-dependence. This is not shocking. The only information we have added to time-dependence is promotion information and used it to model the entire residuals. However, the positive point is that we now have a hybrid model and we have extended it include store information as well in our predictions.\n",
        "\n",
        "We will now move onto our last section where we will:\n",
        "* create a complete X_2 feature set for all families and store numbers using a complete list of lag/lead features (+ leading indicators) + categorical day of week\n",
        "* create a X_2_test features to be able to forecast using these lag features\n",
        "* make one last prediction"
      ]
    },
    {
      "cell_type": "markdown",
      "id": "8d465e3d",
      "metadata": {
        "papermill": {
          "duration": 0.056198,
          "end_time": "2022-12-06T21:39:25.720601",
          "exception": false,
          "start_time": "2022-12-06T21:39:25.664403",
          "status": "completed"
        },
        "tags": [],
        "id": "8d465e3d"
      },
      "source": [
        "# Forecast using Machine Learning"
      ]
    },
    {
      "cell_type": "markdown",
      "id": "ebebb5d9",
      "metadata": {
        "papermill": {
          "duration": 0.055672,
          "end_time": "2022-12-06T21:39:25.831702",
          "exception": false,
          "start_time": "2022-12-06T21:39:25.776030",
          "status": "completed"
        },
        "tags": [],
        "id": "ebebb5d9"
      },
      "source": [
        "This last section of the analysis aims at bringing together all the concepts we have accummulated so far (modelling time-dependence through trends, seasonality and indicators, and serial dependence through lag series and leading indicators; exploring linear and non-linear effects in the data through a multi-staged residuals analysis, and so on) in making a forecast for the Grocery-sales dataset. This section derives heavily from two pieces of work:\n",
        "\n",
        "* Lessons [5](https://www.kaggle.com/code/ryanholbrook/hybrid-models) and [6](https://www.kaggle.com/code/ryanholbrook/forecasting-with-machine-learning) from Ryan Holbrook's [time series course](https://www.kaggle.com/learn/time-series).\n",
        "* [FilterJoe](https://www.kaggle.com/filterjoe)'s [(unofficial) Time Series Bonus Lesson](https://www.kaggle.com/code/filterjoe/time-series-bonus-lesson-unofficial)\n",
        "\n",
        "As [FilterJoe](https://www.kaggle.com/filterjoe) mentions at the very beginning of his notebook:\n",
        "\n",
        "> \"Implementing Time Series lessons 5 and 6 on the competition data set is hard, as many of you have discovered. So hard, that few of us have done it. A bonus lesson could be helpful. This is that bonus lesson.\"\n",
        "\n",
        "So a special shoutout to him for this valuable resource."
      ]
    },
    {
      "cell_type": "markdown",
      "id": "44f99ce4",
      "metadata": {
        "papermill": {
          "duration": 0.056385,
          "end_time": "2022-12-06T21:39:25.944039",
          "exception": false,
          "start_time": "2022-12-06T21:39:25.887654",
          "status": "completed"
        },
        "tags": [],
        "id": "44f99ce4"
      },
      "source": [
        "Also, by this point, this notebook is quite long, and it would make sense to do some of things we have done before again, just so that we don't need to keep referring back to them from earlier sections."
      ]
    },
    {
      "cell_type": "markdown",
      "id": "c8dff60d",
      "metadata": {
        "papermill": {
          "duration": 0.056852,
          "end_time": "2022-12-06T21:39:26.057756",
          "exception": false,
          "start_time": "2022-12-06T21:39:26.000904",
          "status": "completed"
        },
        "tags": [],
        "id": "c8dff60d"
      },
      "source": [
        "## Store sales data (again)"
      ]
    },
    {
      "cell_type": "code",
      "execution_count": null,
      "id": "5837deb6",
      "metadata": {
        "execution": {
          "iopub.execute_input": "2022-12-06T21:39:26.171197Z",
          "iopub.status.busy": "2022-12-06T21:39:26.170877Z",
          "iopub.status.idle": "2022-12-06T21:39:28.572609Z",
          "shell.execute_reply": "2022-12-06T21:39:28.571681Z"
        },
        "papermill": {
          "duration": 2.460417,
          "end_time": "2022-12-06T21:39:28.574699",
          "exception": false,
          "start_time": "2022-12-06T21:39:26.114282",
          "status": "completed"
        },
        "tags": [],
        "id": "5837deb6"
      },
      "outputs": [],
      "source": [
        "store_sales = pd.read_csv(\n",
        "    \"/content/drive/MyDrive/Formations/Openclassrooms/Projet8/train.csv\",\n",
        "    usecols=['store_nbr', 'family', 'date', 'sales', 'onpromotion'],\n",
        "    dtype={\n",
        "        'store_nbr': 'category',\n",
        "        'family': 'category',\n",
        "        'sales': 'float32',\n",
        "        'onpromotion': 'uint32', ## NEW FEATURE: To be introduced later\n",
        "    },\n",
        "    parse_dates=['date'],\n",
        "    infer_datetime_format=True,\n",
        ")\n",
        "store_sales['date'] = store_sales.date.dt.to_period('D')\n",
        "store_sales = store_sales.set_index(['store_nbr', 'family', 'date']).sort_index()"
      ]
    },
    {
      "cell_type": "code",
      "source": [],
      "metadata": {
        "id": "G5fLmlfkn1HE"
      },
      "id": "G5fLmlfkn1HE",
      "execution_count": null,
      "outputs": []
    },
    {
      "cell_type": "markdown",
      "id": "2cfca2bf",
      "metadata": {
        "papermill": {
          "duration": 0.055718,
          "end_time": "2022-12-06T21:39:28.686105",
          "exception": false,
          "start_time": "2022-12-06T21:39:28.630387",
          "status": "completed"
        },
        "tags": [],
        "id": "2cfca2bf"
      },
      "source": [
        "## Training/Validation Range (again)"
      ]
    },
    {
      "cell_type": "markdown",
      "id": "f39ddb70",
      "metadata": {
        "papermill": {
          "duration": 0.055895,
          "end_time": "2022-12-06T21:39:28.797824",
          "exception": false,
          "start_time": "2022-12-06T21:39:28.741929",
          "status": "completed"
        },
        "tags": [],
        "id": "f39ddb70"
      },
      "source": [
        "* Training range: 2017-01-01 -- 2017-07-31\n",
        "* Validation range: 2017-07-31 -- 2017-08-15\n",
        "* Test range: 2017-08-16 -- 2017-08-31"
      ]
    },
    {
      "cell_type": "code",
      "execution_count": null,
      "id": "ce9419de",
      "metadata": {
        "execution": {
          "iopub.execute_input": "2022-12-06T21:39:28.910882Z",
          "iopub.status.busy": "2022-12-06T21:39:28.910547Z",
          "iopub.status.idle": "2022-12-06T21:39:30.516055Z",
          "shell.execute_reply": "2022-12-06T21:39:30.514958Z"
        },
        "papermill": {
          "duration": 1.665234,
          "end_time": "2022-12-06T21:39:30.518319",
          "exception": false,
          "start_time": "2022-12-06T21:39:28.853085",
          "status": "completed"
        },
        "tags": [],
        "id": "ce9419de"
      },
      "outputs": [],
      "source": [
        "store_sales_train = store_sales.unstack(['store_nbr', 'family']).loc['2017':'2017-07-31']\n",
        "store_sales_valid = store_sales.unstack(['store_nbr', 'family']).loc['2017-08-01':]"
      ]
    },
    {
      "cell_type": "markdown",
      "id": "3675e5ee",
      "metadata": {
        "papermill": {
          "duration": 0.056271,
          "end_time": "2022-12-06T21:39:30.631713",
          "exception": false,
          "start_time": "2022-12-06T21:39:30.575442",
          "status": "completed"
        },
        "tags": [],
        "id": "3675e5ee"
      },
      "source": [
        "### Target: sales"
      ]
    },
    {
      "cell_type": "code",
      "execution_count": null,
      "id": "4c17c363",
      "metadata": {
        "execution": {
          "iopub.execute_input": "2022-12-06T21:39:30.746709Z",
          "iopub.status.busy": "2022-12-06T21:39:30.746390Z",
          "iopub.status.idle": "2022-12-06T21:39:30.756899Z",
          "shell.execute_reply": "2022-12-06T21:39:30.756243Z"
        },
        "papermill": {
          "duration": 0.070217,
          "end_time": "2022-12-06T21:39:30.758755",
          "exception": false,
          "start_time": "2022-12-06T21:39:30.688538",
          "status": "completed"
        },
        "tags": [],
        "id": "4c17c363"
      },
      "outputs": [],
      "source": [
        "y_train = store_sales_train.loc[:, 'sales']\n",
        "y_val = store_sales_valid.loc[:, 'sales']"
      ]
    },
    {
      "cell_type": "markdown",
      "id": "93788369",
      "metadata": {
        "papermill": {
          "duration": 0.05607,
          "end_time": "2022-12-06T21:39:30.870980",
          "exception": false,
          "start_time": "2022-12-06T21:39:30.814910",
          "status": "completed"
        },
        "tags": [],
        "id": "93788369"
      },
      "source": [
        "## Hybrid model (again)"
      ]
    },
    {
      "cell_type": "code",
      "execution_count": null,
      "id": "edd5f9e5",
      "metadata": {
        "execution": {
          "iopub.execute_input": "2022-12-06T21:39:30.985655Z",
          "iopub.status.busy": "2022-12-06T21:39:30.985051Z",
          "iopub.status.idle": "2022-12-06T21:39:30.994307Z",
          "shell.execute_reply": "2022-12-06T21:39:30.993554Z"
        },
        "papermill": {
          "duration": 0.069226,
          "end_time": "2022-12-06T21:39:30.996392",
          "exception": false,
          "start_time": "2022-12-06T21:39:30.927166",
          "status": "completed"
        },
        "tags": [],
        "id": "edd5f9e5"
      },
      "outputs": [],
      "source": [
        "# Credit: https://www.kaggle.com/code/filterjoe/time-series-bonus-lesson-unofficial\n",
        "\n",
        "class BoostedHybrid:\n",
        "    def __init__(self, model_1, model_2):\n",
        "        self.model_1 = model_1\n",
        "        self.model_2 = model_2\n",
        "        self.y_columns = None\n",
        "        self.stack_cols = None\n",
        "        self.y_resid = None\n",
        "\n",
        "    def fit1(self, X_1, y, stack_cols=None):\n",
        "        self.model_1.fit(X_1, y) # train model 1\n",
        "        y_fit = pd.DataFrame(\n",
        "            self.model_1.predict(X_1), # predict from model 1\n",
        "            index=X_1.index,\n",
        "            columns=y.columns,\n",
        "        )\n",
        "        self.y_resid = y - y_fit # residuals from model 1, which X2 may want to access to create lag (or other) features\n",
        "        self.y_resid = self.y_resid.stack(stack_cols).squeeze()  # wide to long\n",
        "        \n",
        "    def fit2(self, X_2, first_n_rows_to_ignore, stack_cols=None):\n",
        "        self.model_2.fit(X_2.iloc[first_n_rows_to_ignore*1782: , :], self.y_resid.iloc[first_n_rows_to_ignore*1782:]) # Train model_2\n",
        "        self.y_columns = y.columns # Save for predict method\n",
        "        self.stack_cols = stack_cols # Save for predict method\n",
        "\n",
        "    def predict(self, X_1, X_2, first_n_rows_to_ignore):\n",
        "        y_pred = pd.DataFrame(\n",
        "            self.model_1.predict(X_1.iloc[first_n_rows_to_ignore: , :]),\n",
        "            index=X_1.iloc[first_n_rows_to_ignore: , :].index,\n",
        "            columns=self.y_columns,\n",
        "        )\n",
        "        y_pred = y_pred.stack(self.stack_cols).squeeze()  # wide to long\n",
        "#         display(X_2.iloc[first_n_rows_to_ignore*1782: , :]) # uncomment when debugging\n",
        "        y_pred += self.model_2.predict(X_2.iloc[first_n_rows_to_ignore*1782: , :]) # Add model_2 predictions to model_1 predictions\n",
        "        return y_pred.unstack(self.stack_cols)"
      ]
    },
    {
      "cell_type": "markdown",
      "id": "cd4a1fac",
      "metadata": {
        "papermill": {
          "duration": 0.055936,
          "end_time": "2022-12-06T21:39:31.108912",
          "exception": false,
          "start_time": "2022-12-06T21:39:31.052976",
          "status": "completed"
        },
        "tags": [],
        "id": "cd4a1fac"
      },
      "source": [
        "### Defining our models"
      ]
    },
    {
      "cell_type": "code",
      "execution_count": null,
      "id": "8a1dc06e",
      "metadata": {
        "execution": {
          "iopub.execute_input": "2022-12-06T21:39:31.223582Z",
          "iopub.status.busy": "2022-12-06T21:39:31.222963Z",
          "iopub.status.idle": "2022-12-06T21:39:31.227357Z",
          "shell.execute_reply": "2022-12-06T21:39:31.226793Z"
        },
        "papermill": {
          "duration": 0.064215,
          "end_time": "2022-12-06T21:39:31.229147",
          "exception": false,
          "start_time": "2022-12-06T21:39:31.164932",
          "status": "completed"
        },
        "tags": [],
        "id": "8a1dc06e"
      },
      "outputs": [],
      "source": [
        "mod_1 = LinearRegression() # for time-dependence\n",
        "mod_2 = XGBRegressor() # for serial-dependence\n",
        "\n",
        "model = BoostedHybrid(model_1=mod_1, model_2=mod_2)"
      ]
    },
    {
      "cell_type": "markdown",
      "id": "1e9f56cf",
      "metadata": {
        "papermill": {
          "duration": 0.056132,
          "end_time": "2022-12-06T21:39:31.341039",
          "exception": false,
          "start_time": "2022-12-06T21:39:31.284907",
          "status": "completed"
        },
        "tags": [],
        "id": "1e9f56cf"
      },
      "source": [
        "## Time-dependence (again)"
      ]
    },
    {
      "cell_type": "markdown",
      "id": "2274c1bb",
      "metadata": {
        "papermill": {
          "duration": 0.05528,
          "end_time": "2022-12-06T21:39:31.452214",
          "exception": false,
          "start_time": "2022-12-06T21:39:31.396934",
          "status": "completed"
        },
        "tags": [],
        "id": "2274c1bb"
      },
      "source": [
        "### Creating X_1_train features"
      ]
    },
    {
      "cell_type": "code",
      "execution_count": null,
      "id": "50bacf04",
      "metadata": {
        "execution": {
          "iopub.execute_input": "2022-12-06T21:39:31.564565Z",
          "iopub.status.busy": "2022-12-06T21:39:31.564213Z",
          "iopub.status.idle": "2022-12-06T21:39:31.578427Z",
          "shell.execute_reply": "2022-12-06T21:39:31.577841Z"
        },
        "papermill": {
          "duration": 0.07223,
          "end_time": "2022-12-06T21:39:31.580145",
          "exception": false,
          "start_time": "2022-12-06T21:39:31.507915",
          "status": "completed"
        },
        "tags": [],
        "id": "50bacf04"
      },
      "outputs": [],
      "source": [
        "# Trends/Seasonality\n",
        "# Fourier features\n",
        "fourier = CalendarFourier(freq='M', order=4) ## 2 pairs of sine/cosine curves to model monthly/biweekly seasonality\n",
        "dp = DeterministicProcess(\n",
        "    index=y_train.index,\n",
        "    constant=True,               # dummy feature for bias (y-intercept)\n",
        "    order=1,                     # cubic trend\n",
        "    seasonal=True,               # weekly seasonality (indicators)\n",
        "    additional_terms=[fourier],  # annual seasonality (fourier)\n",
        "    drop=True,                   # drop terms to avoid collinearity\n",
        ")\n",
        "\n",
        "X_1_train = dp.in_sample()\n",
        "\n",
        "# Seasonal indicators: Holidays\n",
        "X_1_train = X_1_train.join(X_holidays, on='date').fillna(0.0)"
      ]
    },
    {
      "cell_type": "markdown",
      "id": "f656190b",
      "metadata": {
        "papermill": {
          "duration": 0.055656,
          "end_time": "2022-12-06T21:39:31.691499",
          "exception": false,
          "start_time": "2022-12-06T21:39:31.635843",
          "status": "completed"
        },
        "tags": [],
        "id": "f656190b"
      },
      "source": [
        "### Training time-dependence with X_1_train features"
      ]
    },
    {
      "cell_type": "code",
      "execution_count": null,
      "id": "f23154d1",
      "metadata": {
        "execution": {
          "iopub.execute_input": "2022-12-06T21:39:31.803120Z",
          "iopub.status.busy": "2022-12-06T21:39:31.802571Z",
          "iopub.status.idle": "2022-12-06T21:39:31.913032Z",
          "shell.execute_reply": "2022-12-06T21:39:31.912220Z"
        },
        "papermill": {
          "duration": 0.168589,
          "end_time": "2022-12-06T21:39:31.915279",
          "exception": false,
          "start_time": "2022-12-06T21:39:31.746690",
          "status": "completed"
        },
        "tags": [],
        "id": "f23154d1"
      },
      "outputs": [],
      "source": [
        "model.fit1(X_1_train, y_train, stack_cols=['store_nbr', 'family'])"
      ]
    },
    {
      "cell_type": "markdown",
      "id": "fafdaeb1",
      "metadata": {
        "papermill": {
          "duration": 0.057684,
          "end_time": "2022-12-06T21:39:32.055613",
          "exception": false,
          "start_time": "2022-12-06T21:39:31.997929",
          "status": "completed"
        },
        "tags": [],
        "id": "fafdaeb1"
      },
      "source": [
        "## Complete X_2_train (serial dependence features)"
      ]
    },
    {
      "cell_type": "markdown",
      "id": "c2885d36",
      "metadata": {
        "papermill": {
          "duration": 0.054733,
          "end_time": "2022-12-06T21:39:32.169480",
          "exception": false,
          "start_time": "2022-12-06T21:39:32.114747",
          "status": "completed"
        },
        "tags": [],
        "id": "c2885d36"
      },
      "source": [
        "### Creating features for leading indicator: 'onpromotion'"
      ]
    },
    {
      "cell_type": "markdown",
      "id": "bdaa243a",
      "metadata": {
        "papermill": {
          "duration": 0.054741,
          "end_time": "2022-12-06T21:39:32.279671",
          "exception": false,
          "start_time": "2022-12-06T21:39:32.224930",
          "status": "completed"
        },
        "tags": [],
        "id": "bdaa243a"
      },
      "source": [
        "As we had noted earlier, the information already provided to us to anticipate and predict cycles is the **leading indicator 'onpromotion'**. Hence, we start with isolating that information."
      ]
    },
    {
      "cell_type": "code",
      "execution_count": null,
      "id": "290af128",
      "metadata": {
        "execution": {
          "iopub.execute_input": "2022-12-06T21:39:32.390846Z",
          "iopub.status.busy": "2022-12-06T21:39:32.390538Z",
          "iopub.status.idle": "2022-12-06T21:39:32.477443Z",
          "shell.execute_reply": "2022-12-06T21:39:32.476466Z"
        },
        "papermill": {
          "duration": 0.144914,
          "end_time": "2022-12-06T21:39:32.479265",
          "exception": false,
          "start_time": "2022-12-06T21:39:32.334351",
          "status": "completed"
        },
        "tags": [],
        "id": "290af128"
      },
      "outputs": [],
      "source": [
        "on_promotions = store_sales_train.drop('sales', axis=1).stack(['store_nbr', 'family'])\n",
        "on_promotions"
      ]
    },
    {
      "cell_type": "code",
      "execution_count": null,
      "id": "66bee58b",
      "metadata": {
        "execution": {
          "iopub.execute_input": "2022-12-06T21:39:32.592543Z",
          "iopub.status.busy": "2022-12-06T21:39:32.592174Z",
          "iopub.status.idle": "2022-12-06T21:39:32.599089Z",
          "shell.execute_reply": "2022-12-06T21:39:32.598239Z"
        },
        "papermill": {
          "duration": 0.065674,
          "end_time": "2022-12-06T21:39:32.600740",
          "exception": false,
          "start_time": "2022-12-06T21:39:32.535066",
          "status": "completed"
        },
        "tags": [],
        "id": "66bee58b"
      },
      "outputs": [],
      "source": [
        "# Source: https://www.kaggle.com/code/filterjoe/time-series-bonus-lesson-unofficial\n",
        "\n",
        "# create feature set X2 for hybrid model 2, including helper functions\n",
        "\n",
        "# as lesson 5 suggests, X2 features can be anything,\n",
        "# allowing an algorithm weak on trends but strong on detecting relationships among variables\n",
        "# to further refine the modeling and forecasting\n",
        "\n",
        "def encode_categoricals(df, columns):\n",
        "    le = LabelEncoder()  # from sklearn.preprocessing\n",
        "    for col in columns:\n",
        "        df[col] = le.fit_transform(df[col])\n",
        "    return df\n",
        "\n",
        "def make_X2_lags(ts, lags, lead_time=1, name='y', stack_cols=None):\n",
        "    ts = ts.unstack(stack_cols)\n",
        "    df = pd.concat(\n",
        "        {\n",
        "            f'{name}_lag_{i}': ts.shift(i, freq=\"D\") # freq adds i extra day(s) to end: only one extra day is needed so rest will be dropped\n",
        "            for i in range(lead_time, lags + lead_time)\n",
        "        },\n",
        "        axis=1)\n",
        "    df = df.stack(stack_cols).reset_index()\n",
        "    df = encode_categoricals(df, stack_cols)\n",
        "    df = df.set_index('date').sort_values(by=stack_cols) # return sorted so can correctly compute rolling means (if desired)\n",
        "    return df"
      ]
    },
    {
      "cell_type": "code",
      "execution_count": null,
      "id": "5929bc85",
      "metadata": {
        "execution": {
          "iopub.execute_input": "2022-12-06T21:39:32.714524Z",
          "iopub.status.busy": "2022-12-06T21:39:32.713778Z",
          "iopub.status.idle": "2022-12-06T21:39:33.425008Z",
          "shell.execute_reply": "2022-12-06T21:39:33.424186Z"
        },
        "papermill": {
          "duration": 0.769666,
          "end_time": "2022-12-06T21:39:33.426746",
          "exception": false,
          "start_time": "2022-12-06T21:39:32.657080",
          "status": "completed"
        },
        "tags": [],
        "id": "5929bc85"
      },
      "outputs": [],
      "source": [
        "# Source: https://www.kaggle.com/code/filterjoe/time-series-bonus-lesson-unofficial\n",
        "\n",
        "# promo_lag features\n",
        "shifted_promo_df = make_X2_lags(on_promotions.squeeze(), lags=2, name='promo', stack_cols=['store_nbr', 'family'])\n",
        "shifted_promo_df['promo_mean_rolling_7'] = shifted_promo_df['promo_lag_1'].rolling(window=7, center=False).mean()\n",
        "shifted_promo_df['promo_median_rolling_91'] = shifted_promo_df['promo_lag_1'].rolling(window=91, center=False).median().fillna(method='bfill')\n",
        "shifted_promo_df['promo_median_rolling_162'] = shifted_promo_df['promo_lag_1'].rolling(window=162, center=False).median().fillna(method='bfill')\n",
        "# for rolling window medians, backfilling seems reasonable as medians shouldn't change too much. Trying min_periods produced wacky (buggy?) results\n",
        "shifted_promo_df"
      ]
    },
    {
      "cell_type": "markdown",
      "id": "5c135323",
      "metadata": {
        "papermill": {
          "duration": 0.054321,
          "end_time": "2022-12-06T21:39:33.536304",
          "exception": false,
          "start_time": "2022-12-06T21:39:33.481983",
          "status": "completed"
        },
        "tags": [],
        "id": "5c135323"
      },
      "source": [
        "### Creating features for lag series"
      ]
    },
    {
      "cell_type": "markdown",
      "id": "be4e3351",
      "metadata": {
        "papermill": {
          "duration": 0.054754,
          "end_time": "2022-12-06T21:39:33.646218",
          "exception": false,
          "start_time": "2022-12-06T21:39:33.591464",
          "status": "completed"
        },
        "tags": [],
        "id": "be4e3351"
      },
      "source": [
        "For this, we need the residuals. This is because, when we explore serial dependence, we first factor out time-dependence and look for non-linear effects in the residuals."
      ]
    },
    {
      "cell_type": "code",
      "execution_count": null,
      "id": "592616a9",
      "metadata": {
        "execution": {
          "iopub.execute_input": "2022-12-06T21:39:33.758712Z",
          "iopub.status.busy": "2022-12-06T21:39:33.757939Z",
          "iopub.status.idle": "2022-12-06T21:39:33.770755Z",
          "shell.execute_reply": "2022-12-06T21:39:33.769955Z"
        },
        "papermill": {
          "duration": 0.071296,
          "end_time": "2022-12-06T21:39:33.772501",
          "exception": false,
          "start_time": "2022-12-06T21:39:33.701205",
          "status": "completed"
        },
        "tags": [],
        "id": "592616a9"
      },
      "outputs": [],
      "source": [
        "y_resid_1 = model.y_resid\n",
        "y_resid_1"
      ]
    },
    {
      "cell_type": "code",
      "execution_count": null,
      "id": "fadeffc2",
      "metadata": {
        "execution": {
          "iopub.execute_input": "2022-12-06T21:39:33.887075Z",
          "iopub.status.busy": "2022-12-06T21:39:33.886770Z",
          "iopub.status.idle": "2022-12-06T21:39:34.638679Z",
          "shell.execute_reply": "2022-12-06T21:39:34.637454Z"
        },
        "papermill": {
          "duration": 0.811524,
          "end_time": "2022-12-06T21:39:34.640565",
          "exception": false,
          "start_time": "2022-12-06T21:39:33.829041",
          "status": "completed"
        },
        "tags": [],
        "id": "fadeffc2"
      },
      "outputs": [],
      "source": [
        "# Source: https://www.kaggle.com/code/filterjoe/time-series-bonus-lesson-unofficial\n",
        "\n",
        "# y_lag features\n",
        "shifted_y_df = make_X2_lags(y_resid_1, lags=2, name='y_res', stack_cols=['store_nbr', 'family'])\n",
        "shifted_y_df['y_mean_rolling_7'] = shifted_y_df['y_res_lag_1'].rolling(window=7, center=False).mean()\n",
        "shifted_y_df['y_mean_rolling_14'] = shifted_y_df['y_res_lag_1'].rolling(window=14, center=False).mean()\n",
        "shifted_y_df['y_mean_rolling_28'] = shifted_y_df['y_res_lag_1'].rolling(window=28, center=False).mean()\n",
        "shifted_y_df['y_median_rolling_91'] = shifted_y_df['y_res_lag_1'].rolling(window=91, center=False).median().fillna(method='bfill')\n",
        "shifted_y_df['y_median_rolling_162'] = shifted_y_df['y_res_lag_1'].rolling(window=162, center=False).median().fillna(method='bfill')\n",
        "shifted_y_df"
      ]
    },
    {
      "cell_type": "markdown",
      "id": "adb829fd",
      "metadata": {
        "papermill": {
          "duration": 0.05712,
          "end_time": "2022-12-06T21:39:34.755960",
          "exception": false,
          "start_time": "2022-12-06T21:39:34.698840",
          "status": "completed"
        },
        "tags": [],
        "id": "adb829fd"
      },
      "source": [
        "### Other Features"
      ]
    },
    {
      "cell_type": "code",
      "execution_count": null,
      "id": "83927ca5",
      "metadata": {
        "execution": {
          "iopub.execute_input": "2022-12-06T21:39:34.872969Z",
          "iopub.status.busy": "2022-12-06T21:39:34.872640Z",
          "iopub.status.idle": "2022-12-06T21:39:35.188445Z",
          "shell.execute_reply": "2022-12-06T21:39:35.187888Z"
        },
        "papermill": {
          "duration": 0.376445,
          "end_time": "2022-12-06T21:39:35.190159",
          "exception": false,
          "start_time": "2022-12-06T21:39:34.813714",
          "status": "completed"
        },
        "tags": [],
        "id": "83927ca5"
      },
      "outputs": [],
      "source": [
        "# Source: https://www.kaggle.com/code/filterjoe/time-series-bonus-lesson-unofficial\n",
        "\n",
        "X_2_train = encode_categoricals(on_promotions.reset_index(['store_nbr', 'family']),columns=['store_nbr', 'family'])\n",
        "X_2_train[\"day_of_w\"] = X_2_train.index.dayofweek # does absolutely nothing alone\n",
        "X_2_train = encode_categoricals(X_2_train, [\"day_of_w\"])\n",
        "X_2_train['wage_day'] = (X_2_train.index.day == X_2_train.index.daysinmonth) | (X_2_train.index.day == 15) # is it bad to have this in both X1 AND X2?\n",
        "X_2_train['wage_day_lag_1'] = (X_2_train.index.day == 1) | (X_2_train.index.day == 16)\n",
        "X_2_train['promo_mean'] = X_2_train.groupby(['store_nbr', 'family'])['onpromotion'].transform(\"mean\") + 0.000001\n",
        "X_2_train['promo_ratio'] = X_2_train.onpromotion / (X_2_train.groupby(['store_nbr', 'family'])['onpromotion'].transform(\"mean\") + 0.000001)\n",
        "X_2_train"
      ]
    },
    {
      "cell_type": "markdown",
      "id": "64a5df70",
      "metadata": {
        "papermill": {
          "duration": 0.056402,
          "end_time": "2022-12-06T21:39:35.305109",
          "exception": false,
          "start_time": "2022-12-06T21:39:35.248707",
          "status": "completed"
        },
        "tags": [],
        "id": "64a5df70"
      },
      "source": [
        "### Combining the feature sets to form one serial-dependence feature set"
      ]
    },
    {
      "cell_type": "code",
      "execution_count": null,
      "id": "8f435fac",
      "metadata": {
        "execution": {
          "iopub.execute_input": "2022-12-06T21:39:35.421205Z",
          "iopub.status.busy": "2022-12-06T21:39:35.420632Z",
          "iopub.status.idle": "2022-12-06T21:39:35.647797Z",
          "shell.execute_reply": "2022-12-06T21:39:35.647042Z"
        },
        "papermill": {
          "duration": 0.287881,
          "end_time": "2022-12-06T21:39:35.650167",
          "exception": false,
          "start_time": "2022-12-06T21:39:35.362286",
          "status": "completed"
        },
        "tags": [],
        "id": "8f435fac"
      },
      "outputs": [],
      "source": [
        "# Source: https://www.kaggle.com/code/filterjoe/time-series-bonus-lesson-unofficial\n",
        "\n",
        "X_2_train = X_2_train.merge(shifted_y_df, on=['date', 'store_nbr', 'family'], how='left')\n",
        "X_2_train = X_2_train.merge(shifted_promo_df, on=['date', 'store_nbr', 'family'], how='left') # merges work if they are last line before return\n",
        "X_2_train"
      ]
    },
    {
      "cell_type": "markdown",
      "id": "3219d6f4",
      "metadata": {
        "papermill": {
          "duration": 0.062753,
          "end_time": "2022-12-06T21:39:35.773983",
          "exception": false,
          "start_time": "2022-12-06T21:39:35.711230",
          "status": "completed"
        },
        "tags": [],
        "id": "3219d6f4"
      },
      "source": [
        "Before moving on, we make a function to make the X_2 features, just like [here](https://www.kaggle.com/code/filterjoe/time-series-bonus-lesson-unofficial#Creating-X2-Features)."
      ]
    },
    {
      "cell_type": "code",
      "execution_count": null,
      "id": "428cc4df",
      "metadata": {
        "execution": {
          "iopub.execute_input": "2022-12-06T21:39:35.894895Z",
          "iopub.status.busy": "2022-12-06T21:39:35.894114Z",
          "iopub.status.idle": "2022-12-06T21:39:37.896038Z",
          "shell.execute_reply": "2022-12-06T21:39:37.894890Z"
        },
        "papermill": {
          "duration": 2.065163,
          "end_time": "2022-12-06T21:39:37.898515",
          "exception": false,
          "start_time": "2022-12-06T21:39:35.833352",
          "status": "completed"
        },
        "tags": [],
        "id": "428cc4df"
      },
      "outputs": [],
      "source": [
        "def make_X2_features(df, y_resid):\n",
        "    stack_columns = ['store_nbr', 'family']\n",
        "    \n",
        "    # promo_lag features\n",
        "    shifted_promo_df = make_X2_lags(df.squeeze(), lags=2, name='promo', stack_cols=['store_nbr', 'family'])\n",
        "    shifted_promo_df['promo_mean_rolling_7'] = shifted_promo_df['promo_lag_1'].rolling(window=7, center=False).mean()\n",
        "    shifted_promo_df['promo_median_rolling_91'] = shifted_promo_df['promo_lag_1'].rolling(window=91, center=False).median().fillna(method='bfill')\n",
        "    shifted_promo_df['promo_median_rolling_162'] = shifted_promo_df['promo_lag_1'].rolling(window=162, center=False).median().fillna(method='bfill')\n",
        "    # for rolling window medians, backfilling seems reasonable as medians shouldn't change too much. Trying min_periods produced wacky (buggy?) results\n",
        "    \n",
        "    # y_lag features\n",
        "    shifted_y_df = make_X2_lags(y_resid, lags=2, name='y_res', stack_cols=stack_columns)\n",
        "    shifted_y_df['y_mean_rolling_7'] = shifted_y_df['y_res_lag_1'].rolling(window=7, center=False).mean()\n",
        "    shifted_y_df['y_median_rolling_91'] = shifted_y_df['y_res_lag_1'].rolling(window=91, center=False).median().fillna(method='bfill')\n",
        "    shifted_y_df['y_median_rolling_162'] = shifted_y_df['y_res_lag_1'].rolling(window=162, center=False).median().fillna(method='bfill')\n",
        "    \n",
        "    # other features\n",
        "    df = df.reset_index(stack_columns)\n",
        "    X2 = encode_categoricals(df, stack_columns)\n",
        "    \n",
        "    X2[\"day_of_w\"] = X2.index.dayofweek # does absolutely nothing alone\n",
        "    X2 = encode_categoricals(df, ['day_of_w'])\n",
        "    \n",
        "    X2['wage_day'] = (X2.index.day == X2.index.daysinmonth) | (X2.index.day == 15) # is it bad to have this in both X1 AND X2?\n",
        "    X2['wage_day_lag_1'] = (X2.index.day == 1) | (X2.index.day == 16)\n",
        "    X2['promo_mean'] = X2.groupby(['store_nbr', 'family'])['onpromotion'].transform(\"mean\") + 0.000001\n",
        "    X2['promo_ratio'] = X2.onpromotion / (X2.groupby(['store_nbr', 'family'])['onpromotion'].transform(\"mean\") + 0.000001)\n",
        "\n",
        "    # combing into one feature set\n",
        "    X2 = X2.merge(shifted_y_df, on=['date', 'store_nbr', 'family'], how='left')\n",
        "    X2 = X2.merge(shifted_promo_df, on=['date', 'store_nbr', 'family'], how='left') # merges work if they are last line before return\n",
        "    return X2\n",
        "\n",
        "X_2_train = make_X2_features(store_sales_train\n",
        "                           .drop('sales', axis=1)\n",
        "                           .stack(['store_nbr', 'family']),\n",
        "                           model.y_resid)\n",
        "\n",
        "X_2_train"
      ]
    },
    {
      "cell_type": "markdown",
      "id": "4eb8b509",
      "metadata": {
        "papermill": {
          "duration": 0.057422,
          "end_time": "2022-12-06T21:39:38.014092",
          "exception": false,
          "start_time": "2022-12-06T21:39:37.956670",
          "status": "completed"
        },
        "tags": [],
        "id": "4eb8b509"
      },
      "source": [
        "## Modelling serial-dependence"
      ]
    },
    {
      "cell_type": "markdown",
      "id": "2e497489",
      "metadata": {
        "papermill": {
          "duration": 0.058142,
          "end_time": "2022-12-06T21:39:38.131302",
          "exception": false,
          "start_time": "2022-12-06T21:39:38.073160",
          "status": "completed"
        },
        "tags": [],
        "id": "2e497489"
      },
      "source": [
        "Since we compute rolling (trailing) 7 day means based on lag_1, the first entry in time series is NaN. But since the next 6 are means based on <7 days, so the first 7 rows of the time series become NaNs, and hence need to be dropped. Consequently, we define a variable `max_lag = 7` to drop the first 7 rows."
      ]
    },
    {
      "cell_type": "code",
      "execution_count": null,
      "id": "42e7d2cf",
      "metadata": {
        "execution": {
          "iopub.execute_input": "2022-12-06T21:39:38.249280Z",
          "iopub.status.busy": "2022-12-06T21:39:38.248713Z",
          "iopub.status.idle": "2022-12-06T21:39:38.252460Z",
          "shell.execute_reply": "2022-12-06T21:39:38.251886Z"
        },
        "papermill": {
          "duration": 0.065099,
          "end_time": "2022-12-06T21:39:38.254264",
          "exception": false,
          "start_time": "2022-12-06T21:39:38.189165",
          "status": "completed"
        },
        "tags": [],
        "id": "42e7d2cf"
      },
      "outputs": [],
      "source": [
        "max_lag = 7"
      ]
    },
    {
      "cell_type": "code",
      "execution_count": null,
      "id": "53560c2f",
      "metadata": {
        "execution": {
          "iopub.execute_input": "2022-12-06T21:39:38.372414Z",
          "iopub.status.busy": "2022-12-06T21:39:38.372088Z",
          "iopub.status.idle": "2022-12-06T21:40:01.612343Z",
          "shell.execute_reply": "2022-12-06T21:40:01.611686Z"
        },
        "papermill": {
          "duration": 23.301931,
          "end_time": "2022-12-06T21:40:01.614334",
          "exception": false,
          "start_time": "2022-12-06T21:39:38.312403",
          "status": "completed"
        },
        "tags": [],
        "id": "53560c2f"
      },
      "outputs": [],
      "source": [
        "model.fit2(X_2_train, max_lag, stack_cols=['store_nbr', 'family'])"
      ]
    },
    {
      "cell_type": "code",
      "execution_count": null,
      "id": "7a20c6db",
      "metadata": {
        "execution": {
          "iopub.execute_input": "2022-12-06T21:40:01.730223Z",
          "iopub.status.busy": "2022-12-06T21:40:01.729243Z",
          "iopub.status.idle": "2022-12-06T21:40:02.573457Z",
          "shell.execute_reply": "2022-12-06T21:40:02.572826Z"
        },
        "papermill": {
          "duration": 0.903896,
          "end_time": "2022-12-06T21:40:02.575547",
          "exception": false,
          "start_time": "2022-12-06T21:40:01.671651",
          "status": "completed"
        },
        "tags": [],
        "id": "7a20c6db"
      },
      "outputs": [],
      "source": [
        "y_fit = model.predict(X_1_train, X_2_train, max_lag).clip(0.0)"
      ]
    },
    {
      "cell_type": "code",
      "execution_count": null,
      "id": "15e8f477",
      "metadata": {
        "execution": {
          "iopub.execute_input": "2022-12-06T21:40:02.741863Z",
          "iopub.status.busy": "2022-12-06T21:40:02.741320Z",
          "iopub.status.idle": "2022-12-06T21:40:02.780533Z",
          "shell.execute_reply": "2022-12-06T21:40:02.779910Z"
        },
        "papermill": {
          "duration": 0.10087,
          "end_time": "2022-12-06T21:40:02.782330",
          "exception": false,
          "start_time": "2022-12-06T21:40:02.681460",
          "status": "completed"
        },
        "tags": [],
        "id": "15e8f477"
      },
      "outputs": [],
      "source": [
        "rmsle_train = mean_squared_log_error(y_train.iloc[7:], y_fit) ** 0.5\n",
        "print(f'Training RMSLE: {rmsle_train:.5f}')"
      ]
    },
    {
      "cell_type": "markdown",
      "id": "a65a40cc",
      "metadata": {
        "papermill": {
          "duration": 0.057837,
          "end_time": "2022-12-06T21:40:02.899020",
          "exception": false,
          "start_time": "2022-12-06T21:40:02.841183",
          "status": "completed"
        },
        "tags": [],
        "id": "a65a40cc"
      },
      "source": [
        "## Preparing data for forecasting\n",
        "\n",
        "Unlike the previous submission steps, I have turned this one into a section of its own. This is because the data preparation for forecasting using serial dependence is distinctly different and more challenging than when we were using deterministic features like trends and seasonality to make predictions for the out-of-training-range test set dates.\n",
        "\n",
        "As highlighted in the [tutorial](https://www.kaggle.com/code/ryanholbrook/forecasting-with-machine-learning), we could easily create forecasts for any time in the future by just generating our desired trend and seasonal features. However, when we added lag features, the nature of the problem changed. Lag features require that the lagged target value is known at the time being forecast. A lag 1 feature shifts the time series forward 1 step, which means you could forecast 1 step into the future but not 2 steps."
      ]
    },
    {
      "cell_type": "markdown",
      "id": "8ca06210",
      "metadata": {
        "papermill": {
          "duration": 0.057774,
          "end_time": "2022-12-06T21:40:03.014894",
          "exception": false,
          "start_time": "2022-12-06T21:40:02.957120",
          "status": "completed"
        },
        "tags": [],
        "id": "8ca06210"
      },
      "source": [
        "**Forecasting Strategy: Day-by-day Recursive w/ Fixed Past**\n",
        "\n",
        "As the [tutorial](https://www.kaggle.com/code/ryanholbrook/forecasting-with-machine-learning#Multistep-Forecasting-Strategies) mentions, using the recursive strategy, we \n",
        "\n",
        "> train a single one-step model and use its forecasts to update the lag features for the next step. With the recursive method, we feed a model's 1-step forecast back in to that same model to use as a lag feature for the next forecasting step. We only need to train one model, but since errors will propagate from step to step, forecasts can be inaccurate for long horizons.\n",
        "\n",
        "\n",
        "It can also be a slow process."
      ]
    },
    {
      "cell_type": "markdown",
      "id": "2726f227",
      "metadata": {
        "papermill": {
          "duration": 0.058556,
          "end_time": "2022-12-06T21:40:03.132460",
          "exception": false,
          "start_time": "2022-12-06T21:40:03.073904",
          "status": "completed"
        },
        "tags": [],
        "id": "2726f227"
      },
      "source": [
        "## Validation"
      ]
    },
    {
      "cell_type": "code",
      "execution_count": null,
      "id": "eed07af2",
      "metadata": {
        "execution": {
          "iopub.execute_input": "2022-12-06T21:40:03.249996Z",
          "iopub.status.busy": "2022-12-06T21:40:03.249648Z",
          "iopub.status.idle": "2022-12-06T21:40:03.254231Z",
          "shell.execute_reply": "2022-12-06T21:40:03.253453Z"
        },
        "papermill": {
          "duration": 0.065155,
          "end_time": "2022-12-06T21:40:03.255768",
          "exception": false,
          "start_time": "2022-12-06T21:40:03.190613",
          "status": "completed"
        },
        "tags": [],
        "id": "eed07af2"
      },
      "outputs": [],
      "source": [
        "# initialize y_pred_combined\n",
        "\n",
        "y_pred_combined = y_fit.copy()"
      ]
    },
    {
      "cell_type": "markdown",
      "id": "1e9b4d36",
      "metadata": {
        "papermill": {
          "duration": 0.05712,
          "end_time": "2022-12-06T21:40:03.369528",
          "exception": false,
          "start_time": "2022-12-06T21:40:03.312408",
          "status": "completed"
        },
        "tags": [],
        "id": "1e9b4d36"
      },
      "source": [
        "### Recursive forecasting"
      ]
    },
    {
      "cell_type": "code",
      "execution_count": null,
      "id": "7b7af88e",
      "metadata": {
        "execution": {
          "iopub.execute_input": "2022-12-06T21:40:03.485238Z",
          "iopub.status.busy": "2022-12-06T21:40:03.484233Z",
          "iopub.status.idle": "2022-12-06T21:46:45.853714Z",
          "shell.execute_reply": "2022-12-06T21:46:45.852369Z"
        },
        "papermill": {
          "duration": 402.429346,
          "end_time": "2022-12-06T21:46:45.855726",
          "exception": false,
          "start_time": "2022-12-06T21:40:03.426380",
          "status": "completed"
        },
        "tags": [],
        "id": "7b7af88e"
      },
      "outputs": [],
      "source": [
        "# Credit: https://www.kaggle.com/code/filterjoe/time-series-bonus-lesson-unofficial?scriptVersionId=80726243&cellId=36\n",
        "\n",
        "validation_days = len(y_val)\n",
        "val_start_day = datetime.datetime(2017, 8, 1)\n",
        "val_end_day = datetime.datetime(2017, 8, 15)\n",
        "\n",
        "\n",
        "# Create time-dependence features for validation set\n",
        "# loop through forecast, one day (\"step\") at a time\n",
        "dp_for_full_X1_val_date_range = dp.out_of_sample(steps=validation_days)\n",
        "dp_for_full_X1_val_date_range.index.name = 'date'\n",
        "\n",
        "for step in range(validation_days):\n",
        "    \n",
        "    dp_steps_so_far = dp_for_full_X1_val_date_range.loc[val_start_day:val_start_day+pd.Timedelta(days=step),:]\n",
        "    X_1_combined_dp_data = pd.concat([dp.in_sample(), dp_steps_so_far])\n",
        "    X_1_val = X_1_combined_dp_data.join(X_holidays, on='date').fillna(0.0)\n",
        "    \n",
        "    X_2_combined_data = pd.concat([store_sales_train,\n",
        "                                       store_sales_valid.loc[val_start_day:val_start_day+pd.Timedelta(days=step), :]])\n",
        "    \n",
        "    X_2_val = make_X2_features(X_2_combined_data\n",
        "                                    .drop('sales', axis=1)\n",
        "                                    .stack(['store_nbr', 'family']),\n",
        "                                    model.y_resid) # preparing X2 for hybrid part 2: XGBoost\n",
        "    \n",
        "    y_pred_combined = pd.concat([y_pred_combined,\n",
        "                                     model.predict(X_1_val, X_2_val, max_lag).clip(0.0).iloc[-1:]\n",
        "                                    ])\n",
        "    y_plus_y_val = pd.concat([y_train, y_pred_combined.iloc[-(step+1):]]) # add newly predicted rows of y_pred_combined\n",
        "    model.fit1(X_1_val, y_plus_y_val, stack_cols=['store_nbr', 'family']) # fit on new combined X, y - note that fit prior to val date range will change slightly\n",
        "    model.fit2(X_2_val, max_lag, stack_cols=['store_nbr', 'family'])\n",
        "    \n",
        "    rmsle_valid = mean_squared_log_error(y_val.iloc[step:step+1], y_pred_combined.iloc[-1:]) ** 0.5\n",
        "    print(f'Validation RMSLE: {rmsle_valid:.5f}', \"for\", val_start_day+pd.Timedelta(days=step))\n",
        "    \n",
        "y_pred = y_pred_combined[val_start_day:val_end_day]\n",
        "display(y_pred)"
      ]
    },
    {
      "cell_type": "code",
      "execution_count": null,
      "id": "c7c6f099",
      "metadata": {
        "execution": {
          "iopub.execute_input": "2022-12-06T21:46:45.975701Z",
          "iopub.status.busy": "2022-12-06T21:46:45.975354Z",
          "iopub.status.idle": "2022-12-06T21:46:46.145473Z",
          "shell.execute_reply": "2022-12-06T21:46:46.144426Z"
        },
        "papermill": {
          "duration": 0.232792,
          "end_time": "2022-12-06T21:46:46.147859",
          "exception": false,
          "start_time": "2022-12-06T21:46:45.915067",
          "status": "completed"
        },
        "tags": [],
        "id": "c7c6f099"
      },
      "outputs": [],
      "source": [
        "rmsle_train = mean_squared_log_error(y_train.iloc[max_lag: , :].clip(0.0), y_fit) ** 0.5\n",
        "rmsle_valid = mean_squared_log_error(y_val.clip(0.0), y_pred) ** 0.5\n",
        "print()\n",
        "print(f'Training RMSLE: {rmsle_train:.5f}')\n",
        "print(f'Validation RMSLE: {rmsle_valid:.5f}')\n",
        "    \n",
        "y_predict = y_pred.stack(['store_nbr', 'family']).reset_index()\n",
        "y_target = y_val.stack(['store_nbr', 'family']).reset_index().copy()\n",
        "y_target.rename(columns={y_target.columns[3]:'sales'}, inplace=True)\n",
        "y_target['sales_pred'] = y_predict[0].clip(0.0) # Sales should be >= 0\n",
        "y_target['store_nbr'] = y_target['store_nbr'].astype(int)\n",
        "\n",
        "print('\\nValidation RMSLE by family')\n",
        "display(y_target.groupby('family').apply(lambda r: mean_squared_log_error(r['sales'], r['sales_pred'])))\n",
        "\n",
        "print('\\nValidation RMSLE by store')\n",
        "display(y_target.sort_values(by=\"store_nbr\").groupby('store_nbr').apply(lambda r: mean_squared_log_error(r['sales'], r['sales_pred'])))"
      ]
    },
    {
      "cell_type": "markdown",
      "id": "eddb4018",
      "metadata": {
        "papermill": {
          "duration": 0.058992,
          "end_time": "2022-12-06T21:46:46.266136",
          "exception": false,
          "start_time": "2022-12-06T21:46:46.207144",
          "status": "completed"
        },
        "tags": [],
        "id": "eddb4018"
      },
      "source": [
        "## Test Set"
      ]
    },
    {
      "cell_type": "markdown",
      "id": "f8b99a39",
      "metadata": {
        "papermill": {
          "duration": 0.059384,
          "end_time": "2022-12-06T21:46:46.384111",
          "exception": false,
          "start_time": "2022-12-06T21:46:46.324727",
          "status": "completed"
        },
        "tags": [],
        "id": "f8b99a39"
      },
      "source": [
        "Now, we repeat the entire procedure for the test set. The test set data looks like:"
      ]
    },
    {
      "cell_type": "code",
      "execution_count": null,
      "id": "58692dea",
      "metadata": {
        "execution": {
          "iopub.execute_input": "2022-12-06T21:46:46.504696Z",
          "iopub.status.busy": "2022-12-06T21:46:46.504210Z",
          "iopub.status.idle": "2022-12-06T21:46:46.513289Z",
          "shell.execute_reply": "2022-12-06T21:46:46.512453Z"
        },
        "papermill": {
          "duration": 0.071572,
          "end_time": "2022-12-06T21:46:46.514990",
          "exception": false,
          "start_time": "2022-12-06T21:46:46.443418",
          "status": "completed"
        },
        "tags": [],
        "id": "58692dea"
      },
      "outputs": [],
      "source": [
        "df_test.head()"
      ]
    },
    {
      "cell_type": "code",
      "execution_count": null,
      "id": "2f65e0e3",
      "metadata": {
        "execution": {
          "iopub.execute_input": "2022-12-06T21:46:46.634790Z",
          "iopub.status.busy": "2022-12-06T21:46:46.634439Z",
          "iopub.status.idle": "2022-12-06T21:46:46.674416Z",
          "shell.execute_reply": "2022-12-06T21:46:46.673199Z"
        },
        "papermill": {
          "duration": 0.102035,
          "end_time": "2022-12-06T21:46:46.676228",
          "exception": false,
          "start_time": "2022-12-06T21:46:46.574193",
          "status": "completed"
        },
        "tags": [],
        "id": "2f65e0e3"
      },
      "outputs": [],
      "source": [
        "store_sales_test = df_test.unstack(['store_nbr', 'family']).drop('id', axis=1)\n",
        "store_sales_test.head()"
      ]
    },
    {
      "cell_type": "markdown",
      "id": "da06a0f5",
      "metadata": {
        "papermill": {
          "duration": 0.060721,
          "end_time": "2022-12-06T21:46:46.797781",
          "exception": false,
          "start_time": "2022-12-06T21:46:46.737060",
          "status": "completed"
        },
        "tags": [],
        "id": "da06a0f5"
      },
      "source": [
        "**Retraining over entire training and validation sets.** So we start again from the combined training store sales."
      ]
    },
    {
      "cell_type": "code",
      "execution_count": null,
      "id": "e14998f7",
      "metadata": {
        "execution": {
          "iopub.execute_input": "2022-12-06T21:46:46.920549Z",
          "iopub.status.busy": "2022-12-06T21:46:46.920220Z",
          "iopub.status.idle": "2022-12-06T21:46:50.121222Z",
          "shell.execute_reply": "2022-12-06T21:46:50.120240Z"
        },
        "papermill": {
          "duration": 3.264988,
          "end_time": "2022-12-06T21:46:50.123267",
          "exception": false,
          "start_time": "2022-12-06T21:46:46.858279",
          "status": "completed"
        },
        "tags": [],
        "id": "e14998f7"
      },
      "outputs": [],
      "source": [
        "store_sales = pd.read_csv(\n",
        "    \"/content/drive/MyDrive/Formations/Openclassrooms/Projet8/train.csv\",\n",
        "    usecols=['store_nbr', 'family', 'date', 'sales', 'onpromotion'],\n",
        "    dtype={\n",
        "        'store_nbr': 'category',\n",
        "        'family': 'category',\n",
        "        'sales': 'float32',\n",
        "        'onpromotion': 'uint32', ## NEW FEATURE: To be introduced later\n",
        "    },\n",
        "    parse_dates=['date'],\n",
        "    infer_datetime_format=True,\n",
        ")\n",
        "store_sales['date'] = store_sales.date.dt.to_period('D')\n",
        "store_sales = store_sales.set_index(['store_nbr', 'family', 'date']).sort_index()\n",
        "\n",
        "store_sales = store_sales.unstack(['store_nbr', 'family']).loc['2017']\n",
        "y = store_sales.loc[:, 'sales']"
      ]
    },
    {
      "cell_type": "code",
      "execution_count": null,
      "id": "f583d549",
      "metadata": {
        "execution": {
          "iopub.execute_input": "2022-12-06T21:46:50.246928Z",
          "iopub.status.busy": "2022-12-06T21:46:50.246622Z",
          "iopub.status.idle": "2022-12-06T21:47:18.112771Z",
          "shell.execute_reply": "2022-12-06T21:47:18.111897Z"
        },
        "papermill": {
          "duration": 27.930221,
          "end_time": "2022-12-06T21:47:18.114846",
          "exception": false,
          "start_time": "2022-12-06T21:46:50.184625",
          "status": "completed"
        },
        "tags": [],
        "id": "f583d549"
      },
      "outputs": [],
      "source": [
        "# model for testing\n",
        "model_for_test = BoostedHybrid(model_1=mod_1, model_2=mod_2)\n",
        "\n",
        "# Trends/Seasonality\n",
        "# Fourier features\n",
        "fourier = CalendarFourier(freq='M', order=4) ## 2 pairs of sine/cosine curves to model monthly/biweekly seasonality\n",
        "dp_test = DeterministicProcess(\n",
        "    index=y.index,\n",
        "    constant=True,               # dummy feature for bias (y-intercept)\n",
        "    order=1,                     # cubic trend\n",
        "    seasonal=True,               # weekly seasonality (indicators)\n",
        "    additional_terms=[fourier],  # annual seasonality (fourier)\n",
        "    drop=True,                   # drop terms to avoid collinearity\n",
        ")\n",
        "\n",
        "X_1_train = dp_test.in_sample()\n",
        "\n",
        "# Seasonal indicators: Holidays\n",
        "X_1_train = X_1_train.join(X_holidays, on='date').fillna(0.0)\n",
        "\n",
        "# fitting model 1 over entire training set sales: y\n",
        "model_for_test.fit1(X_1_train, y, stack_cols=['store_nbr', 'family'])\n",
        "\n",
        "# make X_2 features based on entire store_sales\n",
        "# preparing X2 for hybrid part 2: XGBoost\n",
        "X_2_train = make_X2_features(store_sales\n",
        "                           .drop('sales', axis=1)\n",
        "                           .stack(['store_nbr', 'family']),\n",
        "                           model_for_test.y_resid)\n",
        "\n",
        "# fitting model 2 over residuals of entire training set sales\n",
        "model_for_test.fit2(X_2_train, max_lag, stack_cols=['store_nbr', 'family'])\n",
        "\n",
        "# initializing with training set fit\n",
        "y_forecast_combined = model_for_test.predict(X_1_train, X_2_train, max_lag).clip(0.0)"
      ]
    },
    {
      "cell_type": "code",
      "execution_count": null,
      "id": "abf36729",
      "metadata": {
        "execution": {
          "iopub.execute_input": "2022-12-06T21:47:18.237127Z",
          "iopub.status.busy": "2022-12-06T21:47:18.236815Z",
          "iopub.status.idle": "2022-12-06T21:55:04.265669Z",
          "shell.execute_reply": "2022-12-06T21:55:04.264536Z"
        },
        "papermill": {
          "duration": 466.152734,
          "end_time": "2022-12-06T21:55:04.327810",
          "exception": false,
          "start_time": "2022-12-06T21:47:18.175076",
          "status": "completed"
        },
        "tags": [],
        "id": "abf36729"
      },
      "outputs": [],
      "source": [
        "test_days = len(store_sales_test)\n",
        "test_start_day = datetime.datetime(2017, 8, 16)\n",
        "test_end_day = datetime.datetime(2017, 8, 31)\n",
        "\n",
        "\n",
        "# Create time-dependence features for test set\n",
        "# loop through forecast, one day (\"step\") at a time\n",
        "dp_for_full_X1_test_date_range = dp_test.out_of_sample(steps=test_days)\n",
        "dp_for_full_X1_test_date_range.index.name = 'date'\n",
        "\n",
        "for step in range(test_days):\n",
        "    \n",
        "    dp_steps_so_far = dp_for_full_X1_test_date_range.loc[test_start_day:test_start_day+pd.Timedelta(days=step),:]\n",
        "    X_1_combined_dp_data = pd.concat([dp_test.in_sample(), dp_steps_so_far])\n",
        "    X_1_test = X_1_combined_dp_data.join(X_holidays, on='date').fillna(0.0)\n",
        "    \n",
        "    X_2_combined_data = pd.concat([store_sales,\n",
        "                                       store_sales_test.loc[test_start_day:test_start_day+pd.Timedelta(days=step), :]])\n",
        "    \n",
        "    X_2_test = make_X2_features(X_2_combined_data\n",
        "                                    .drop('sales', axis=1)\n",
        "                                    .stack(['store_nbr', 'family']),\n",
        "                                    model_for_test.y_resid) # preparing X2 for hybrid part 2: XGBoost\n",
        "    \n",
        "    y_forecast_combined = pd.concat([y_forecast_combined,\n",
        "                                     model_for_test.predict(X_1_test, X_2_test, max_lag).clip(0.0).iloc[-1:]\n",
        "                                    ])\n",
        "    y_plus_y_test = pd.concat([y, y_forecast_combined.iloc[-(step+1):]]) # add newly predicted rows of y_forecast_combined\n",
        "    model_for_test.fit1(X_1_test, y_plus_y_test, stack_cols=['store_nbr', 'family']) # fit on new combined X, y - note that fit prior to test date range will change slightly\n",
        "    model_for_test.fit2(X_2_test, max_lag, stack_cols=['store_nbr', 'family'])\n",
        "    \n",
        "    print(\"finished forecast for\", test_start_day+pd.Timedelta(days=step))"
      ]
    },
    {
      "cell_type": "code",
      "execution_count": null,
      "id": "5e7d2e6b",
      "metadata": {
        "execution": {
          "iopub.execute_input": "2022-12-06T21:55:04.449909Z",
          "iopub.status.busy": "2022-12-06T21:55:04.448888Z",
          "iopub.status.idle": "2022-12-06T21:55:04.458429Z",
          "shell.execute_reply": "2022-12-06T21:55:04.457814Z"
        },
        "papermill": {
          "duration": 0.073025,
          "end_time": "2022-12-06T21:55:04.460508",
          "exception": false,
          "start_time": "2022-12-06T21:55:04.387483",
          "status": "completed"
        },
        "tags": [],
        "id": "5e7d2e6b"
      },
      "outputs": [],
      "source": [
        "y_forecast = pd.DataFrame(y_forecast_combined[test_start_day:test_end_day].clip(0.0), columns=y.columns)"
      ]
    },
    {
      "cell_type": "markdown",
      "id": "82089f99",
      "metadata": {
        "papermill": {
          "duration": 0.063263,
          "end_time": "2022-12-06T21:55:04.587131",
          "exception": false,
          "start_time": "2022-12-06T21:55:04.523868",
          "status": "completed"
        },
        "tags": [],
        "id": "82089f99"
      },
      "source": [
        "### Fifth submission: Hybrid time and (complete) serial dependence modelling + recursive forecasting"
      ]
    },
    {
      "cell_type": "code",
      "execution_count": null,
      "id": "7ec7fb69",
      "metadata": {
        "execution": {
          "iopub.execute_input": "2022-12-06T21:55:04.715501Z",
          "iopub.status.busy": "2022-12-06T21:55:04.714606Z",
          "iopub.status.idle": "2022-12-06T21:55:05.035981Z",
          "shell.execute_reply": "2022-12-06T21:55:05.035286Z"
        },
        "papermill": {
          "duration": 0.387367,
          "end_time": "2022-12-06T21:55:05.037979",
          "exception": false,
          "start_time": "2022-12-06T21:55:04.650612",
          "status": "completed"
        },
        "tags": [],
        "id": "7ec7fb69"
      },
      "outputs": [],
      "source": [
        "# making submission predictions\n",
        "\n",
        "y_submit = y_forecast.stack(['store_nbr', 'family'])\n",
        "y_submit = pd.DataFrame(y_submit, columns=['sales'])\n",
        "y_submit = y_submit.join(df_test.id).reindex(columns=['id', 'sales'])\n",
        "y_submit.to_csv('submission_hybrid_recursive.csv', index=False)"
      ]
    },
    {
      "cell_type": "markdown",
      "id": "a21303e1",
      "metadata": {
        "papermill": {
          "duration": 0.062656,
          "end_time": "2022-12-06T21:55:05.163373",
          "exception": false,
          "start_time": "2022-12-06T21:55:05.100717",
          "status": "completed"
        },
        "tags": [],
        "id": "a21303e1"
      },
      "source": [
        "# Our final model:\n",
        "* restricts our training data to 2017\n",
        "* models time-dependence through trends, monthly and bi-weekly Fourier features, day-of-the-week seasonal indicators and holiday features using a linear algorithm (LinearRegression)\n",
        "* models serial-dependence lagged series of residuals, lead/lag series of leading indicators (onpromotion) and other statistical features using a non-linear algorithm (XGBoost)\n",
        "* validates using the last 15 days of the full training set\n",
        "* forecasts for the test set dates using a recursive strategy \n",
        "\n",
        "## [Final Public Score: 0.50109](https://www.kaggle.com/code/abhirupghosh184098/ts-forecasting-a-beginner-s-handbook?scriptVersionId=113116759)"
      ]
    },
    {
      "cell_type": "markdown",
      "id": "194b93b7",
      "metadata": {
        "papermill": {
          "duration": 0.061269,
          "end_time": "2022-12-06T21:55:05.286799",
          "exception": false,
          "start_time": "2022-12-06T21:55:05.225530",
          "status": "completed"
        },
        "tags": [],
        "id": "194b93b7"
      },
      "source": [
        "# The future\n",
        "\n",
        "Through this notebook, I tried focussed on aspects of a time-series and how they influence forecasting. I did not delve deep into core machine learning concepts like data cleaning, data wrangling, feature engineering and evaluation of the algorithms themselves. As I go through the Kaggle landscape, I have tried tackling each issue separately, so that each solution remains a dominant resource on only one aspect of machine learning. Having said that, there are a few things one could do to improve on the analysis presented here:\n",
        "\n",
        "* include additional information provided in this competition itself, eg, oil prices, transactions data and store details\n",
        "* engineering features other than those directly related to aspects of a time series\n",
        "* focus on modelling by exploring the best choice of parameters (through hyper-parameter tuning) or evaluating the models themselves by seeing which model is best validated for our time-series forecasting\n",
        "* and finally, use forecasting strategies other than the recursive strategy we have used here.\n",
        "\n",
        "I hope you had fun reading this; and see you soon in another notebook. :)"
      ]
    }
  ],
  "metadata": {
    "kernelspec": {
      "display_name": "Python 3",
      "language": "python",
      "name": "python3"
    },
    "language_info": {
      "codemirror_mode": {
        "name": "ipython",
        "version": 3
      },
      "file_extension": ".py",
      "mimetype": "text/x-python",
      "name": "python",
      "nbconvert_exporter": "python",
      "pygments_lexer": "ipython3",
      "version": "3.7.12"
    },
    "papermill": {
      "default_parameters": {},
      "duration": 989.347679,
      "end_time": "2022-12-06T21:55:06.070934",
      "environment_variables": {},
      "exception": null,
      "input_path": "__notebook__.ipynb",
      "output_path": "__notebook__.ipynb",
      "parameters": {},
      "start_time": "2022-12-06T21:38:36.723255",
      "version": "2.3.4"
    },
    "colab": {
      "provenance": [],
      "collapsed_sections": [
        "5881967c",
        "fd032477",
        "292e1a6f",
        "6347e2bd",
        "d5e5a813",
        "27c1e88f",
        "1bd8a9dd",
        "a066ab54",
        "08ce1295",
        "46b74ed1",
        "8a4d797a",
        "b6873c49",
        "28929a5c",
        "1ad9217f",
        "1f9c5c9b",
        "4094d5e6",
        "3b9d3160",
        "8a2c46b8",
        "c2d1f8a2",
        "724da60e",
        "eb324894",
        "d40ff988",
        "faab72de",
        "48a2e5d7",
        "5f81dfe4",
        "56640a19",
        "23499732",
        "db94ccd1",
        "a50cf182",
        "ab207f81",
        "cd0f922d",
        "aa714997",
        "fc3a41b9",
        "cbb45ed8",
        "d10b39e3",
        "1004d878",
        "2cfca2bf",
        "3675e5ee",
        "93788369",
        "cd4a1fac",
        "1e9f56cf",
        "2274c1bb",
        "f656190b",
        "fafdaeb1",
        "c2885d36",
        "5c135323",
        "adb829fd",
        "64a5df70",
        "4eb8b509",
        "a65a40cc",
        "2726f227",
        "1e9b4d36",
        "82089f99"
      ],
      "include_colab_link": true
    }
  },
  "nbformat": 4,
  "nbformat_minor": 5
}
